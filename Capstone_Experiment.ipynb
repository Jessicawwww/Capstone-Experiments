{
  "cells": [
    {
      "cell_type": "markdown",
      "metadata": {
        "colab_type": "text",
        "id": "view-in-github"
      },
      "source": [
        "<a href=\"https://colab.research.google.com/github/Jessicawwww/Capstone-Experiments/blob/main/Capstone_Experiment.ipynb\" target=\"_parent\"><img src=\"https://colab.research.google.com/assets/colab-badge.svg\" alt=\"Open In Colab\"/></a>"
      ]
    },
    {
      "cell_type": "code",
      "execution_count": 121,
      "metadata": {
        "colab": {
          "base_uri": "https://localhost:8080/"
        },
        "id": "Hkngu1BpfzAy",
        "outputId": "7d9e4b97-41b8-45b5-ba63-7736a34b03e8"
      },
      "outputs": [],
      "source": [
        "#Mounting Google Drive onto virtual environment\n",
        "# from google.colab import drive\n",
        "# drive.mount('/content/drive')\n",
        "# #Installing Base Packages\n",
        "# !pip3 install utils\n",
        "# !pip3 install numpy==1.17.0\n",
        "# !pip3 install scipy==1.4.1"
      ]
    },
    {
      "cell_type": "code",
      "execution_count": 122,
      "metadata": {
        "colab": {
          "base_uri": "https://localhost:8080/"
        },
        "id": "pdfcG0gGf4X3",
        "outputId": "b9d14e26-3bbb-41f6-a54e-78c60cc3d785"
      },
      "outputs": [],
      "source": [
        "#/content/drive/My Drive/ gets to your drive. \n",
        "# %cd /content/drive/My Drive/Capstone TCS/final"
      ]
    },
    {
      "cell_type": "code",
      "execution_count": 123,
      "metadata": {
        "colab": {
          "base_uri": "https://localhost:8080/"
        },
        "id": "_P5ckwHBgdzh",
        "outputId": "c54fc3b3-70b6-409c-96f6-8c11697ba702"
      },
      "outputs": [],
      "source": [
        "# %ls"
      ]
    },
    {
      "cell_type": "markdown",
      "metadata": {
        "id": "n5JPQfDGfWpt"
      },
      "source": [
        "## EDA (to be continued)"
      ]
    },
    {
      "cell_type": "code",
      "execution_count": 124,
      "metadata": {
        "id": "7HNsqwlrfWpv"
      },
      "outputs": [],
      "source": [
        "import pandas as pd\n",
        "import glob\n",
        "\n",
        "schema = {\n",
        "    'song_hotttnesss': float,\n",
        "    'artist_familiarity': float,\n",
        "    'artist_hotttnesss': float,\n",
        "    'artist_id': str,\n",
        "    'artist_latitude': float,\n",
        "    'artist_location': str,\n",
        "    'artist_longitude': float,\n",
        "    'artist_name': str,\n",
        "    'title': str,\n",
        "    'danceability': float,\n",
        "    'duration': float,\n",
        "    'end_of_fade_in': float,\n",
        "    'energy': float,\n",
        "    'key': float,\n",
        "    'key_confidence': float,\n",
        "    'loudness': float,\n",
        "    'mode': float,\n",
        "    'mode_confidence': float,\n",
        "    'start_of_fade_out': float,\n",
        "    'tempo': float,\n",
        "    'time_signature': float,\n",
        "    'time_signature_confidence': float,\n",
        "    'artist_terms': str,\n",
        "    'artist_terms_freq': str,\n",
        "    'artist_terms_weight': str,\n",
        "    'year': float\n",
        "}\n",
        "\n",
        "# read each CSV file into a separate DataFrame, and concatenate them\n",
        "cols=list(schema.keys())\n",
        "temp=[]\n",
        "for csv_file in glob.glob('/Users/olivia/Downloads/final/*.csv'):\n",
        "    temp_df = pd.read_csv(csv_file,names=cols)\n",
        "    temp.append(temp_df)\n",
        "    \n",
        "df = pd.concat(temp, ignore_index=True)"
      ]
    },
    {
      "cell_type": "code",
      "execution_count": 125,
      "metadata": {
        "colab": {
          "base_uri": "https://localhost:8080/"
        },
        "id": "BIuvYVOMfWpw",
        "outputId": "b6ac30c9-7b0e-4efe-f655-2e3c4097195a"
      },
      "outputs": [
        {
          "data": {
            "text/plain": [
              "581965"
            ]
          },
          "execution_count": 125,
          "metadata": {},
          "output_type": "execute_result"
        }
      ],
      "source": [
        "len(df)"
      ]
    },
    {
      "cell_type": "code",
      "execution_count": 126,
      "metadata": {
        "colab": {
          "base_uri": "https://localhost:8080/"
        },
        "id": "XpNi1Ap_fWpw",
        "outputId": "fcc33597-19bf-4fd4-df81-25228c2dcaa0"
      },
      "outputs": [
        {
          "data": {
            "text/plain": [
              "Index(['song_hotttnesss', 'artist_familiarity', 'artist_hotttnesss',\n",
              "       'artist_id', 'artist_latitude', 'artist_location', 'artist_longitude',\n",
              "       'artist_name', 'title', 'danceability', 'duration', 'end_of_fade_in',\n",
              "       'energy', 'key', 'key_confidence', 'loudness', 'mode',\n",
              "       'mode_confidence', 'start_of_fade_out', 'tempo', 'time_signature',\n",
              "       'time_signature_confidence', 'artist_terms', 'artist_terms_freq',\n",
              "       'artist_terms_weight', 'year'],\n",
              "      dtype='object')"
            ]
          },
          "execution_count": 126,
          "metadata": {},
          "output_type": "execute_result"
        }
      ],
      "source": [
        "df.columns"
      ]
    },
    {
      "cell_type": "code",
      "execution_count": 127,
      "metadata": {
        "colab": {
          "base_uri": "https://localhost:8080/"
        },
        "id": "NyeBqmGbfWpx",
        "outputId": "a6e519a3-1d4b-4162-94a2-a30da2058e4d"
      },
      "outputs": [
        {
          "data": {
            "text/plain": [
              "0.0    581965\n",
              "Name: danceability, dtype: int64"
            ]
          },
          "execution_count": 127,
          "metadata": {},
          "output_type": "execute_result"
        }
      ],
      "source": [
        "df.danceability.value_counts()"
      ]
    },
    {
      "cell_type": "code",
      "execution_count": 128,
      "metadata": {
        "colab": {
          "base_uri": "https://localhost:8080/"
        },
        "id": "kaR_hRoFfWpx",
        "outputId": "4215f643-e670-46e6-d7df-a551fc91fca2"
      },
      "outputs": [
        {
          "data": {
            "text/plain": [
              "0.0    581965\n",
              "Name: energy, dtype: int64"
            ]
          },
          "execution_count": 128,
          "metadata": {},
          "output_type": "execute_result"
        }
      ],
      "source": [
        "df.energy.value_counts()"
      ]
    },
    {
      "cell_type": "code",
      "execution_count": 129,
      "metadata": {
        "id": "Zhzw9dvzfWpx"
      },
      "outputs": [],
      "source": [
        "# drop empty features\n",
        "df.drop(['danceability','energy'],axis=1,inplace=True)"
      ]
    },
    {
      "cell_type": "code",
      "execution_count": 130,
      "metadata": {
        "colab": {
          "base_uri": "https://localhost:8080/",
          "height": 577
        },
        "id": "mA60R0P6fWpx",
        "outputId": "d61753e0-20cb-49a6-944d-d2889de03fe6"
      },
      "outputs": [
        {
          "data": {
            "text/html": [
              "<div>\n",
              "<style scoped>\n",
              "    .dataframe tbody tr th:only-of-type {\n",
              "        vertical-align: middle;\n",
              "    }\n",
              "\n",
              "    .dataframe tbody tr th {\n",
              "        vertical-align: top;\n",
              "    }\n",
              "\n",
              "    .dataframe thead th {\n",
              "        text-align: right;\n",
              "    }\n",
              "</style>\n",
              "<table border=\"1\" class=\"dataframe\">\n",
              "  <thead>\n",
              "    <tr style=\"text-align: right;\">\n",
              "      <th></th>\n",
              "      <th>song_hotttnesss</th>\n",
              "      <th>artist_familiarity</th>\n",
              "      <th>artist_hotttnesss</th>\n",
              "      <th>artist_id</th>\n",
              "      <th>artist_latitude</th>\n",
              "      <th>artist_location</th>\n",
              "      <th>artist_longitude</th>\n",
              "      <th>artist_name</th>\n",
              "      <th>title</th>\n",
              "      <th>duration</th>\n",
              "      <th>...</th>\n",
              "      <th>mode</th>\n",
              "      <th>mode_confidence</th>\n",
              "      <th>start_of_fade_out</th>\n",
              "      <th>tempo</th>\n",
              "      <th>time_signature</th>\n",
              "      <th>time_signature_confidence</th>\n",
              "      <th>artist_terms</th>\n",
              "      <th>artist_terms_freq</th>\n",
              "      <th>artist_terms_weight</th>\n",
              "      <th>year</th>\n",
              "    </tr>\n",
              "  </thead>\n",
              "  <tbody>\n",
              "    <tr>\n",
              "      <th>0</th>\n",
              "      <td>0.303848</td>\n",
              "      <td>0.368128</td>\n",
              "      <td>0.249512</td>\n",
              "      <td>AREZLGG122988EE759</td>\n",
              "      <td>NaN</td>\n",
              "      <td>NaN</td>\n",
              "      <td>NaN</td>\n",
              "      <td>The Williams Sisters</td>\n",
              "      <td>My Change (Power In The House Album Version)</td>\n",
              "      <td>268.14649</td>\n",
              "      <td>...</td>\n",
              "      <td>1</td>\n",
              "      <td>0.197</td>\n",
              "      <td>268.146</td>\n",
              "      <td>81.547</td>\n",
              "      <td>4</td>\n",
              "      <td>0.674</td>\n",
              "      <td>['vocal jazz', 'jazz', 'beat', 'gospel', 'cont...</td>\n",
              "      <td>[1.0, 1.0, 0.6528546524674467, 0.6054448608314...</td>\n",
              "      <td>[1.0, 0.7918479579930295, 0.7620553145963861, ...</td>\n",
              "      <td>0</td>\n",
              "    </tr>\n",
              "    <tr>\n",
              "      <th>1</th>\n",
              "      <td>0.567184</td>\n",
              "      <td>0.703348</td>\n",
              "      <td>0.449053</td>\n",
              "      <td>AROCBZZ11E2835D652</td>\n",
              "      <td>NaN</td>\n",
              "      <td>NaN</td>\n",
              "      <td>NaN</td>\n",
              "      <td>Small Faces</td>\n",
              "      <td>Get Yourself Together</td>\n",
              "      <td>135.91465</td>\n",
              "      <td>...</td>\n",
              "      <td>1</td>\n",
              "      <td>0.307</td>\n",
              "      <td>126.537</td>\n",
              "      <td>127.584</td>\n",
              "      <td>4</td>\n",
              "      <td>0.020</td>\n",
              "      <td>[\"rock 'n roll\", 'blues-rock', 'british invasi...</td>\n",
              "      <td>[0.9441659379777478, 0.9420700962342853, 0.942...</td>\n",
              "      <td>[1.0, 0.9984230454969295, 0.9984230454969295, ...</td>\n",
              "      <td>1967</td>\n",
              "    </tr>\n",
              "    <tr>\n",
              "      <th>2</th>\n",
              "      <td>0.554384</td>\n",
              "      <td>0.711780</td>\n",
              "      <td>0.488252</td>\n",
              "      <td>ARH7O4C1187B9A5837</td>\n",
              "      <td>NaN</td>\n",
              "      <td>NaN</td>\n",
              "      <td>NaN</td>\n",
              "      <td>DJ Krush &amp; Toshinori Kondo</td>\n",
              "      <td>Shoh-ka</td>\n",
              "      <td>279.90159</td>\n",
              "      <td>...</td>\n",
              "      <td>0</td>\n",
              "      <td>0.000</td>\n",
              "      <td>267.778</td>\n",
              "      <td>59.910</td>\n",
              "      <td>4</td>\n",
              "      <td>0.197</td>\n",
              "      <td>['trip hop', 'hip hop', 'rock', 'experimental'...</td>\n",
              "      <td>[0.943964879615989, 1.0, 0.9438253240383628, 0...</td>\n",
              "      <td>[1.0, 0.9137318136248044, 0.7702737106183133, ...</td>\n",
              "      <td>0</td>\n",
              "    </tr>\n",
              "    <tr>\n",
              "      <th>3</th>\n",
              "      <td>0.000000</td>\n",
              "      <td>0.493794</td>\n",
              "      <td>0.453028</td>\n",
              "      <td>ARRU7ZK1187B9982E0</td>\n",
              "      <td>40.71455</td>\n",
              "      <td>NYC/London, New York</td>\n",
              "      <td>-74.00712</td>\n",
              "      <td>Evgeny Kissin</td>\n",
              "      <td>Piano Sonata in E-flat Major_ Hob. XVI: 52/I. ...</td>\n",
              "      <td>465.60608</td>\n",
              "      <td>...</td>\n",
              "      <td>1</td>\n",
              "      <td>0.635</td>\n",
              "      <td>457.079</td>\n",
              "      <td>85.888</td>\n",
              "      <td>1</td>\n",
              "      <td>0.000</td>\n",
              "      <td>['easy listening', 'classical', 'romantic', 'r...</td>\n",
              "      <td>[0.9579711470961191, 1.0, 0.8283620545547044, ...</td>\n",
              "      <td>[1.0, 0.9847096528635128, 0.9248993989584334, ...</td>\n",
              "      <td>0</td>\n",
              "    </tr>\n",
              "    <tr>\n",
              "      <th>4</th>\n",
              "      <td>0.558244</td>\n",
              "      <td>0.533311</td>\n",
              "      <td>0.409425</td>\n",
              "      <td>AR7Q6341187B9B2409</td>\n",
              "      <td>NaN</td>\n",
              "      <td>NaN</td>\n",
              "      <td>NaN</td>\n",
              "      <td>Regulations</td>\n",
              "      <td>Laugh At Me (Ha Ha Ha)</td>\n",
              "      <td>108.48608</td>\n",
              "      <td>...</td>\n",
              "      <td>1</td>\n",
              "      <td>0.379</td>\n",
              "      <td>108.486</td>\n",
              "      <td>200.162</td>\n",
              "      <td>1</td>\n",
              "      <td>0.021</td>\n",
              "      <td>['straight edge', 'viking metal', 'peace punk'...</td>\n",
              "      <td>[0.814577968466967, 0.7651964539938442, 0.7651...</td>\n",
              "      <td>[1.0, 0.9638619176548919, 0.9638619176548919, ...</td>\n",
              "      <td>2005</td>\n",
              "    </tr>\n",
              "  </tbody>\n",
              "</table>\n",
              "<p>5 rows × 24 columns</p>\n",
              "</div>"
            ],
            "text/plain": [
              "   song_hotttnesss  artist_familiarity  artist_hotttnesss           artist_id  \\\n",
              "0         0.303848            0.368128           0.249512  AREZLGG122988EE759   \n",
              "1         0.567184            0.703348           0.449053  AROCBZZ11E2835D652   \n",
              "2         0.554384            0.711780           0.488252  ARH7O4C1187B9A5837   \n",
              "3         0.000000            0.493794           0.453028  ARRU7ZK1187B9982E0   \n",
              "4         0.558244            0.533311           0.409425  AR7Q6341187B9B2409   \n",
              "\n",
              "   artist_latitude       artist_location  artist_longitude  \\\n",
              "0              NaN                   NaN               NaN   \n",
              "1              NaN                   NaN               NaN   \n",
              "2              NaN                   NaN               NaN   \n",
              "3         40.71455  NYC/London, New York         -74.00712   \n",
              "4              NaN                   NaN               NaN   \n",
              "\n",
              "                  artist_name  \\\n",
              "0        The Williams Sisters   \n",
              "1                 Small Faces   \n",
              "2  DJ Krush & Toshinori Kondo   \n",
              "3               Evgeny Kissin   \n",
              "4                 Regulations   \n",
              "\n",
              "                                               title   duration  ...  mode  \\\n",
              "0       My Change (Power In The House Album Version)  268.14649  ...     1   \n",
              "1                              Get Yourself Together  135.91465  ...     1   \n",
              "2                                            Shoh-ka  279.90159  ...     0   \n",
              "3  Piano Sonata in E-flat Major_ Hob. XVI: 52/I. ...  465.60608  ...     1   \n",
              "4                             Laugh At Me (Ha Ha Ha)  108.48608  ...     1   \n",
              "\n",
              "   mode_confidence  start_of_fade_out    tempo  time_signature  \\\n",
              "0            0.197            268.146   81.547               4   \n",
              "1            0.307            126.537  127.584               4   \n",
              "2            0.000            267.778   59.910               4   \n",
              "3            0.635            457.079   85.888               1   \n",
              "4            0.379            108.486  200.162               1   \n",
              "\n",
              "   time_signature_confidence  \\\n",
              "0                      0.674   \n",
              "1                      0.020   \n",
              "2                      0.197   \n",
              "3                      0.000   \n",
              "4                      0.021   \n",
              "\n",
              "                                        artist_terms  \\\n",
              "0  ['vocal jazz', 'jazz', 'beat', 'gospel', 'cont...   \n",
              "1  [\"rock 'n roll\", 'blues-rock', 'british invasi...   \n",
              "2  ['trip hop', 'hip hop', 'rock', 'experimental'...   \n",
              "3  ['easy listening', 'classical', 'romantic', 'r...   \n",
              "4  ['straight edge', 'viking metal', 'peace punk'...   \n",
              "\n",
              "                                   artist_terms_freq  \\\n",
              "0  [1.0, 1.0, 0.6528546524674467, 0.6054448608314...   \n",
              "1  [0.9441659379777478, 0.9420700962342853, 0.942...   \n",
              "2  [0.943964879615989, 1.0, 0.9438253240383628, 0...   \n",
              "3  [0.9579711470961191, 1.0, 0.8283620545547044, ...   \n",
              "4  [0.814577968466967, 0.7651964539938442, 0.7651...   \n",
              "\n",
              "                                 artist_terms_weight  year  \n",
              "0  [1.0, 0.7918479579930295, 0.7620553145963861, ...     0  \n",
              "1  [1.0, 0.9984230454969295, 0.9984230454969295, ...  1967  \n",
              "2  [1.0, 0.9137318136248044, 0.7702737106183133, ...     0  \n",
              "3  [1.0, 0.9847096528635128, 0.9248993989584334, ...     0  \n",
              "4  [1.0, 0.9638619176548919, 0.9638619176548919, ...  2005  \n",
              "\n",
              "[5 rows x 24 columns]"
            ]
          },
          "execution_count": 130,
          "metadata": {},
          "output_type": "execute_result"
        }
      ],
      "source": [
        "df.head()"
      ]
    },
    {
      "cell_type": "code",
      "execution_count": 131,
      "metadata": {
        "colab": {
          "base_uri": "https://localhost:8080/"
        },
        "id": "tNdA4erQfWpy",
        "outputId": "c6932d7f-372d-45a3-dcac-d9a8b2bbd933",
        "scrolled": false
      },
      "outputs": [
        {
          "name": "stdout",
          "output_type": "stream",
          "text": [
            "Number of NaN values in column 'song_hotttnesss': 0\n",
            "Number of NaN values in column 'artist_familiarity': 54\n",
            "Number of NaN values in column 'artist_hotttnesss': 0\n",
            "Number of NaN values in column 'artist_id': 0\n",
            "Number of NaN values in column 'artist_latitude': 369135\n",
            "Number of NaN values in column 'artist_location': 269325\n",
            "Number of NaN values in column 'artist_longitude': 369135\n",
            "Number of NaN values in column 'artist_name': 0\n",
            "Number of NaN values in column 'title': 2\n",
            "Number of NaN values in column 'duration': 0\n",
            "Number of NaN values in column 'end_of_fade_in': 0\n",
            "Number of NaN values in column 'key': 0\n",
            "Number of NaN values in column 'key_confidence': 0\n",
            "Number of NaN values in column 'loudness': 0\n",
            "Number of NaN values in column 'mode': 0\n",
            "Number of NaN values in column 'mode_confidence': 0\n",
            "Number of NaN values in column 'start_of_fade_out': 0\n",
            "Number of NaN values in column 'tempo': 0\n",
            "Number of NaN values in column 'time_signature': 0\n",
            "Number of NaN values in column 'time_signature_confidence': 0\n",
            "Number of NaN values in column 'artist_terms': 0\n",
            "Number of NaN values in column 'artist_terms_freq': 0\n",
            "Number of NaN values in column 'artist_terms_weight': 0\n",
            "Number of NaN values in column 'year': 0\n"
          ]
        }
      ],
      "source": [
        "for col in df.columns:\n",
        "    num_nans = df[col].isnull().sum()\n",
        "    print(f\"Number of NaN values in column '{col}': {num_nans}\")"
      ]
    },
    {
      "cell_type": "markdown",
      "metadata": {
        "id": "80hVAzSOfWpy"
      },
      "source": [
        "We define a song to be popular if its song_hotttnesss value is above average,and assign a label called popularity"
      ]
    },
    {
      "cell_type": "code",
      "execution_count": 132,
      "metadata": {
        "id": "0hXMk7skfWpy"
      },
      "outputs": [],
      "source": [
        "import numpy as np\n",
        "pop_avg=np.mean(df['song_hotttnesss'])\n",
        "df['popularity']= df.song_hotttnesss.map(lambda x: 1 if x > pop_avg else 0)"
      ]
    },
    {
      "cell_type": "markdown",
      "metadata": {
        "id": "QcmMzvdgfWpy"
      },
      "source": [
        "**Here is one way to split the data if you want a pre/post deploy differentiation**"
      ]
    },
    {
      "cell_type": "code",
      "execution_count": 133,
      "metadata": {
        "id": "ykRF9GQqfWpy"
      },
      "outputs": [],
      "source": [
        "# define the three columns to split by\n",
        "split_cols = ['artist_latitude', 'artist_longitude']\n",
        "\n",
        "\n",
        "# Split the dataframe into two parts based on the null values in split_cols\n",
        "df_notnull = df[df[split_cols].notnull().all(axis=1)]\n",
        "df_null = df[~df[split_cols].notnull().all(axis=1)]"
      ]
    },
    {
      "cell_type": "code",
      "execution_count": 134,
      "metadata": {
        "colab": {
          "base_uri": "https://localhost:8080/"
        },
        "id": "1VO0TKrUfWpy",
        "outputId": "3599488b-6faf-4bed-f938-06dfc656362e"
      },
      "outputs": [
        {
          "data": {
            "text/plain": [
              "369135"
            ]
          },
          "execution_count": 134,
          "metadata": {},
          "output_type": "execute_result"
        }
      ],
      "source": [
        "len(df_null)"
      ]
    },
    {
      "cell_type": "code",
      "execution_count": 135,
      "metadata": {
        "colab": {
          "base_uri": "https://localhost:8080/"
        },
        "id": "H1Y3JW2hfWpz",
        "outputId": "7287e3b9-efc2-488f-c03a-2999e74ad71d"
      },
      "outputs": [
        {
          "data": {
            "text/plain": [
              "212830"
            ]
          },
          "execution_count": 135,
          "metadata": {},
          "output_type": "execute_result"
        }
      ],
      "source": [
        "len(df_notnull)"
      ]
    },
    {
      "cell_type": "code",
      "execution_count": 136,
      "metadata": {
        "colab": {
          "base_uri": "https://localhost:8080/"
        },
        "id": "NM9QLAUkfWpz",
        "outputId": "dd3c5cf8-894a-4ebc-8734-57245fb8a27d"
      },
      "outputs": [
        {
          "data": {
            "text/plain": [
              "Index(['song_hotttnesss', 'artist_familiarity', 'artist_hotttnesss',\n",
              "       'artist_id', 'artist_latitude', 'artist_location', 'artist_longitude',\n",
              "       'artist_name', 'title', 'duration', 'end_of_fade_in', 'key',\n",
              "       'key_confidence', 'loudness', 'mode', 'mode_confidence',\n",
              "       'start_of_fade_out', 'tempo', 'time_signature',\n",
              "       'time_signature_confidence', 'artist_terms', 'artist_terms_freq',\n",
              "       'artist_terms_weight', 'year', 'popularity'],\n",
              "      dtype='object')"
            ]
          },
          "execution_count": 136,
          "metadata": {},
          "output_type": "execute_result"
        }
      ],
      "source": [
        "df_notnull.columns"
      ]
    },
    {
      "cell_type": "code",
      "execution_count": 137,
      "metadata": {
        "id": "LzqwJ3ZmfWpz"
      },
      "outputs": [],
      "source": [
        "labels = ['artist_familiarity', 'artist_hotttnesss', 'duration', 'end_of_fade_in', 'key', \n",
        "            'key_confidence', 'loudness', 'mode', 'mode_confidence', 'start_of_fade_out', 'tempo', \n",
        "            'time_signature', 'time_signature_confidence','year', 'artist_latitude', 'artist_longitude','popularity']"
      ]
    },
    {
      "cell_type": "code",
      "execution_count": 138,
      "metadata": {
        "colab": {
          "base_uri": "https://localhost:8080/"
        },
        "id": "CUlIGocrfWpz",
        "outputId": "ed3469ae-2025-455f-e420-1f58a37d0916"
      },
      "outputs": [
        {
          "name": "stderr",
          "output_type": "stream",
          "text": [
            "/var/folders/r4/8c5npk_d75s295cb1sgpsb3c0000gn/T/ipykernel_32002/1322674228.py:4: SettingWithCopyWarning: \n",
            "A value is trying to be set on a copy of a slice from a DataFrame.\n",
            "Try using .loc[row_indexer,col_indexer] = value instead\n",
            "\n",
            "See the caveats in the documentation: https://pandas.pydata.org/pandas-docs/stable/user_guide/indexing.html#returning-a-view-versus-a-copy\n",
            "  post_data[['artist_latitude', 'artist_longitude']] = post_data[['artist_latitude', 'artist_longitude']].fillna(0)\n"
          ]
        }
      ],
      "source": [
        "#Drop 'artist_familiarity' NA\n",
        "pre_data = df_notnull[labels]\n",
        "post_data = df_null[labels]\n",
        "post_data[['artist_latitude', 'artist_longitude']] = post_data[['artist_latitude', 'artist_longitude']].fillna(0)\n",
        "pre_data = pre_data.dropna()\n",
        "post_data = post_data.dropna()"
      ]
    },
    {
      "cell_type": "code",
      "execution_count": 139,
      "metadata": {
        "colab": {
          "base_uri": "https://localhost:8080/"
        },
        "id": "IjMPW6qtfWpz",
        "outputId": "d188b3f1-e104-4d08-de32-f5dcb92f57c5"
      },
      "outputs": [
        {
          "data": {
            "text/plain": [
              "17"
            ]
          },
          "execution_count": 139,
          "metadata": {},
          "output_type": "execute_result"
        }
      ],
      "source": [
        "len(labels)"
      ]
    },
    {
      "cell_type": "code",
      "execution_count": 140,
      "metadata": {
        "id": "D3RXfKWApthH"
      },
      "outputs": [],
      "source": [
        "import matplotlib.pyplot as plt"
      ]
    },
    {
      "cell_type": "code",
      "execution_count": 141,
      "metadata": {
        "colab": {
          "base_uri": "https://localhost:8080/",
          "height": 1000
        },
        "id": "5ANI6PuGfWpz",
        "outputId": "b612ec25-0764-4bd6-f435-3a3c58ec80c0",
        "scrolled": false
      },
      "outputs": [
        {
          "data": {
            "image/png": "[encoded data removed]",
            "text/plain": [
              "<Figure size 300x200 with 1 Axes>"
            ]
          },
          "metadata": {},
          "output_type": "display_data"
        },
        {
          "data": {
            "image/png": "[encoded data removed]",
            "text/plain": [
              "<Figure size 300x200 with 1 Axes>"
            ]
          },
          "metadata": {},
          "output_type": "display_data"
        },
        {
          "data": {
            "image/png": "[encoded data removed]",
            "text/plain": [
              "<Figure size 300x200 with 1 Axes>"
            ]
          },
          "metadata": {},
          "output_type": "display_data"
        },
        {
          "data": {
            "image/png": "[encoded data removed]",
            "text/plain": [
              "<Figure size 300x200 with 1 Axes>"
            ]
          },
          "metadata": {},
          "output_type": "display_data"
        },
        {
          "data": {
            "image/png": "[encoded data removed]",
            "text/plain": [
              "<Figure size 300x200 with 1 Axes>"
            ]
          },
          "metadata": {},
          "output_type": "display_data"
        },
        {
          "data": {
            "image/png": "[encoded data removed]",
            "text/plain": [
              "<Figure size 300x200 with 1 Axes>"
            ]
          },
          "metadata": {},
          "output_type": "display_data"
        },
        {
          "data": {
            "image/png": "[encoded data removed]",
            "text/plain": [
              "<Figure size 300x200 with 1 Axes>"
            ]
          },
          "metadata": {},
          "output_type": "display_data"
        },
        {
          "data": {
            "image/png": "[encoded data removed]",
            "text/plain": [
              "<Figure size 300x200 with 1 Axes>"
            ]
          },
          "metadata": {},
          "output_type": "display_data"
        },
        {
          "data": {
            "image/png": "[encoded data removed]",
            "text/plain": [
              "<Figure size 300x200 with 1 Axes>"
            ]
          },
          "metadata": {},
          "output_type": "display_data"
        },
        {
          "data": {
            "image/png": "[encoded data removed]",
            "text/plain": [
              "<Figure size 300x200 with 1 Axes>"
            ]
          },
          "metadata": {},
          "output_type": "display_data"
        },
        {
          "data": {
            "image/png": "[encoded data removed]",
            "text/plain": [
              "<Figure size 300x200 with 1 Axes>"
            ]
          },
          "metadata": {},
          "output_type": "display_data"
        },
        {
          "data": {
            "image/png": "[encoded data removed]",
            "text/plain": [
              "<Figure size 300x200 with 1 Axes>"
            ]
          },
          "metadata": {},
          "output_type": "display_data"
        },
        {
          "data": {
            "image/png": "[encoded data removed]",
            "text/plain": [
              "<Figure size 300x200 with 1 Axes>"
            ]
          },
          "metadata": {},
          "output_type": "display_data"
        },
        {
          "data": {
            "image/png": "[encoded data removed]",
            "text/plain": [
              "<Figure size 300x200 with 1 Axes>"
            ]
          },
          "metadata": {},
          "output_type": "display_data"
        },
        {
          "data": {
            "image/png": "[encoded data removed]",
            "text/plain": [
              "<Figure size 300x200 with 1 Axes>"
            ]
          },
          "metadata": {},
          "output_type": "display_data"
        },
        {
          "data": {
            "image/png": "[encoded data removed]",
            "text/plain": [
              "<Figure size 300x200 with 1 Axes>"
            ]
          },
          "metadata": {},
          "output_type": "display_data"
        }
      ],
      "source": [
        "for i in range(0,16):\n",
        "    plt.figure(figsize=(3,2))\n",
        "    plt.hist(pre_data[labels[i]], bins = 100, alpha = 0.5)\n",
        "    plt.hist(post_data[labels[i]], bins = 100, alpha = 0.5)\n",
        "    plt.xlabel('Values')\n",
        "    plt.ylabel('Frequency')\n",
        "    plt.title('Column '+ str(i+1))\n",
        "    plt.legend(['prev', 'latter'])\n",
        "    plt.show()"
      ]
    },
    {
      "cell_type": "code",
      "execution_count": 142,
      "metadata": {
        "colab": {
          "base_uri": "https://localhost:8080/",
          "height": 187
        },
        "id": "8V6g81H4fWpz",
        "outputId": "24153312-8689-485c-9245-772257cda269"
      },
      "outputs": [
        {
          "data": {
            "image/png": "[encoded data removed]",
            "text/plain": [
              "<Figure size 300x200 with 1 Axes>"
            ]
          },
          "metadata": {},
          "output_type": "display_data"
        }
      ],
      "source": [
        "#Label distribution\n",
        "plt.figure(figsize=(3,2))\n",
        "plt.hist(pre_data['popularity'], bins = 100, alpha = 0.5)\n",
        "plt.hist(post_data['popularity'], bins = 100, alpha = 0.5)\n",
        "plt.xlabel('Values')\n",
        "plt.ylabel('Frequency')\n",
        "plt.title('Column label')\n",
        "plt.legend(['prev', 'latter'])\n",
        "plt.show()"
      ]
    },
    {
      "cell_type": "code",
      "execution_count": 143,
      "metadata": {},
      "outputs": [],
      "source": [
        "# !pip3 install -U scikit-learn scipy matplotlib"
      ]
    },
    {
      "cell_type": "code",
      "execution_count": 144,
      "metadata": {},
      "outputs": [],
      "source": [
        "# !pip install --upgrade pip"
      ]
    },
    {
      "cell_type": "code",
      "execution_count": 145,
      "metadata": {
        "id": "W3ua_u4lfWp0"
      },
      "outputs": [],
      "source": [
        "import pandas as pd\n",
        "import numpy as np\n",
        "import matplotlib.pyplot as plt\n",
        "from sklearn import neighbors\n",
        "from sklearn.metrics import mean_squared_error \n",
        "from math import sqrt\n",
        "import joblib"
      ]
    },
    {
      "cell_type": "markdown",
      "metadata": {
        "id": "zZnDqfxnfWp0"
      },
      "source": [
        "## Training demo"
      ]
    },
    {
      "cell_type": "markdown",
      "metadata": {
        "id": "NQRE16A8fWp0"
      },
      "source": [
        "We define a song to be popular if its song_hotttnesss value is above average,"
      ]
    },
    {
      "cell_type": "code",
      "execution_count": 146,
      "metadata": {
        "id": "Tsf7vif3fWp0"
      },
      "outputs": [],
      "source": [
        "numeric_features= ['artist_familiarity', 'artist_hotttnesss', 'duration', 'end_of_fade_in', 'key', \n",
        "            'key_confidence', 'loudness', 'mode', 'mode_confidence', 'start_of_fade_out', 'tempo', \n",
        "            'time_signature', 'time_signature_confidence','year', 'artist_latitude', 'artist_longitude']\n",
        "label= ['popularity']"
      ]
    },
    {
      "cell_type": "code",
      "execution_count": 147,
      "metadata": {
        "id": "_UjHPCbUfWp0"
      },
      "outputs": [],
      "source": [
        "from sklearn.ensemble import RandomForestClassifier\n",
        "from sklearn.model_selection import train_test_split\n",
        "from sklearn.metrics import accuracy_score\n",
        "from sklearn.preprocessing import MinMaxScaler\n",
        "\n",
        "# Split data into training and testing sets\n",
        "df_sample=pre_data[numeric_features+label].dropna()\n",
        "X = df_sample[numeric_features]\n",
        "y = df_sample[label]\n",
        "X_train, X_test, y_train, y_test = train_test_split(X, y, test_size=0.3, random_state=42)\n",
        "# scaler = MinMaxScaler()\n",
        "# X_train = scaler.fit_transform(X_train)\n",
        "# X_test = scaler.transform(X_test)"
      ]
    },
    {
      "cell_type": "code",
      "execution_count": 148,
      "metadata": {
        "colab": {
          "base_uri": "https://localhost:8080/"
        },
        "id": "luvDFhbKtFj6",
        "outputId": "5c2008d7-ad45-4dcb-d653-896be2c51eb5"
      },
      "outputs": [
        {
          "name": "stderr",
          "output_type": "stream",
          "text": [
            "/var/folders/r4/8c5npk_d75s295cb1sgpsb3c0000gn/T/ipykernel_32002/464721922.py:5: DataConversionWarning: A column-vector y was passed when a 1d array was expected. Please change the shape of y to (n_samples,), for example using ravel().\n",
            "  rf.fit(X_train, y_train)\n"
          ]
        },
        {
          "name": "stdout",
          "output_type": "stream",
          "text": [
            "Random Forest Classifier Accuracy: 0.7825794123175239\n"
          ]
        }
      ],
      "source": [
        "# Instantiate a Random Forest Classifier with 100 estimators\n",
        "rf = RandomForestClassifier(n_estimators=100, random_state=42)\n",
        "\n",
        "# Fit the model to the training data\n",
        "rf.fit(X_train, y_train)\n",
        "\n",
        "# Predict the labels of the test data\n",
        "y_pred = rf.predict(X_test)\n",
        "\n",
        "# Compute accuracy score\n",
        "accuracy = accuracy_score(y_test, y_pred)\n",
        "print(\"Random Forest Classifier Accuracy:\", accuracy)"
      ]
    },
    {
      "cell_type": "code",
      "execution_count": 149,
      "metadata": {
        "colab": {
          "base_uri": "https://localhost:8080/"
        },
        "id": "-ciEisCSfWp0",
        "outputId": "ad35d0c3-729e-4b2d-92d7-c80f9713c332"
      },
      "outputs": [
        {
          "data": {
            "text/plain": [
              "['./deployed_model.joblib']"
            ]
          },
          "execution_count": 149,
          "metadata": {},
          "output_type": "execute_result"
        }
      ],
      "source": [
        "#save model\n",
        "import joblib\n",
        "joblib.dump(rf, \"./deployed_model.joblib\")"
      ]
    },
    {
      "cell_type": "code",
      "execution_count": 150,
      "metadata": {
        "id": "7jRFgNO7myd4"
      },
      "outputs": [],
      "source": [
        "deployed_model = joblib.load(\"./deployed_model.joblib\")"
      ]
    },
    {
      "cell_type": "code",
      "execution_count": 151,
      "metadata": {
        "colab": {
          "base_uri": "https://localhost:8080/",
          "height": 75
        },
        "id": "fAHHKmt8n6_l",
        "outputId": "0ddd2a0d-03dd-4661-d2c8-a68e1b222599"
      },
      "outputs": [
        {
          "data": {
            "text/html": [
              "<style>#sk-container-id-4 {color: black;background-color: white;}#sk-container-id-4 pre{padding: 0;}#sk-container-id-4 div.sk-toggleable {background-color: white;}#sk-container-id-4 label.sk-toggleable__label {cursor: pointer;display: block;width: 100%;margin-bottom: 0;padding: 0.3em;box-sizing: border-box;text-align: center;}#sk-container-id-4 label.sk-toggleable__label-arrow:before {content: \"▸\";float: left;margin-right: 0.25em;color: #696969;}#sk-container-id-4 label.sk-toggleable__label-arrow:hover:before {color: black;}#sk-container-id-4 div.sk-estimator:hover label.sk-toggleable__label-arrow:before {color: black;}#sk-container-id-4 div.sk-toggleable__content {max-height: 0;max-width: 0;overflow: hidden;text-align: left;background-color: #f0f8ff;}#sk-container-id-4 div.sk-toggleable__content pre {margin: 0.2em;color: black;border-radius: 0.25em;background-color: #f0f8ff;}#sk-container-id-4 input.sk-toggleable__control:checked~div.sk-toggleable__content {max-height: 200px;max-width: 100%;overflow: auto;}#sk-container-id-4 input.sk-toggleable__control:checked~label.sk-toggleable__label-arrow:before {content: \"▾\";}#sk-container-id-4 div.sk-estimator input.sk-toggleable__control:checked~label.sk-toggleable__label {background-color: #d4ebff;}#sk-container-id-4 div.sk-label input.sk-toggleable__control:checked~label.sk-toggleable__label {background-color: #d4ebff;}#sk-container-id-4 input.sk-hidden--visually {border: 0;clip: rect(1px 1px 1px 1px);clip: rect(1px, 1px, 1px, 1px);height: 1px;margin: -1px;overflow: hidden;padding: 0;position: absolute;width: 1px;}#sk-container-id-4 div.sk-estimator {font-family: monospace;background-color: #f0f8ff;border: 1px dotted black;border-radius: 0.25em;box-sizing: border-box;margin-bottom: 0.5em;}#sk-container-id-4 div.sk-estimator:hover {background-color: #d4ebff;}#sk-container-id-4 div.sk-parallel-item::after {content: \"\";width: 100%;border-bottom: 1px solid gray;flex-grow: 1;}#sk-container-id-4 div.sk-label:hover label.sk-toggleable__label {background-color: #d4ebff;}#sk-container-id-4 div.sk-serial::before {content: \"\";position: absolute;border-left: 1px solid gray;box-sizing: border-box;top: 0;bottom: 0;left: 50%;z-index: 0;}#sk-container-id-4 div.sk-serial {display: flex;flex-direction: column;align-items: center;background-color: white;padding-right: 0.2em;padding-left: 0.2em;position: relative;}#sk-container-id-4 div.sk-item {position: relative;z-index: 1;}#sk-container-id-4 div.sk-parallel {display: flex;align-items: stretch;justify-content: center;background-color: white;position: relative;}#sk-container-id-4 div.sk-item::before, #sk-container-id-4 div.sk-parallel-item::before {content: \"\";position: absolute;border-left: 1px solid gray;box-sizing: border-box;top: 0;bottom: 0;left: 50%;z-index: -1;}#sk-container-id-4 div.sk-parallel-item {display: flex;flex-direction: column;z-index: 1;position: relative;background-color: white;}#sk-container-id-4 div.sk-parallel-item:first-child::after {align-self: flex-end;width: 50%;}#sk-container-id-4 div.sk-parallel-item:last-child::after {align-self: flex-start;width: 50%;}#sk-container-id-4 div.sk-parallel-item:only-child::after {width: 0;}#sk-container-id-4 div.sk-dashed-wrapped {border: 1px dashed gray;margin: 0 0.4em 0.5em 0.4em;box-sizing: border-box;padding-bottom: 0.4em;background-color: white;}#sk-container-id-4 div.sk-label label {font-family: monospace;font-weight: bold;display: inline-block;line-height: 1.2em;}#sk-container-id-4 div.sk-label-container {text-align: center;}#sk-container-id-4 div.sk-container {/* jupyter's `normalize.less` sets `[hidden] { display: none; }` but bootstrap.min.css set `[hidden] { display: none !important; }` so we also need the `!important` here to be able to override the default hidden behavior on the sphinx rendered scikit-learn.org. See: https://github.com/scikit-learn/scikit-learn/issues/21755 */display: inline-block !important;position: relative;}#sk-container-id-4 div.sk-text-repr-fallback {display: none;}</style><div id=\"sk-container-id-4\" class=\"sk-top-container\"><div class=\"sk-text-repr-fallback\"><pre>RandomForestClassifier(random_state=42)</pre><b>In a Jupyter environment, please rerun this cell to show the HTML representation or trust the notebook. <br />On GitHub, the HTML representation is unable to render, please try loading this page with nbviewer.org.</b></div><div class=\"sk-container\" hidden><div class=\"sk-item\"><div class=\"sk-estimator sk-toggleable\"><input class=\"sk-toggleable__control sk-hidden--visually\" id=\"sk-estimator-id-4\" type=\"checkbox\" checked><label for=\"sk-estimator-id-4\" class=\"sk-toggleable__label sk-toggleable__label-arrow\">RandomForestClassifier</label><div class=\"sk-toggleable__content\"><pre>RandomForestClassifier(random_state=42)</pre></div></div></div></div></div>"
            ],
            "text/plain": [
              "RandomForestClassifier(random_state=42)"
            ]
          },
          "execution_count": 151,
          "metadata": {},
          "output_type": "execute_result"
        }
      ],
      "source": [
        "deployed_model"
      ]
    },
    {
      "cell_type": "code",
      "execution_count": 152,
      "metadata": {
        "colab": {
          "base_uri": "https://localhost:8080/"
        },
        "id": "jQL5cwyxrFTA",
        "outputId": "1a948191-4d41-4413-eb3f-115fef74c276"
      },
      "outputs": [
        {
          "name": "stdout",
          "output_type": "stream",
          "text": [
            "212812\n",
            "369099\n"
          ]
        }
      ],
      "source": [
        "print(len(pre_data))\n",
        "print(len(post_data))"
      ]
    },
    {
      "cell_type": "code",
      "execution_count": 153,
      "metadata": {
        "colab": {
          "base_uri": "https://localhost:8080/"
        },
        "id": "q3xxlqc6s-1K",
        "outputId": "10beaf56-084d-421e-e3ea-5d7b70263f7b"
      },
      "outputs": [
        {
          "name": "stdout",
          "output_type": "stream",
          "text": [
            "Train accuracy score: 100.00%\n",
            "Test accuracy score: 78.26%\n"
          ]
        }
      ],
      "source": [
        "# Predict the labels of the test data\n",
        "y_pred_tr = deployed_model.predict(X_train)\n",
        "y_pred_test = deployed_model.predict(X_test)\n",
        "\n",
        "# Compute accuracy score\n",
        "train_score = accuracy_score(y_train, y_pred_tr) * 100\n",
        "print(f\"Train accuracy score: {train_score:.2f}%\")\n",
        "test_score = accuracy_score(y_test, y_pred_test) * 100\n",
        "print(f\"Test accuracy score: {test_score:.2f}%\")"
      ]
    },
    {
      "cell_type": "code",
      "execution_count": 154,
      "metadata": {
        "colab": {
          "base_uri": "https://localhost:8080/"
        },
        "id": "PtuLtwWoujF2",
        "outputId": "e8bdc1fb-4cb6-4908-eb9a-ab552b0c656d"
      },
      "outputs": [
        {
          "data": {
            "text/plain": [
              "array([0, 1])"
            ]
          },
          "execution_count": 154,
          "metadata": {},
          "output_type": "execute_result"
        }
      ],
      "source": [
        "np.unique(y_test)"
      ]
    },
    {
      "cell_type": "code",
      "execution_count": 155,
      "metadata": {
        "colab": {
          "base_uri": "https://localhost:8080/",
          "height": 574
        },
        "id": "WJRkn8HyrFMP",
        "outputId": "bf6bc08e-0422-468b-f574-3ca1f753ba03"
      },
      "outputs": [
        {
          "data": {
            "image/png": "[encoded data removed]",
            "text/plain": [
              "<Figure size 1000x1000 with 2 Axes>"
            ]
          },
          "metadata": {},
          "output_type": "display_data"
        }
      ],
      "source": [
        "from sklearn.metrics import accuracy_score, classification_report, confusion_matrix\n",
        "from sklearn.metrics import ConfusionMatrixDisplay\n",
        "\n",
        "cm = confusion_matrix(y_test, y_pred_test)\n",
        "disp = ConfusionMatrixDisplay(\n",
        "    confusion_matrix=cm,\n",
        "    display_labels=[0,1]\n",
        ")\n",
        "\n",
        "\n",
        "# NOTE: Fill all variables here with default values of the plot_confusion_matrix\n",
        "fig, ax = plt.subplots(figsize=(10, 10))\n",
        "disp = disp.plot(xticks_rotation='vertical', ax=ax, cmap=\"summer\")\n",
        "\n",
        "plt.show()"
      ]
    },
    {
      "cell_type": "code",
      "execution_count": 156,
      "metadata": {
        "colab": {
          "base_uri": "https://localhost:8080/",
          "height": 206
        },
        "id": "x7Uc09XIxaj-",
        "outputId": "d4a1cad3-0353-4e1c-8e8b-52cf9b806fb9"
      },
      "outputs": [
        {
          "data": {
            "text/html": [
              "<div>\n",
              "<style scoped>\n",
              "    .dataframe tbody tr th:only-of-type {\n",
              "        vertical-align: middle;\n",
              "    }\n",
              "\n",
              "    .dataframe tbody tr th {\n",
              "        vertical-align: top;\n",
              "    }\n",
              "\n",
              "    .dataframe thead th {\n",
              "        text-align: right;\n",
              "    }\n",
              "</style>\n",
              "<table border=\"1\" class=\"dataframe\">\n",
              "  <thead>\n",
              "    <tr style=\"text-align: right;\">\n",
              "      <th></th>\n",
              "      <th>precision</th>\n",
              "      <th>recall</th>\n",
              "      <th>f1-score</th>\n",
              "      <th>support</th>\n",
              "    </tr>\n",
              "  </thead>\n",
              "  <tbody>\n",
              "    <tr>\n",
              "      <th>0</th>\n",
              "      <td>0.768219</td>\n",
              "      <td>0.772071</td>\n",
              "      <td>0.770140</td>\n",
              "      <td>30119.000000</td>\n",
              "    </tr>\n",
              "    <tr>\n",
              "      <th>1</th>\n",
              "      <td>0.795526</td>\n",
              "      <td>0.791964</td>\n",
              "      <td>0.793741</td>\n",
              "      <td>33725.000000</td>\n",
              "    </tr>\n",
              "    <tr>\n",
              "      <th>accuracy</th>\n",
              "      <td>0.782579</td>\n",
              "      <td>0.782579</td>\n",
              "      <td>0.782579</td>\n",
              "      <td>0.782579</td>\n",
              "    </tr>\n",
              "    <tr>\n",
              "      <th>macro avg</th>\n",
              "      <td>0.781873</td>\n",
              "      <td>0.782018</td>\n",
              "      <td>0.781941</td>\n",
              "      <td>63844.000000</td>\n",
              "    </tr>\n",
              "    <tr>\n",
              "      <th>weighted avg</th>\n",
              "      <td>0.782644</td>\n",
              "      <td>0.782579</td>\n",
              "      <td>0.782607</td>\n",
              "      <td>63844.000000</td>\n",
              "    </tr>\n",
              "  </tbody>\n",
              "</table>\n",
              "</div>"
            ],
            "text/plain": [
              "              precision    recall  f1-score       support\n",
              "0              0.768219  0.772071  0.770140  30119.000000\n",
              "1              0.795526  0.791964  0.793741  33725.000000\n",
              "accuracy       0.782579  0.782579  0.782579      0.782579\n",
              "macro avg      0.781873  0.782018  0.781941  63844.000000\n",
              "weighted avg   0.782644  0.782579  0.782607  63844.000000"
            ]
          },
          "execution_count": 156,
          "metadata": {},
          "output_type": "execute_result"
        }
      ],
      "source": [
        "pd.DataFrame(classification_report(y_test, y_pred_test, output_dict=True)).T"
      ]
    },
    {
      "cell_type": "markdown",
      "metadata": {
        "id": "1pzuu3SHbZIY"
      },
      "source": [
        "## Change of Data Schema"
      ]
    },
    {
      "cell_type": "code",
      "execution_count": 157,
      "metadata": {
        "id": "vlNh203ubYdq"
      },
      "outputs": [],
      "source": [
        "def test_data_schema(pre_data, post_data):\n",
        "    assert set(pre_data.columns) == set(post_data.columns),\"Data Schema shifted.\""
      ]
    },
    {
      "cell_type": "code",
      "execution_count": 158,
      "metadata": {},
      "outputs": [],
      "source": [
        "test_data_schema(pre_data, post_data)"
      ]
    },
    {
      "attachments": {},
      "cell_type": "markdown",
      "metadata": {},
      "source": [
        "This indicates that there is no data schema change for our dataset."
      ]
    },
    {
      "cell_type": "markdown",
      "metadata": {
        "id": "HIZW0S1lKp6L"
      },
      "source": [
        "## Amount of new data"
      ]
    },
    {
      "cell_type": "code",
      "execution_count": 159,
      "metadata": {
        "id": "-AC15KUwKspe"
      },
      "outputs": [],
      "source": [
        "new_data_func = lambda pre, post: True if len(post)>len(pre) else False"
      ]
    },
    {
      "cell_type": "code",
      "execution_count": 160,
      "metadata": {
        "id": "xOvNIZNWK-eG"
      },
      "outputs": [
        {
          "data": {
            "text/plain": [
              "True"
            ]
          },
          "execution_count": 160,
          "metadata": {},
          "output_type": "execute_result"
        }
      ],
      "source": [
        "new_data_func(pre_data, post_data)"
      ]
    },
    {
      "attachments": {},
      "cell_type": "markdown",
      "metadata": {},
      "source": [
        "This indicates that post data has more rows than pre data. This is expected as need to retrain the model with post data added."
      ]
    },
    {
      "cell_type": "markdown",
      "metadata": {
        "id": "3OyVuc5vxk8J"
      },
      "source": [
        "## Concept Drift: shift in relationship between X and y"
      ]
    },
    {
      "cell_type": "code",
      "execution_count": 161,
      "metadata": {
        "colab": {
          "base_uri": "https://localhost:8080/"
        },
        "id": "u4fN_xnTzChl",
        "outputId": "3ffe10ac-08da-4b2a-e033-2ffb3131a133"
      },
      "outputs": [
        {
          "name": "stdout",
          "output_type": "stream",
          "text": [
            "369099 212812\n"
          ]
        }
      ],
      "source": [
        "print(len(post_data), len(pre_data))"
      ]
    },
    {
      "cell_type": "code",
      "execution_count": 162,
      "metadata": {
        "colab": {
          "base_uri": "https://localhost:8080/"
        },
        "id": "AnOGlegCxm7G",
        "outputId": "bd1d464d-624d-4e55-ec05-3dc7523b0bdf"
      },
      "outputs": [
        {
          "name": "stdout",
          "output_type": "stream",
          "text": [
            "Post data accuracy score: 72.25%\n"
          ]
        }
      ],
      "source": [
        "X_post = post_data[numeric_features]\n",
        "y_post = post_data[label]\n",
        "y_pred_post = deployed_model.predict(X_post)\n",
        "X_post = scaler.transform(X_post)\n",
        "# Compute accuracy score\n",
        "post_score = accuracy_score(y_post, y_pred_post) * 100\n",
        "print(f\"Post data accuracy score: {post_score:.2f}%\")"
      ]
    },
    {
      "cell_type": "code",
      "execution_count": 163,
      "metadata": {
        "colab": {
          "base_uri": "https://localhost:8080/"
        },
        "id": "f8dGgh8mzNL3",
        "outputId": "5fde6d75-87c2-488a-ca97-fedcbf5d68b1"
      },
      "outputs": [
        {
          "name": "stdout",
          "output_type": "stream",
          "text": [
            "148968 63844 369099\n"
          ]
        }
      ],
      "source": [
        "print(len(X_train), len(X_test), len(X_post))"
      ]
    },
    {
      "cell_type": "code",
      "execution_count": 164,
      "metadata": {
        "colab": {
          "base_uri": "https://localhost:8080/",
          "height": 579
        },
        "id": "Jrkk0eBeyhup",
        "outputId": "6f299d8e-6d45-45f1-c0b4-728ef8b63045"
      },
      "outputs": [
        {
          "data": {
            "image/png": "[encoded data removed]",
            "text/plain": [
              "<Figure size 800x800 with 2 Axes>"
            ]
          },
          "metadata": {},
          "output_type": "display_data"
        }
      ],
      "source": [
        "cm_post = confusion_matrix(y_post, y_pred_post)\n",
        "disp_post = ConfusionMatrixDisplay(\n",
        "    confusion_matrix=cm_post,\n",
        "    display_labels=[0,1]\n",
        ")\n",
        "\n",
        "\n",
        "# NOTE: Fill all variables here with default values of the plot_confusion_matrix\n",
        "fig, ax = plt.subplots(figsize=(8, 8))\n",
        "disp_post = disp_post.plot(xticks_rotation='vertical', ax=ax, cmap=\"summer\")\n",
        "\n",
        "plt.show()"
      ]
    },
    {
      "cell_type": "code",
      "execution_count": 165,
      "metadata": {
        "colab": {
          "base_uri": "https://localhost:8080/",
          "height": 206
        },
        "id": "1LYzAzvbzPak",
        "outputId": "3b7f3807-317e-4783-dde9-0dbd8ce2ffe8"
      },
      "outputs": [
        {
          "data": {
            "text/html": [
              "<div>\n",
              "<style scoped>\n",
              "    .dataframe tbody tr th:only-of-type {\n",
              "        vertical-align: middle;\n",
              "    }\n",
              "\n",
              "    .dataframe tbody tr th {\n",
              "        vertical-align: top;\n",
              "    }\n",
              "\n",
              "    .dataframe thead th {\n",
              "        text-align: right;\n",
              "    }\n",
              "</style>\n",
              "<table border=\"1\" class=\"dataframe\">\n",
              "  <thead>\n",
              "    <tr style=\"text-align: right;\">\n",
              "      <th></th>\n",
              "      <th>precision</th>\n",
              "      <th>recall</th>\n",
              "      <th>f1-score</th>\n",
              "      <th>support</th>\n",
              "    </tr>\n",
              "  </thead>\n",
              "  <tbody>\n",
              "    <tr>\n",
              "      <th>0</th>\n",
              "      <td>0.677415</td>\n",
              "      <td>0.761319</td>\n",
              "      <td>0.716921</td>\n",
              "      <td>170370.000000</td>\n",
              "    </tr>\n",
              "    <tr>\n",
              "      <th>1</th>\n",
              "      <td>0.771071</td>\n",
              "      <td>0.689195</td>\n",
              "      <td>0.727837</td>\n",
              "      <td>198729.000000</td>\n",
              "    </tr>\n",
              "    <tr>\n",
              "      <th>accuracy</th>\n",
              "      <td>0.722486</td>\n",
              "      <td>0.722486</td>\n",
              "      <td>0.722486</td>\n",
              "      <td>0.722486</td>\n",
              "    </tr>\n",
              "    <tr>\n",
              "      <th>macro avg</th>\n",
              "      <td>0.724243</td>\n",
              "      <td>0.725257</td>\n",
              "      <td>0.722379</td>\n",
              "      <td>369099.000000</td>\n",
              "    </tr>\n",
              "    <tr>\n",
              "      <th>weighted avg</th>\n",
              "      <td>0.727841</td>\n",
              "      <td>0.722486</td>\n",
              "      <td>0.722798</td>\n",
              "      <td>369099.000000</td>\n",
              "    </tr>\n",
              "  </tbody>\n",
              "</table>\n",
              "</div>"
            ],
            "text/plain": [
              "              precision    recall  f1-score        support\n",
              "0              0.677415  0.761319  0.716921  170370.000000\n",
              "1              0.771071  0.689195  0.727837  198729.000000\n",
              "accuracy       0.722486  0.722486  0.722486       0.722486\n",
              "macro avg      0.724243  0.725257  0.722379  369099.000000\n",
              "weighted avg   0.727841  0.722486  0.722798  369099.000000"
            ]
          },
          "execution_count": 165,
          "metadata": {},
          "output_type": "execute_result"
        }
      ],
      "source": [
        "pd.DataFrame(classification_report(y_post, y_pred_post, output_dict=True)).T"
      ]
    },
    {
      "cell_type": "code",
      "execution_count": 166,
      "metadata": {
        "id": "kwQs5J-Xz6Bo"
      },
      "outputs": [],
      "source": [
        "from sklearn.metrics import f1_score, accuracy_score, precision_score, recall_score\n",
        "def post_score(y_true, y_pred, threshold, metric_num):\n",
        "  if metric_num == 1:\n",
        "    return True if f1_score(y_true, y_pred) < threshold else False\n",
        "  elif metric_num == 2:\n",
        "    return True if accuracy_score(y_true, y_pred) < threshold else False\n",
        "  elif metric_num == 3:\n",
        "    return True if precision_score(y_true, y_pred) < threshold else False\n",
        "  else:\n",
        "    return True if recall_score(y_true, y_pred) < threshold else False"
      ]
    },
    {
      "cell_type": "code",
      "execution_count": 167,
      "metadata": {
        "colab": {
          "base_uri": "https://localhost:8080/"
        },
        "id": "uEEmYhYBXaZr",
        "outputId": "347e654f-e667-4627-8667-83667e1dd15d"
      },
      "outputs": [
        {
          "data": {
            "text/plain": [
              "False"
            ]
          },
          "execution_count": 167,
          "metadata": {},
          "output_type": "execute_result"
        }
      ],
      "source": [
        "## test case\n",
        "y_true = [0, 1, 1, 0, 1, 1]\n",
        "y_pred = [0, 1, 1, 0, 0, 1]\n",
        "threshold = 0.7151669958566613\n",
        "post_score(y_true, y_pred, threshold, 1)"
      ]
    },
    {
      "cell_type": "code",
      "execution_count": 168,
      "metadata": {
        "colab": {
          "base_uri": "https://localhost:8080/"
        },
        "id": "Fy0rZvY108y0",
        "outputId": "bc8fd976-5f99-4ab0-c42a-171d5ed5189b"
      },
      "outputs": [
        {
          "name": "stdout",
          "output_type": "stream",
          "text": [
            "0.7143672268532965\n"
          ]
        }
      ],
      "source": [
        "new_f1 = f1_score(y_test, y_pred_test)*(1-0.1)\n",
        "print(new_f1)"
      ]
    },
    {
      "cell_type": "code",
      "execution_count": 169,
      "metadata": {
        "colab": {
          "base_uri": "https://localhost:8080/",
          "height": 172
        },
        "id": "e1LoVHvj1R1L",
        "outputId": "273f035d-1131-4c11-92a9-4f92992c32de"
      },
      "outputs": [
        {
          "data": {
            "text/plain": [
              "False"
            ]
          },
          "execution_count": 169,
          "metadata": {},
          "output_type": "execute_result"
        }
      ],
      "source": [
        "post_score(y_post, y_pred_post, new_f1, 2)"
      ]
    },
    {
      "attachments": {},
      "cell_type": "markdown",
      "metadata": {},
      "source": [
        "This told us that the model on post data still performs well."
      ]
    },
    {
      "cell_type": "markdown",
      "metadata": {
        "id": "0AGl6K3vzYzx"
      },
      "source": [
        "### Pairwise Correlation"
      ]
    },
    {
      "cell_type": "code",
      "execution_count": 170,
      "metadata": {},
      "outputs": [],
      "source": [
        "# !pip3 install seaborn"
      ]
    },
    {
      "cell_type": "code",
      "execution_count": 171,
      "metadata": {
        "id": "KXZ0ecCQmvtL"
      },
      "outputs": [
        {
          "data": {
            "text/plain": [
              "<AxesSubplot: >"
            ]
          },
          "execution_count": 171,
          "metadata": {},
          "output_type": "execute_result"
        },
        {
          "data": {
            "image/png": "[encoded data removed]",
            "text/plain": [
              "<Figure size 1100x900 with 2 Axes>"
            ]
          },
          "metadata": {},
          "output_type": "display_data"
        }
      ],
      "source": [
        "import seaborn as sns\n",
        "X_post = post_data[numeric_features]\n",
        "corr=X_post.corr()\n",
        "mask = np.triu(np.ones_like(corr, dtype=bool))\n",
        "f, ax = plt.subplots(figsize=(11, 9))\n",
        "cmap = sns.diverging_palette(230, 20, as_cmap=True)\n",
        "sns.heatmap(corr, mask=mask, cmap=cmap, center=0,\n",
        "            square=True, linewidths=.5, cbar_kws={\"shrink\": .5})"
      ]
    },
    {
      "cell_type": "code",
      "execution_count": 172,
      "metadata": {
        "id": "UJUzyZcjE5yl"
      },
      "outputs": [],
      "source": [
        "corr = X_train.drop(['artist_latitude', 'artist_longitude'], axis=1).corr()\n",
        "corr_post = X_post.drop(['artist_latitude', 'artist_longitude'], axis=1).corr()"
      ]
    },
    {
      "cell_type": "code",
      "execution_count": 173,
      "metadata": {
        "colab": {
          "base_uri": "https://localhost:8080/"
        },
        "id": "feeyy7E-IR2H",
        "outputId": "acf70e0c-340b-4390-8f5f-81e80969dc18"
      },
      "outputs": [
        {
          "data": {
            "text/plain": [
              "14"
            ]
          },
          "execution_count": 173,
          "metadata": {},
          "output_type": "execute_result"
        }
      ],
      "source": [
        "len(corr.to_numpy())"
      ]
    },
    {
      "cell_type": "code",
      "execution_count": 174,
      "metadata": {
        "id": "Ep7OU7S3FBdu"
      },
      "outputs": [],
      "source": [
        "from numpy.linalg import norm\n",
        "similaritys = []\n",
        "for i in range(14):\n",
        "  A = corr.to_numpy()[i]\n",
        "  B = corr_post.to_numpy()[i]\n",
        "  cosine = np.dot(A, B)/ (norm(A)*norm(B))\n",
        "  similaritys.append(cosine)"
      ]
    },
    {
      "cell_type": "code",
      "execution_count": 175,
      "metadata": {
        "colab": {
          "base_uri": "https://localhost:8080/"
        },
        "id": "yI72FKWCJAIH",
        "outputId": "58855b9d-319c-41cc-bf05-5670220cfe0a"
      },
      "outputs": [],
      "source": [
        "# [s for s in similaritys if s < 0.99]"
      ]
    },
    {
      "cell_type": "code",
      "execution_count": 176,
      "metadata": {
        "id": "CLoLuTWjIP-U"
      },
      "outputs": [],
      "source": [
        "def corr_cosine_similarity(corr1, corr2, threshold):\n",
        "  \"\"\"compute the cosine similarity between two correlation coefficient dataframe\n",
        "  corr1, corr2: dataframe\n",
        "  threshold: for detecting cosine similarity between two arrays\n",
        "  return if any cosine similarity falls below 0.99\n",
        "  \"\"\"\n",
        "  from numpy.linalg import norm\n",
        "  A = corr.to_numpy()\n",
        "  B = corr_post.to_numpy()\n",
        "  for i in range(len(A)):\n",
        "    a = A[i]\n",
        "    b = B[i]\n",
        "    cosine = np.dot(a, b)/ (norm(a)*norm(b))\n",
        "    if cosine < threshold:\n",
        "      return True\n",
        "    return False"
      ]
    },
    {
      "cell_type": "code",
      "execution_count": 177,
      "metadata": {
        "colab": {
          "base_uri": "https://localhost:8080/"
        },
        "id": "BoKo5zDuKQYm",
        "outputId": "3fb2107c-58b2-4bfc-ffec-63e2427ee6f3"
      },
      "outputs": [
        {
          "data": {
            "text/plain": [
              "False"
            ]
          },
          "execution_count": 177,
          "metadata": {},
          "output_type": "execute_result"
        }
      ],
      "source": [
        "corr_cosine_similarity(corr, corr_post, 0.99)"
      ]
    },
    {
      "cell_type": "code",
      "execution_count": 178,
      "metadata": {
        "id": "6igTZaTQ8ewm"
      },
      "outputs": [],
      "source": [
        "# c = corr.mask(np.eye(len(corr), dtype=bool)).abs()\n",
        "# s = c.unstack()\n",
        "# so = s.sort_values(kind=\"quicksort\", ascending=False)\n",
        "# so[so>0.6]"
      ]
    },
    {
      "cell_type": "code",
      "execution_count": 179,
      "metadata": {
        "id": "puAG43yX8dyn"
      },
      "outputs": [],
      "source": [
        "# corr = X_train.drop(['artist_latitude', 'artist_longitude'], axis=1).corr()\n",
        "# m = (corr.mask(np.eye(len(corr), dtype=bool)).abs() > 0.6).any()"
      ]
    },
    {
      "cell_type": "code",
      "execution_count": 180,
      "metadata": {
        "id": "jYmF-oCt83YA"
      },
      "outputs": [],
      "source": [
        "# raw = corr.loc[m, m]\n",
        "# raw"
      ]
    },
    {
      "cell_type": "code",
      "execution_count": 181,
      "metadata": {
        "id": "FxYOVPYY74Od"
      },
      "outputs": [],
      "source": [
        "# raw_post = corr_post.loc[m, m]\n",
        "# raw_post"
      ]
    },
    {
      "cell_type": "code",
      "execution_count": 182,
      "metadata": {
        "id": "lQLCngr9_zgT"
      },
      "outputs": [],
      "source": [
        "# similarity = pairwise.cosine_similarity(raw, raw_post)\n",
        "# similarity"
      ]
    },
    {
      "cell_type": "markdown",
      "metadata": {
        "id": "gsUdavmlfWp0"
      },
      "source": [
        "## Covariate Shift: Shift in the independent variables. \n",
        "### 1. KS-Test（two sample）\n",
        "H0：two samples come from the same distribution.\n",
        "\n",
        "H1：two samples' distribution are not the same.\n",
        "\n",
        "If the p-value is less than .05, we reject the null hypothesis. We have sufficient evidence to say that the two sample datasets do not come from the same distribution."
      ]
    },
    {
      "cell_type": "code",
      "execution_count": 183,
      "metadata": {
        "id": "gObzTbs4fWp0"
      },
      "outputs": [],
      "source": [
        "X_prev = pre_data.drop(columns = label)\n",
        "X_post = post_data.drop(columns = label)"
      ]
    },
    {
      "cell_type": "code",
      "execution_count": 184,
      "metadata": {
        "id": "A2orHRLnfWp0"
      },
      "outputs": [],
      "source": [
        "from scipy.stats import ks_2samp\n",
        "#return True means the program need to retrain\n",
        "#k: at least k number of features are not from the same distribution\n",
        "#X_prev,X_latter: dataframe\n",
        "def KS_test(X_prev, X_latter, k):\n",
        "    p_value = {'reject':0, 'accept':0}\n",
        "    for i in X_prev.columns:\n",
        "        p = ks_2samp(np.array(X_prev[i]), np.array(X_latter[i])).pvalue\n",
        "        if p < 0.05:\n",
        "            p_value['reject'] +=1\n",
        "        else:\n",
        "            p_value['accept'] +=1\n",
        "    if p_value['reject'] > k:\n",
        "        return True\n",
        "    else: \n",
        "        return False"
      ]
    },
    {
      "cell_type": "code",
      "execution_count": 185,
      "metadata": {
        "colab": {
          "base_uri": "https://localhost:8080/"
        },
        "id": "pMVmfEoPfWp0",
        "outputId": "951832a5-f770-44a6-c0ba-e4145fadd464"
      },
      "outputs": [
        {
          "data": {
            "text/plain": [
              "True"
            ]
          },
          "execution_count": 185,
          "metadata": {},
          "output_type": "execute_result"
        }
      ],
      "source": [
        "#EXP: need to be retained\n",
        "KS_test(X_prev, X_post, 2)"
      ]
    },
    {
      "cell_type": "markdown",
      "metadata": {
        "id": "KQoE0i8efWp0"
      },
      "source": [
        "## 2. PSI\n",
        "Interpretation\n",
        "\n",
        "PSI < 0.1: no significant population change\n",
        "\n",
        "PSI < 0.2: moderate population change\n",
        "\n",
        "PSI >= 0.2: significant population change\n"
      ]
    },
    {
      "cell_type": "code",
      "execution_count": 186,
      "metadata": {
        "id": "Q73t1jgefWp0"
      },
      "outputs": [],
      "source": [
        "#Reference: https://github.com/mwburke/population-stability-index/blob/master/psi.py\n",
        "\n",
        "def calculate_psi(expected, actual, buckettype='bins', buckets=10, axis=0):\n",
        "    '''Calculate the PSI (population stability index) across all variables\n",
        "    Args:\n",
        "       expected: numpy matrix of original values\n",
        "       actual: numpy matrix of new values, same size as expected\n",
        "       buckettype: type of strategy for creating buckets, bins splits into even splits, quantiles splits into quantile buckets\n",
        "       buckets: number of quantiles to use in bucketing variables\n",
        "       axis: axis by which variables are defined, 0 for vertical, 1 for horizontal\n",
        "    Returns:\n",
        "       psi_values: ndarray of psi values for each variable\n",
        "    Author:\n",
        "       Matthew Burke\n",
        "       github.com/mwburke\n",
        "       worksofchart.com\n",
        "    '''\n",
        "\n",
        "    def psi(expected_array, actual_array, buckets):\n",
        "        '''Calculate the PSI for a single variable\n",
        "        Args:\n",
        "           expected_array: numpy array of original values\n",
        "           actual_array: numpy array of new values, same size as expected\n",
        "           buckets: number of percentile ranges to bucket the values into\n",
        "        Returns:\n",
        "           psi_value: calculated PSI value\n",
        "        '''\n",
        "\n",
        "        def scale_range (input, min, max):\n",
        "            input += -(np.min(input))\n",
        "            input /= np.max(input) / (max - min)\n",
        "            input += min\n",
        "            return input\n",
        "\n",
        "\n",
        "        breakpoints = np.arange(0, buckets + 1) / (buckets) * 100\n",
        "\n",
        "        if buckettype == 'bins':\n",
        "            breakpoints = scale_range(breakpoints, np.min(expected_array), np.max(expected_array))\n",
        "        elif buckettype == 'quantiles':\n",
        "            breakpoints = np.stack([np.percentile(expected_array, b) for b in breakpoints])\n",
        "\n",
        "\n",
        "        expected_percents = np.histogram(expected_array, breakpoints)[0] / len(expected_array)\n",
        "        actual_percents = np.histogram(actual_array, breakpoints)[0] / len(actual_array)\n",
        "\n",
        "        def sub_psi(e_perc, a_perc):\n",
        "            '''Calculate the actual PSI value from comparing the values.\n",
        "               Update the actual value to a very small number if equal to zero\n",
        "            '''\n",
        "            if a_perc == 0:\n",
        "                a_perc = 0.0001\n",
        "            if e_perc == 0:\n",
        "                e_perc = 0.0001\n",
        "\n",
        "            value = (e_perc - a_perc) * np.log(e_perc / a_perc)\n",
        "            return(value)\n",
        "\n",
        "        psi_value = np.sum(sub_psi(expected_percents[i], actual_percents[i]) for i in range(0, len(expected_percents)))\n",
        "\n",
        "        return(psi_value)\n",
        "\n",
        "    if len(expected.shape) == 1:\n",
        "        psi_values = np.empty(len(expected.shape))\n",
        "    else:\n",
        "        psi_values = np.empty(expected.shape[axis])\n",
        "        print(psi_values)\n",
        "    for i in range(0, len(psi_values)):\n",
        "        if len(psi_values) == 1:\n",
        "            psi_values = psi(expected, actual, buckets)\n",
        "        elif axis == 0:\n",
        "            psi_values[i] = psi(expected[:,i], actual[:,i], buckets)\n",
        "        elif axis == 1:\n",
        "            psi_values[i] = psi(expected[i,:], actual[i,:], buckets)\n",
        "\n",
        "    return(psi_values)"
      ]
    },
    {
      "cell_type": "code",
      "execution_count": 187,
      "metadata": {
        "id": "2jOvZM6EfWp1"
      },
      "outputs": [],
      "source": [
        "#return True means the program need to retrain\n",
        "#k: at least k number of features has shift\n",
        "def PSI_covariate(X_prev, X_latter, k):\n",
        "    value = {'reject':0, 'accept':0}\n",
        "    for i in X_prev.columns:\n",
        "        v = calculate_psi(np.array(X_prev[i]), np.array(X_latter[i]))\n",
        "        if v < 0.1:\n",
        "            value['reject'] +=1\n",
        "        else:\n",
        "            value['accept'] +=1\n",
        "    if value['reject'] > k:\n",
        "        return True\n",
        "    else: \n",
        "        return False"
      ]
    },
    {
      "cell_type": "code",
      "execution_count": 188,
      "metadata": {
        "colab": {
          "base_uri": "https://localhost:8080/"
        },
        "id": "YE6aveMafWp1",
        "outputId": "1ac2220b-e4b4-4cb5-ec59-fcab9c4fb972"
      },
      "outputs": [
        {
          "name": "stderr",
          "output_type": "stream",
          "text": [
            "/var/folders/r4/8c5npk_d75s295cb1sgpsb3c0000gn/T/ipykernel_32002/3224234133.py:59: DeprecationWarning: Calling np.sum(generator) is deprecated, and in the future will give a different result. Use np.sum(np.fromiter(generator)) or the python sum builtin instead.\n",
            "  psi_value = np.sum(sub_psi(expected_percents[i], actual_percents[i]) for i in range(0, len(expected_percents)))\n"
          ]
        },
        {
          "data": {
            "text/plain": [
              "True"
            ]
          },
          "execution_count": 188,
          "metadata": {},
          "output_type": "execute_result"
        }
      ],
      "source": [
        "#EXP: need to be retained\n",
        "PSI_covariate(X_prev, X_post, 2)"
      ]
    },
    {
      "cell_type": "markdown",
      "metadata": {
        "id": "bfJ4N1YcfWp1"
      },
      "source": [
        "## 3. Z-Score\n"
      ]
    },
    {
      "cell_type": "code",
      "execution_count": 189,
      "metadata": {
        "id": "9XgjtrznfWp1"
      },
      "outputs": [],
      "source": [
        "from scipy.stats import zscore\n",
        "\n",
        "def Z_score_covariate(X_prev, X_post, k):\n",
        "    # calculate Z-scores of the source and target datasets\n",
        "    z_pre = zscore(X_prev)\n",
        "    z_post = zscore(X_post)\n",
        "    \n",
        "    p_value = {'reject':0, 'accept':0}\n",
        "    for i in range(z_pre.shape[1]):\n",
        "        # perform a Kolmogorov-Smirnov test on the Z-score distributions\n",
        "        p = ks_2samp(np.array(z_pre[:,i]), np.array(z_post[:,i])).pvalue\n",
        "        if p < 0.05:\n",
        "            p_value['reject'] +=1\n",
        "        else:\n",
        "            p_value['accept'] +=1\n",
        "    if p_value['reject'] > k:\n",
        "        return True\n",
        "    else: \n",
        "        return False"
      ]
    },
    {
      "cell_type": "code",
      "execution_count": 190,
      "metadata": {
        "colab": {
          "base_uri": "https://localhost:8080/",
          "height": 446
        },
        "id": "CSSFat5mfWp1",
        "outputId": "efc07c20-c81f-4cbb-edd6-e901e8bb2c34"
      },
      "outputs": [],
      "source": [
        "#EXP: need to be retained\n",
        "# Z_score_covariate(X_prev, X_post, 2)"
      ]
    },
    {
      "cell_type": "markdown",
      "metadata": {
        "id": "Y5sD0WBzfWp1"
      },
      "source": [
        "## Prior Probability Shift: shift of the target variable\n",
        "### 1. KS-Test（two sample）\n",
        "H0：two samples come from the same distribution.\n",
        "\n",
        "H1：two samples' distribution are not the same.\n",
        "\n",
        "If the p-value is less than .05, we reject the null hypothesis. We have sufficient evidence to say that the two sample datasets do not come from the same distributio"
      ]
    },
    {
      "cell_type": "code",
      "execution_count": 191,
      "metadata": {
        "id": "evN0OCl0fWp1"
      },
      "outputs": [],
      "source": [
        "y_prev = pre_data['popularity']\n",
        "y_post = post_data['popularity']"
      ]
    },
    {
      "cell_type": "code",
      "execution_count": 192,
      "metadata": {
        "id": "pdLoGktTfWp1"
      },
      "outputs": [],
      "source": [
        "from scipy.stats import ks_2samp\n",
        "#return True means the program need to retrain, check on the distribution of y\n",
        "def KS_test_prior(y_prev, y_post):\n",
        "    p = ks_2samp(np.array(y_prev), np.array(y_post)).pvalue\n",
        "    if p < 0.05:\n",
        "        return False\n",
        "    else:\n",
        "        return True"
      ]
    },
    {
      "cell_type": "code",
      "execution_count": 193,
      "metadata": {
        "colab": {
          "base_uri": "https://localhost:8080/"
        },
        "id": "EwS9pvK8fWp1",
        "outputId": "b8fc7eda-8dea-44e4-d52b-48a608a6b0e3"
      },
      "outputs": [
        {
          "data": {
            "text/plain": [
              "False"
            ]
          },
          "execution_count": 193,
          "metadata": {},
          "output_type": "execute_result"
        }
      ],
      "source": [
        "KS_test_prior(y_prev, y_post)"
      ]
    },
    {
      "cell_type": "markdown",
      "metadata": {
        "id": "DJHEm2fDfWp1"
      },
      "source": [
        "### 2. PSI"
      ]
    },
    {
      "cell_type": "code",
      "execution_count": 194,
      "metadata": {
        "id": "4t23t70KfWp1"
      },
      "outputs": [],
      "source": [
        "#return True means the program need to retrain, check on the distribution of y\n",
        "def PSI_prior(y_prev, y_post):\n",
        "    value = calculate_psi(np.array(y_prev), np.array(y_post))\n",
        "    #no significant population change\n",
        "    if value < 0.1:\n",
        "        return False\n",
        "    else:\n",
        "        return True"
      ]
    },
    {
      "cell_type": "code",
      "execution_count": 195,
      "metadata": {
        "colab": {
          "base_uri": "https://localhost:8080/"
        },
        "id": "0fRDbXwHfWp2",
        "outputId": "f6e2dddf-8f75-435e-ebc5-8eeb34de599e"
      },
      "outputs": [
        {
          "name": "stderr",
          "output_type": "stream",
          "text": [
            "/var/folders/r4/8c5npk_d75s295cb1sgpsb3c0000gn/T/ipykernel_32002/3224234133.py:59: DeprecationWarning: Calling np.sum(generator) is deprecated, and in the future will give a different result. Use np.sum(np.fromiter(generator)) or the python sum builtin instead.\n",
            "  psi_value = np.sum(sub_psi(expected_percents[i], actual_percents[i]) for i in range(0, len(expected_percents)))\n"
          ]
        },
        {
          "data": {
            "text/plain": [
              "False"
            ]
          },
          "execution_count": 195,
          "metadata": {},
          "output_type": "execute_result"
        }
      ],
      "source": [
        "#EXP: no need to be retained\n",
        "PSI_prior(y_prev, y_post)"
      ]
    },
    {
      "cell_type": "markdown",
      "metadata": {
        "id": "ki-kh-R0fWp2"
      },
      "source": [
        "### 3. Z-score"
      ]
    },
    {
      "cell_type": "code",
      "execution_count": 196,
      "metadata": {
        "id": "kHo8202_fWp2"
      },
      "outputs": [],
      "source": [
        "from scipy.stats import zscore\n",
        "\n",
        "def Z_score_prior(y_prev, y_post):\n",
        "    # calculate Z-scores of the source and target datasets\n",
        "    z_pre = zscore(y_prev)\n",
        "    z_post = zscore(y_post)\n",
        "    \n",
        "    p = ks_2samp(np.array(z_pre), np.array(z_post)).pvalue\n",
        "\n",
        "    if p < 0.05:\n",
        "        return False\n",
        "    else: \n",
        "        return True"
      ]
    },
    {
      "cell_type": "code",
      "execution_count": 197,
      "metadata": {
        "colab": {
          "base_uri": "https://localhost:8080/"
        },
        "id": "CrXvcgMFfWp2",
        "outputId": "755676af-3285-41d4-a40a-a33d5e330163"
      },
      "outputs": [
        {
          "data": {
            "text/plain": [
              "False"
            ]
          },
          "execution_count": 197,
          "metadata": {},
          "output_type": "execute_result"
        }
      ],
      "source": [
        "#EXP: no need to be retained\n",
        "Z_score_prior(y_prev, y_post)"
      ]
    },
    {
      "cell_type": "code",
      "execution_count": 198,
      "metadata": {
        "colab": {
          "base_uri": "https://localhost:8080/",
          "height": 306
        },
        "id": "s5LMqwmWgbw3",
        "outputId": "64febd1d-fbbb-49e1-87b5-a32262316cbc"
      },
      "outputs": [
        {
          "name": "stderr",
          "output_type": "stream",
          "text": [
            "/var/folders/r4/8c5npk_d75s295cb1sgpsb3c0000gn/T/ipykernel_32002/734199152.py:1: FutureWarning: The frame.append method is deprecated and will be removed from pandas in a future version. Use pandas.concat instead.\n",
            "  merged_df = pre_data.append(post_data, ignore_index=True)\n"
          ]
        },
        {
          "data": {
            "text/html": [
              "<div>\n",
              "<style scoped>\n",
              "    .dataframe tbody tr th:only-of-type {\n",
              "        vertical-align: middle;\n",
              "    }\n",
              "\n",
              "    .dataframe tbody tr th {\n",
              "        vertical-align: top;\n",
              "    }\n",
              "\n",
              "    .dataframe thead th {\n",
              "        text-align: right;\n",
              "    }\n",
              "</style>\n",
              "<table border=\"1\" class=\"dataframe\">\n",
              "  <thead>\n",
              "    <tr style=\"text-align: right;\">\n",
              "      <th></th>\n",
              "      <th>artist_familiarity</th>\n",
              "      <th>artist_hotttnesss</th>\n",
              "      <th>duration</th>\n",
              "      <th>end_of_fade_in</th>\n",
              "      <th>key</th>\n",
              "      <th>key_confidence</th>\n",
              "      <th>loudness</th>\n",
              "      <th>mode</th>\n",
              "      <th>mode_confidence</th>\n",
              "      <th>start_of_fade_out</th>\n",
              "      <th>tempo</th>\n",
              "      <th>time_signature</th>\n",
              "      <th>time_signature_confidence</th>\n",
              "      <th>year</th>\n",
              "      <th>artist_latitude</th>\n",
              "      <th>artist_longitude</th>\n",
              "      <th>popularity</th>\n",
              "    </tr>\n",
              "  </thead>\n",
              "  <tbody>\n",
              "    <tr>\n",
              "      <th>0</th>\n",
              "      <td>0.493794</td>\n",
              "      <td>0.453028</td>\n",
              "      <td>465.60608</td>\n",
              "      <td>9.172</td>\n",
              "      <td>3</td>\n",
              "      <td>0.550</td>\n",
              "      <td>-26.607</td>\n",
              "      <td>1</td>\n",
              "      <td>0.635</td>\n",
              "      <td>457.079</td>\n",
              "      <td>85.888</td>\n",
              "      <td>1</td>\n",
              "      <td>0.000</td>\n",
              "      <td>0</td>\n",
              "      <td>40.71455</td>\n",
              "      <td>-74.00712</td>\n",
              "      <td>0</td>\n",
              "    </tr>\n",
              "    <tr>\n",
              "      <th>1</th>\n",
              "      <td>0.753314</td>\n",
              "      <td>0.465165</td>\n",
              "      <td>160.28689</td>\n",
              "      <td>0.282</td>\n",
              "      <td>0</td>\n",
              "      <td>0.464</td>\n",
              "      <td>-10.903</td>\n",
              "      <td>1</td>\n",
              "      <td>0.513</td>\n",
              "      <td>154.697</td>\n",
              "      <td>61.877</td>\n",
              "      <td>1</td>\n",
              "      <td>0.532</td>\n",
              "      <td>0</td>\n",
              "      <td>33.60651</td>\n",
              "      <td>-88.65042</td>\n",
              "      <td>1</td>\n",
              "    </tr>\n",
              "    <tr>\n",
              "      <th>2</th>\n",
              "      <td>0.627006</td>\n",
              "      <td>0.384872</td>\n",
              "      <td>385.01832</td>\n",
              "      <td>0.000</td>\n",
              "      <td>2</td>\n",
              "      <td>0.188</td>\n",
              "      <td>-12.289</td>\n",
              "      <td>1</td>\n",
              "      <td>0.259</td>\n",
              "      <td>374.323</td>\n",
              "      <td>160.093</td>\n",
              "      <td>4</td>\n",
              "      <td>0.655</td>\n",
              "      <td>2004</td>\n",
              "      <td>52.88356</td>\n",
              "      <td>-1.97406</td>\n",
              "      <td>1</td>\n",
              "    </tr>\n",
              "    <tr>\n",
              "      <th>3</th>\n",
              "      <td>0.668675</td>\n",
              "      <td>0.467538</td>\n",
              "      <td>118.38649</td>\n",
              "      <td>0.090</td>\n",
              "      <td>11</td>\n",
              "      <td>0.947</td>\n",
              "      <td>-2.629</td>\n",
              "      <td>1</td>\n",
              "      <td>0.771</td>\n",
              "      <td>106.823</td>\n",
              "      <td>112.649</td>\n",
              "      <td>5</td>\n",
              "      <td>0.510</td>\n",
              "      <td>2003</td>\n",
              "      <td>42.33168</td>\n",
              "      <td>-83.04792</td>\n",
              "      <td>1</td>\n",
              "    </tr>\n",
              "    <tr>\n",
              "      <th>4</th>\n",
              "      <td>0.678041</td>\n",
              "      <td>0.463545</td>\n",
              "      <td>237.58322</td>\n",
              "      <td>0.114</td>\n",
              "      <td>4</td>\n",
              "      <td>0.486</td>\n",
              "      <td>-6.687</td>\n",
              "      <td>1</td>\n",
              "      <td>0.602</td>\n",
              "      <td>226.197</td>\n",
              "      <td>123.826</td>\n",
              "      <td>4</td>\n",
              "      <td>0.586</td>\n",
              "      <td>2009</td>\n",
              "      <td>34.03674</td>\n",
              "      <td>-94.33942</td>\n",
              "      <td>0</td>\n",
              "    </tr>\n",
              "  </tbody>\n",
              "</table>\n",
              "</div>"
            ],
            "text/plain": [
              "   artist_familiarity  artist_hotttnesss   duration  end_of_fade_in  key  \\\n",
              "0            0.493794           0.453028  465.60608           9.172    3   \n",
              "1            0.753314           0.465165  160.28689           0.282    0   \n",
              "2            0.627006           0.384872  385.01832           0.000    2   \n",
              "3            0.668675           0.467538  118.38649           0.090   11   \n",
              "4            0.678041           0.463545  237.58322           0.114    4   \n",
              "\n",
              "   key_confidence  loudness  mode  mode_confidence  start_of_fade_out  \\\n",
              "0           0.550   -26.607     1            0.635            457.079   \n",
              "1           0.464   -10.903     1            0.513            154.697   \n",
              "2           0.188   -12.289     1            0.259            374.323   \n",
              "3           0.947    -2.629     1            0.771            106.823   \n",
              "4           0.486    -6.687     1            0.602            226.197   \n",
              "\n",
              "     tempo  time_signature  time_signature_confidence  year  artist_latitude  \\\n",
              "0   85.888               1                      0.000     0         40.71455   \n",
              "1   61.877               1                      0.532     0         33.60651   \n",
              "2  160.093               4                      0.655  2004         52.88356   \n",
              "3  112.649               5                      0.510  2003         42.33168   \n",
              "4  123.826               4                      0.586  2009         34.03674   \n",
              "\n",
              "   artist_longitude  popularity  \n",
              "0         -74.00712           0  \n",
              "1         -88.65042           1  \n",
              "2          -1.97406           1  \n",
              "3         -83.04792           1  \n",
              "4         -94.33942           0  "
            ]
          },
          "execution_count": 198,
          "metadata": {},
          "output_type": "execute_result"
        }
      ],
      "source": [
        "merged_df = pre_data.append(post_data, ignore_index=True)\n",
        "merged_df.head()"
      ]
    },
    {
      "cell_type": "code",
      "execution_count": 199,
      "metadata": {
        "id": "cn8HQxRDkm-k"
      },
      "outputs": [],
      "source": [
        "from sklearn.model_selection import train_test_split\n",
        "X_train, X_test, y_train, y_test = train_test_split(merged_df.drop(columns = ['popularity']), merged_df['popularity'], test_size=0.3, random_state=42)"
      ]
    },
    {
      "cell_type": "code",
      "execution_count": 200,
      "metadata": {
        "id": "gpB4zyzknhQj"
      },
      "outputs": [],
      "source": [
        "from sklearn.preprocessing import MinMaxScaler\n",
        "\n",
        "scaler = MinMaxScaler()\n",
        "X_train_norm = scaler.fit_transform(X_train)\n",
        "X_test_norm = scaler.transform(X_test)"
      ]
    },
    {
      "cell_type": "code",
      "execution_count": 201,
      "metadata": {
        "id": "bvFbAJM0hhtJ"
      },
      "outputs": [],
      "source": [
        "## random forest classfier\n",
        "rf = RandomForestClassifier(n_estimators=100, random_state=42)\n",
        "# Fit the model to the training data\n",
        "rf.fit(X_train, y_train)\n",
        "# Predict the labels of the test data\n",
        "y_pred_rf = rf.predict(X_test)"
      ]
    },
    {
      "cell_type": "code",
      "execution_count": null,
      "metadata": {},
      "outputs": [],
      "source": []
    },
    {
      "cell_type": "code",
      "execution_count": 202,
      "metadata": {},
      "outputs": [],
      "source": [
        "# !pip3 install xgboost"
      ]
    },
    {
      "cell_type": "code",
      "execution_count": 203,
      "metadata": {
        "id": "_A_2xPlwhmYF"
      },
      "outputs": [
        {
          "name": "stdout",
          "output_type": "stream",
          "text": [
            "[20:52:38] WARNING: /Users/runner/work/xgboost/xgboost/python-package/build/temp.macosx-11.0-arm64-cpython-38/xgboost/src/learner.cc:767: \n",
            "Parameters: { \"silent\" } are not used.\n",
            "\n"
          ]
        }
      ],
      "source": [
        "## Xgboost\n",
        "from xgboost import XGBClassifier\n",
        "xgb = XGBClassifier(learning_rate=0.02, n_estimators=600, objective='binary:logistic',\n",
        "                    silent=True, nthread=1)\n",
        "xgb.fit(X_train, y_train) \n",
        "y_pred_xgb = rf.predict(X_test)"
      ]
    },
    {
      "cell_type": "code",
      "execution_count": 204,
      "metadata": {
        "colab": {
          "base_uri": "https://localhost:8080/",
          "height": 226
        },
        "id": "Cf9Q0vM8i_-K",
        "outputId": "528c97c2-50c4-44e7-dd9b-42b8b23022d6"
      },
      "outputs": [
        {
          "data": {
            "text/plain": [
              "0.731787093152474"
            ]
          },
          "execution_count": 204,
          "metadata": {},
          "output_type": "execute_result"
        }
      ],
      "source": [
        "## Gradient Boosting\n",
        "from sklearn.ensemble import GradientBoostingClassifier\n",
        "gbc = GradientBoostingClassifier(n_estimators=100, learning_rate=1.0, max_depth=1, random_state=0).fit(X_train, y_train)\n",
        "y_pred_gbc = gbc.predict(X_test)\n",
        "gbc.score(X_test, y_test)\n"
      ]
    },
    {
      "cell_type": "code",
      "execution_count": 205,
      "metadata": {
        "id": "v2DHDccThomC"
      },
      "outputs": [
        {
          "name": "stderr",
          "output_type": "stream",
          "text": [
            "/Library/Frameworks/Python.framework/Versions/3.11/lib/python3.11/site-packages/sklearn/base.py:432: UserWarning: X has feature names, but KNeighborsClassifier was fitted without feature names\n",
            "  warnings.warn(\n"
          ]
        }
      ],
      "source": [
        "## KNN\n",
        "# Use the KNN classifier to fit data:\n",
        "from sklearn.neighbors import KNeighborsClassifier\n",
        "from sklearn.metrics import accuracy_score\n",
        "from sklearn.model_selection import cross_val_score\n",
        "\n",
        "knn = KNeighborsClassifier(n_neighbors=5)\n",
        "knn.fit(X_train_norm, y_train) \n",
        "\n",
        "# Predict y data with classifier: \n",
        "y_predict_knn = knn.predict(X_test)"
      ]
    },
    {
      "cell_type": "code",
      "execution_count": 207,
      "metadata": {
        "id": "qrhn5DCMnlLk"
      },
      "outputs": [
        {
          "name": "stdout",
          "output_type": "stream",
          "text": [
            "[21:36:52] WARNING: /Users/runner/work/xgboost/xgboost/python-package/build/temp.macosx-11.0-arm64-cpython-38/xgboost/src/learner.cc:767: \n",
            "Parameters: { \"silent\" } are not used.\n",
            "\n",
            "[21:38:09] WARNING: /Users/runner/work/xgboost/xgboost/python-package/build/temp.macosx-11.0-arm64-cpython-38/xgboost/src/learner.cc:767: \n",
            "Parameters: { \"silent\" } are not used.\n",
            "\n",
            "[21:39:27] WARNING: /Users/runner/work/xgboost/xgboost/python-package/build/temp.macosx-11.0-arm64-cpython-38/xgboost/src/learner.cc:767: \n",
            "Parameters: { \"silent\" } are not used.\n",
            "\n",
            "[21:40:43] WARNING: /Users/runner/work/xgboost/xgboost/python-package/build/temp.macosx-11.0-arm64-cpython-38/xgboost/src/learner.cc:767: \n",
            "Parameters: { \"silent\" } are not used.\n",
            "\n",
            "[21:42:00] WARNING: /Users/runner/work/xgboost/xgboost/python-package/build/temp.macosx-11.0-arm64-cpython-38/xgboost/src/learner.cc:767: \n",
            "Parameters: { \"silent\" } are not used.\n",
            "\n",
            "Random Fores mean score: 0.7505012007532496\n",
            "XGBoost mean score: 0.7410095237715544\n",
            "Gradient Boosting mean score: 0.7314892103984545\n",
            "KNN mean score: 0.6774720146016031\n"
          ]
        }
      ],
      "source": [
        "# cross validation\n",
        "from sklearn.metrics import make_scorer\n",
        "metric = accuracy_score\n",
        "rf_scores = cross_val_score(rf, X_test, y_test, cv=5, scoring=make_scorer(metric))\n",
        "xgb_scores = cross_val_score(xgb, X_test, y_test, cv=5, scoring=make_scorer(metric))\n",
        "gbc_scores = cross_val_score(gbc, X_test, y_test, cv=5, scoring=make_scorer(metric))\n",
        "knn_scores = cross_val_score(knn, X_test_norm, y_test, cv=5, scoring=make_scorer(metric))\n",
        "\n",
        "\n",
        "print(\"Random Fores mean score:\", rf_scores.mean())\n",
        "print(\"XGBoost mean score:\", xgb_scores.mean())\n",
        "print(\"Gradient Boosting mean score:\", gbc_scores.mean())\n",
        "print(\"KNN mean score:\", knn_scores.mean())"
      ]
    },
    {
      "cell_type": "code",
      "execution_count": 209,
      "metadata": {},
      "outputs": [
        {
          "data": {
            "text/plain": [
              "array([0.74815982, 0.75554919, 0.74973507, 0.75194043, 0.7471215 ])"
            ]
          },
          "execution_count": 209,
          "metadata": {},
          "output_type": "execute_result"
        }
      ],
      "source": [
        "rf_scores"
      ]
    },
    {
      "cell_type": "code",
      "execution_count": 210,
      "metadata": {
        "id": "r1Kdv43borCN"
      },
      "outputs": [],
      "source": [
        "scores = [rf_scores.mean(), xgb_scores.mean(), gbc_scores.mean(), knn_scores.mean()]\n",
        "models = [rf, xgb, gbc, knn]\n",
        "\n",
        "best_score = max(scores)\n",
        "best_model = models[scores.index(best_score)]"
      ]
    },
    {
      "cell_type": "code",
      "execution_count": 211,
      "metadata": {},
      "outputs": [
        {
          "data": {
            "text/html": [
              "<style>#sk-container-id-5 {color: black;background-color: white;}#sk-container-id-5 pre{padding: 0;}#sk-container-id-5 div.sk-toggleable {background-color: white;}#sk-container-id-5 label.sk-toggleable__label {cursor: pointer;display: block;width: 100%;margin-bottom: 0;padding: 0.3em;box-sizing: border-box;text-align: center;}#sk-container-id-5 label.sk-toggleable__label-arrow:before {content: \"▸\";float: left;margin-right: 0.25em;color: #696969;}#sk-container-id-5 label.sk-toggleable__label-arrow:hover:before {color: black;}#sk-container-id-5 div.sk-estimator:hover label.sk-toggleable__label-arrow:before {color: black;}#sk-container-id-5 div.sk-toggleable__content {max-height: 0;max-width: 0;overflow: hidden;text-align: left;background-color: #f0f8ff;}#sk-container-id-5 div.sk-toggleable__content pre {margin: 0.2em;color: black;border-radius: 0.25em;background-color: #f0f8ff;}#sk-container-id-5 input.sk-toggleable__control:checked~div.sk-toggleable__content {max-height: 200px;max-width: 100%;overflow: auto;}#sk-container-id-5 input.sk-toggleable__control:checked~label.sk-toggleable__label-arrow:before {content: \"▾\";}#sk-container-id-5 div.sk-estimator input.sk-toggleable__control:checked~label.sk-toggleable__label {background-color: #d4ebff;}#sk-container-id-5 div.sk-label input.sk-toggleable__control:checked~label.sk-toggleable__label {background-color: #d4ebff;}#sk-container-id-5 input.sk-hidden--visually {border: 0;clip: rect(1px 1px 1px 1px);clip: rect(1px, 1px, 1px, 1px);height: 1px;margin: -1px;overflow: hidden;padding: 0;position: absolute;width: 1px;}#sk-container-id-5 div.sk-estimator {font-family: monospace;background-color: #f0f8ff;border: 1px dotted black;border-radius: 0.25em;box-sizing: border-box;margin-bottom: 0.5em;}#sk-container-id-5 div.sk-estimator:hover {background-color: #d4ebff;}#sk-container-id-5 div.sk-parallel-item::after {content: \"\";width: 100%;border-bottom: 1px solid gray;flex-grow: 1;}#sk-container-id-5 div.sk-label:hover label.sk-toggleable__label {background-color: #d4ebff;}#sk-container-id-5 div.sk-serial::before {content: \"\";position: absolute;border-left: 1px solid gray;box-sizing: border-box;top: 0;bottom: 0;left: 50%;z-index: 0;}#sk-container-id-5 div.sk-serial {display: flex;flex-direction: column;align-items: center;background-color: white;padding-right: 0.2em;padding-left: 0.2em;position: relative;}#sk-container-id-5 div.sk-item {position: relative;z-index: 1;}#sk-container-id-5 div.sk-parallel {display: flex;align-items: stretch;justify-content: center;background-color: white;position: relative;}#sk-container-id-5 div.sk-item::before, #sk-container-id-5 div.sk-parallel-item::before {content: \"\";position: absolute;border-left: 1px solid gray;box-sizing: border-box;top: 0;bottom: 0;left: 50%;z-index: -1;}#sk-container-id-5 div.sk-parallel-item {display: flex;flex-direction: column;z-index: 1;position: relative;background-color: white;}#sk-container-id-5 div.sk-parallel-item:first-child::after {align-self: flex-end;width: 50%;}#sk-container-id-5 div.sk-parallel-item:last-child::after {align-self: flex-start;width: 50%;}#sk-container-id-5 div.sk-parallel-item:only-child::after {width: 0;}#sk-container-id-5 div.sk-dashed-wrapped {border: 1px dashed gray;margin: 0 0.4em 0.5em 0.4em;box-sizing: border-box;padding-bottom: 0.4em;background-color: white;}#sk-container-id-5 div.sk-label label {font-family: monospace;font-weight: bold;display: inline-block;line-height: 1.2em;}#sk-container-id-5 div.sk-label-container {text-align: center;}#sk-container-id-5 div.sk-container {/* jupyter's `normalize.less` sets `[hidden] { display: none; }` but bootstrap.min.css set `[hidden] { display: none !important; }` so we also need the `!important` here to be able to override the default hidden behavior on the sphinx rendered scikit-learn.org. See: https://github.com/scikit-learn/scikit-learn/issues/21755 */display: inline-block !important;position: relative;}#sk-container-id-5 div.sk-text-repr-fallback {display: none;}</style><div id=\"sk-container-id-5\" class=\"sk-top-container\"><div class=\"sk-text-repr-fallback\"><pre>RandomForestClassifier(random_state=42)</pre><b>In a Jupyter environment, please rerun this cell to show the HTML representation or trust the notebook. <br />On GitHub, the HTML representation is unable to render, please try loading this page with nbviewer.org.</b></div><div class=\"sk-container\" hidden><div class=\"sk-item\"><div class=\"sk-estimator sk-toggleable\"><input class=\"sk-toggleable__control sk-hidden--visually\" id=\"sk-estimator-id-5\" type=\"checkbox\" checked><label for=\"sk-estimator-id-5\" class=\"sk-toggleable__label sk-toggleable__label-arrow\">RandomForestClassifier</label><div class=\"sk-toggleable__content\"><pre>RandomForestClassifier(random_state=42)</pre></div></div></div></div></div>"
            ],
            "text/plain": [
              "RandomForestClassifier(random_state=42)"
            ]
          },
          "execution_count": 211,
          "metadata": {},
          "output_type": "execute_result"
        }
      ],
      "source": [
        "best_model"
      ]
    },
    {
      "cell_type": "code",
      "execution_count": 216,
      "metadata": {
        "id": "O4X2WlreoX3n"
      },
      "outputs": [
        {
          "name": "stdout",
          "output_type": "stream",
          "text": [
            "Fitting 5 folds for each of 10 candidates, totalling 50 fits\n",
            "[CV] END bootstrap=True, max_depth=5, max_features=sqrt, min_samples_leaf=5, min_samples_split=10, n_estimators=100; total time=  25.6s\n",
            "[CV] END bootstrap=True, max_depth=5, max_features=sqrt, min_samples_leaf=5, min_samples_split=10, n_estimators=100; total time=  25.8s\n",
            "[CV] END bootstrap=True, max_depth=5, max_features=sqrt, min_samples_leaf=5, min_samples_split=10, n_estimators=100; total time=  25.8s\n",
            "[CV] END bootstrap=True, max_depth=5, max_features=sqrt, min_samples_leaf=5, min_samples_split=10, n_estimators=100; total time=  26.0s\n",
            "[CV] END bootstrap=True, max_depth=5, max_features=sqrt, min_samples_leaf=15, min_samples_split=10, n_estimators=50; total time=  12.8s\n",
            "[CV] END bootstrap=True, max_depth=5, max_features=sqrt, min_samples_leaf=15, min_samples_split=10, n_estimators=50; total time=  13.0s\n",
            "[CV] END bootstrap=True, max_depth=5, max_features=sqrt, min_samples_leaf=15, min_samples_split=10, n_estimators=50; total time=  13.0s\n",
            "[CV] END bootstrap=False, max_depth=7, max_features=sqrt, min_samples_leaf=5, min_samples_split=15, n_estimators=10; total time=   5.0s\n",
            "[CV] END bootstrap=False, max_depth=7, max_features=sqrt, min_samples_leaf=5, min_samples_split=15, n_estimators=10; total time=   4.9s\n",
            "[CV] END bootstrap=True, max_depth=5, max_features=sqrt, min_samples_leaf=15, min_samples_split=10, n_estimators=50; total time=  12.7s\n",
            "[CV] END bootstrap=True, max_depth=5, max_features=sqrt, min_samples_leaf=5, min_samples_split=10, n_estimators=100; total time=  25.8s\n",
            "[CV] END bootstrap=True, max_depth=5, max_features=sqrt, min_samples_leaf=15, min_samples_split=10, n_estimators=50; total time=  12.9s\n",
            "[CV] END bootstrap=False, max_depth=7, max_features=sqrt, min_samples_leaf=5, min_samples_split=15, n_estimators=10; total time=   4.9s\n",
            "[CV] END bootstrap=False, max_depth=7, max_features=sqrt, min_samples_leaf=5, min_samples_split=15, n_estimators=10; total time=   5.0s\n",
            "[CV] END bootstrap=False, max_depth=7, max_features=sqrt, min_samples_leaf=5, min_samples_split=15, n_estimators=10; total time=   4.9s\n",
            "[CV] END bootstrap=False, max_depth=5, max_features=sqrt, min_samples_leaf=15, min_samples_split=20, n_estimators=100; total time=  34.4s\n",
            "[CV] END bootstrap=False, max_depth=5, max_features=sqrt, min_samples_leaf=15, min_samples_split=20, n_estimators=100; total time=  34.6s\n",
            "[CV] END bootstrap=False, max_depth=5, max_features=sqrt, min_samples_leaf=15, min_samples_split=20, n_estimators=100; total time=  34.2s\n",
            "[CV] END bootstrap=False, max_depth=5, max_features=sqrt, min_samples_leaf=15, min_samples_split=20, n_estimators=100; total time=  34.4s\n",
            "[CV] END bootstrap=True, max_depth=5, max_features=sqrt, min_samples_leaf=15, min_samples_split=20, n_estimators=100; total time=  25.3s\n",
            "[CV] END bootstrap=True, max_depth=5, max_features=sqrt, min_samples_leaf=15, min_samples_split=20, n_estimators=100; total time=  25.4s\n",
            "[CV] END bootstrap=True, max_depth=5, max_features=sqrt, min_samples_leaf=15, min_samples_split=20, n_estimators=100; total time=  25.4s\n",
            "[CV] END bootstrap=False, max_depth=5, max_features=sqrt, min_samples_leaf=15, min_samples_split=20, n_estimators=100; total time=  34.7s\n",
            "[CV] END bootstrap=False, max_depth=5, max_features=sqrt, min_samples_leaf=15, min_samples_split=10, n_estimators=50; total time=  17.1s\n",
            "[CV] END bootstrap=False, max_depth=5, max_features=sqrt, min_samples_leaf=15, min_samples_split=10, n_estimators=50; total time=  17.1s\n",
            "[CV] END bootstrap=True, max_depth=5, max_features=sqrt, min_samples_leaf=15, min_samples_split=20, n_estimators=100; total time=  24.6s\n",
            "[CV] END bootstrap=True, max_depth=5, max_features=sqrt, min_samples_leaf=15, min_samples_split=20, n_estimators=100; total time=  24.6s\n",
            "[CV] END bootstrap=False, max_depth=5, max_features=sqrt, min_samples_leaf=15, min_samples_split=10, n_estimators=50; total time=  17.1s\n",
            "[CV] END bootstrap=False, max_depth=5, max_features=sqrt, min_samples_leaf=15, min_samples_split=10, n_estimators=50; total time=  17.0s\n",
            "[CV] END bootstrap=False, max_depth=5, max_features=sqrt, min_samples_leaf=15, min_samples_split=10, n_estimators=50; total time=  17.0s\n",
            "[CV] END bootstrap=True, max_depth=10, max_features=sqrt, min_samples_leaf=5, min_samples_split=20, n_estimators=50; total time=  23.0s\n",
            "[CV] END bootstrap=True, max_depth=10, max_features=sqrt, min_samples_leaf=5, min_samples_split=20, n_estimators=50; total time=  22.5s\n",
            "[CV] END bootstrap=True, max_depth=10, max_features=sqrt, min_samples_leaf=5, min_samples_split=20, n_estimators=50; total time=  22.8s\n",
            "[CV] END bootstrap=True, max_depth=10, max_features=sqrt, min_samples_leaf=5, min_samples_split=20, n_estimators=50; total time=  22.5s\n",
            "[CV] END bootstrap=True, max_depth=10, max_features=sqrt, min_samples_leaf=5, min_samples_split=20, n_estimators=50; total time=  22.8s\n",
            "[CV] END bootstrap=False, max_depth=10, max_features=sqrt, min_samples_leaf=5, min_samples_split=15, n_estimators=100; total time= 1.1min\n",
            "[CV] END bootstrap=False, max_depth=10, max_features=sqrt, min_samples_leaf=5, min_samples_split=15, n_estimators=100; total time= 1.1min\n",
            "[CV] END bootstrap=False, max_depth=10, max_features=sqrt, min_samples_leaf=5, min_samples_split=15, n_estimators=100; total time= 1.1min\n",
            "[CV] END bootstrap=True, max_depth=10, max_features=sqrt, min_samples_leaf=15, min_samples_split=10, n_estimators=10; total time=   4.6s\n",
            "[CV] END bootstrap=True, max_depth=10, max_features=sqrt, min_samples_leaf=15, min_samples_split=10, n_estimators=10; total time=   4.7s\n",
            "[CV] END bootstrap=False, max_depth=10, max_features=sqrt, min_samples_leaf=5, min_samples_split=15, n_estimators=100; total time= 1.1min\n",
            "[CV] END bootstrap=True, max_depth=10, max_features=sqrt, min_samples_leaf=15, min_samples_split=10, n_estimators=10; total time=   4.7s\n",
            "[CV] END bootstrap=True, max_depth=10, max_features=sqrt, min_samples_leaf=15, min_samples_split=10, n_estimators=10; total time=   4.6s\n",
            "[CV] END bootstrap=True, max_depth=5, max_features=sqrt, min_samples_leaf=15, min_samples_split=10, n_estimators=10; total time=   2.6s\n",
            "[CV] END bootstrap=True, max_depth=5, max_features=sqrt, min_samples_leaf=15, min_samples_split=10, n_estimators=10; total time=   2.6s\n",
            "[CV] END bootstrap=True, max_depth=10, max_features=sqrt, min_samples_leaf=15, min_samples_split=10, n_estimators=10; total time=   4.7s\n",
            "[CV] END bootstrap=True, max_depth=5, max_features=sqrt, min_samples_leaf=15, min_samples_split=10, n_estimators=10; total time=   2.6s\n",
            "[CV] END bootstrap=True, max_depth=5, max_features=sqrt, min_samples_leaf=15, min_samples_split=10, n_estimators=10; total time=   2.6s\n",
            "[CV] END bootstrap=True, max_depth=5, max_features=sqrt, min_samples_leaf=15, min_samples_split=10, n_estimators=10; total time=   2.6s\n",
            "[CV] END bootstrap=False, max_depth=10, max_features=sqrt, min_samples_leaf=5, min_samples_split=15, n_estimators=100; total time= 1.1min\n"
          ]
        }
      ],
      "source": [
        "## use the best model and fine tuning the parameters\n",
        "from sklearn.model_selection import RandomizedSearchCV\n",
        "#the number of trees in the forest,\n",
        "# the maximum depth of each tree, \n",
        "# the minimum number of samples required to split a node, \n",
        "# the minimum number of samples required to be at a leaf node, \n",
        "# and the number of features\n",
        "param_space = {\n",
        "    'n_estimators': [10, 30, 50, 100],\n",
        "    'max_depth': [5, 7, 10],\n",
        "    'min_samples_split': [10, 15, 20],\n",
        "    'min_samples_leaf': [5, 10, 15],\n",
        "    'max_features': ['sqrt'],\n",
        "    'bootstrap': [True, False]\n",
        "}\n",
        "\n",
        "random_search = RandomizedSearchCV(\n",
        "    estimator = best_model,\n",
        "    param_distributions = param_space,\n",
        "    verbose=2, \n",
        "    n_jobs = 4,\n",
        "    cv=5\n",
        ")\n",
        "\n",
        "random_search.fit(X_train, y_train)\n",
        "best_params = random_search.best_params_"
      ]
    },
    {
      "cell_type": "code",
      "execution_count": 217,
      "metadata": {},
      "outputs": [
        {
          "data": {
            "text/plain": [
              "{'n_estimators': 100,\n",
              " 'min_samples_split': 15,\n",
              " 'min_samples_leaf': 5,\n",
              " 'max_features': 'sqrt',\n",
              " 'max_depth': 10,\n",
              " 'bootstrap': False}"
            ]
          },
          "execution_count": 217,
          "metadata": {},
          "output_type": "execute_result"
        }
      ],
      "source": [
        "best_params"
      ]
    },
    {
      "cell_type": "code",
      "execution_count": 219,
      "metadata": {},
      "outputs": [
        {
          "name": "stdout",
          "output_type": "stream",
          "text": [
            "Train Accuracy: 0.748\n",
            "Test Accuracy: 0.741\n"
          ]
        }
      ],
      "source": [
        "print (f'Train Accuracy: {random_search.score(X_train,y_train):.3f}')\n",
        "print (f'Test Accuracy: {random_search.score(X_test,y_test):.3f}')"
      ]
    }
  ],
  "metadata": {
    "colab": {
      "include_colab_link": true,
      "provenance": []
    },
    "kernelspec": {
      "display_name": "Python 3 (ipykernel)",
      "language": "python",
      "name": "python3"
    },
    "language_info": {
      "codemirror_mode": {
        "name": "ipython",
        "version": 3
      },
      "file_extension": ".py",
      "mimetype": "text/x-python",
      "name": "python",
      "nbconvert_exporter": "python",
      "pygments_lexer": "ipython3",
      "version": "3.11.1"
    }
  },
  "nbformat": 4,
  "nbformat_minor": 0
}
