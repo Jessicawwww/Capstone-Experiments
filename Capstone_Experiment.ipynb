{
  "cells": [
    {
      "cell_type": "markdown",
      "metadata": {
        "id": "view-in-github",
        "colab_type": "text"
      },
      "source": [
        "<a href=\"https://colab.research.google.com/github/Jessicawwww/Capstone-Experiments/blob/main/Capstone_Experiment.ipynb\" target=\"_parent\"><img src=\"https://colab.research.google.com/assets/colab-badge.svg\" alt=\"Open In Colab\"/></a>"
      ]
    },
    {
      "cell_type": "code",
      "source": [
        "#Mounting Google Drive onto virtual environment\n",
        "from google.colab import drive\n",
        "drive.mount('/content/drive')\n",
        "# #Installing Base Packages\n",
        "# !pip3 install utils\n",
        "# !pip3 install numpy==1.17.0\n",
        "# !pip3 install scipy==1.4.1"
      ],
      "metadata": {
        "id": "Hkngu1BpfzAy",
        "colab": {
          "base_uri": "https://localhost:8080/"
        },
        "outputId": "7d9e4b97-41b8-45b5-ba63-7736a34b03e8"
      },
      "execution_count": 1,
      "outputs": [
        {
          "output_type": "stream",
          "name": "stdout",
          "text": [
            "Mounted at /content/drive\n"
          ]
        }
      ]
    },
    {
      "cell_type": "code",
      "source": [
        "#/content/drive/My Drive/ gets to your drive. \n",
        "%cd /content/drive/My Drive/Capstone TCS/final"
      ],
      "metadata": {
        "colab": {
          "base_uri": "https://localhost:8080/"
        },
        "id": "pdfcG0gGf4X3",
        "outputId": "b9d14e26-3bbb-41f6-a54e-78c60cc3d785"
      },
      "execution_count": 2,
      "outputs": [
        {
          "output_type": "stream",
          "name": "stdout",
          "text": [
            "/content/drive/.shortcut-targets-by-id/1DzBEX3L6TIcOWVCpjtc2tmWd8buAK-zO/Capstone TCS/final\n"
          ]
        }
      ]
    },
    {
      "cell_type": "code",
      "source": [
        "%ls"
      ],
      "metadata": {
        "colab": {
          "base_uri": "https://localhost:8080/"
        },
        "id": "_P5ckwHBgdzh",
        "outputId": "c54fc3b3-70b6-409c-96f6-8c11697ba702"
      },
      "execution_count": 3,
      "outputs": [
        {
          "output_type": "stream",
          "name": "stdout",
          "text": [
            "A_1.csv                    E_9.csv   K_24.csv  Q_36.csv  V_50.csv\n",
            "A_2.csv                    F_12.csv  K_25.csv  Q_37.csv  W_50.csv\n",
            "A_3.csv                    F_13.csv  L_25.csv  Q_39.csv  W_51.csv\n",
            "B_3.csv                    F_14.csv  L_26.csv  R_39.csv  W_52.csv\n",
            "B_4.csv                    G_14.csv  L_27.csv  R_40.csv  X_52.csv\n",
            "B_5.csv                    G_15.csv  M_27.csv  R_41.csv  X_53.csv\n",
            "C_5.csv                    G_16.csv  M_28.csv  S_41.csv  X_54.csv\n",
            "C_6.csv                    H_16.csv  M_30.csv  S_42.csv  Y_54.csv\n",
            "C_7.csv                    H_17.csv  N_30.csv  S_43.csv  Y_55.csv\n",
            "Capstone-Experiment.ipynb  H_18.csv  N_31.csv  T_43.csv  Y_56.csv\n",
            "Capstone.ipynb             I_18.csv  N_32.csv  T_44.csv  Z_56.csv\n",
            "D_7.csv                    I_19.csv  O_32.csv  T_45.csv  Z_57.csv\n",
            "D_8.csv                    I_21.csv  O_33.csv  U_45.csv  Z_59.csv\n",
            "D_9.csv                    J_21.csv  O_34.csv  U_46.csv\n",
            "deployed_model.joblib      J_22.csv  P_34.csv  U_48.csv\n",
            "E_10.csv                   J_23.csv  P_35.csv  V_48.csv\n",
            "E_12.csv                   K_23.csv  P_36.csv  V_49.csv\n"
          ]
        }
      ]
    },
    {
      "cell_type": "markdown",
      "metadata": {
        "id": "n5JPQfDGfWpt"
      },
      "source": [
        "## EDA (to be continued)"
      ]
    },
    {
      "cell_type": "code",
      "execution_count": 4,
      "metadata": {
        "id": "7HNsqwlrfWpv"
      },
      "outputs": [],
      "source": [
        "import pandas as pd\n",
        "import glob\n",
        "\n",
        "schema = {\n",
        "    'song_hotttnesss': float,\n",
        "    'artist_familiarity': float,\n",
        "    'artist_hotttnesss': float,\n",
        "    'artist_id': str,\n",
        "    'artist_latitude': float,\n",
        "    'artist_location': str,\n",
        "    'artist_longitude': float,\n",
        "    'artist_name': str,\n",
        "    'title': str,\n",
        "    'danceability': float,\n",
        "    'duration': float,\n",
        "    'end_of_fade_in': float,\n",
        "    'energy': float,\n",
        "    'key': float,\n",
        "    'key_confidence': float,\n",
        "    'loudness': float,\n",
        "    'mode': float,\n",
        "    'mode_confidence': float,\n",
        "    'start_of_fade_out': float,\n",
        "    'tempo': float,\n",
        "    'time_signature': float,\n",
        "    'time_signature_confidence': float,\n",
        "    'artist_terms': str,\n",
        "    'artist_terms_freq': str,\n",
        "    'artist_terms_weight': str,\n",
        "    'year': float\n",
        "}\n",
        "\n",
        "# read each CSV file into a separate DataFrame, and concatenate them\n",
        "cols=list(schema.keys())\n",
        "temp=[]\n",
        "for csv_file in glob.glob('*.csv'):\n",
        "    temp_df = pd.read_csv(csv_file,names=cols)\n",
        "    temp.append(temp_df)\n",
        "    \n",
        "df = pd.concat(temp, ignore_index=True)"
      ]
    },
    {
      "cell_type": "code",
      "execution_count": 5,
      "metadata": {
        "colab": {
          "base_uri": "https://localhost:8080/"
        },
        "id": "BIuvYVOMfWpw",
        "outputId": "b6ac30c9-7b0e-4efe-f655-2e3c4097195a"
      },
      "outputs": [
        {
          "output_type": "execute_result",
          "data": {
            "text/plain": [
              "581965"
            ]
          },
          "metadata": {},
          "execution_count": 5
        }
      ],
      "source": [
        "len(df)"
      ]
    },
    {
      "cell_type": "code",
      "execution_count": 6,
      "metadata": {
        "colab": {
          "base_uri": "https://localhost:8080/"
        },
        "id": "XpNi1Ap_fWpw",
        "outputId": "fcc33597-19bf-4fd4-df81-25228c2dcaa0"
      },
      "outputs": [
        {
          "output_type": "execute_result",
          "data": {
            "text/plain": [
              "Index(['song_hotttnesss', 'artist_familiarity', 'artist_hotttnesss',\n",
              "       'artist_id', 'artist_latitude', 'artist_location', 'artist_longitude',\n",
              "       'artist_name', 'title', 'danceability', 'duration', 'end_of_fade_in',\n",
              "       'energy', 'key', 'key_confidence', 'loudness', 'mode',\n",
              "       'mode_confidence', 'start_of_fade_out', 'tempo', 'time_signature',\n",
              "       'time_signature_confidence', 'artist_terms', 'artist_terms_freq',\n",
              "       'artist_terms_weight', 'year'],\n",
              "      dtype='object')"
            ]
          },
          "metadata": {},
          "execution_count": 6
        }
      ],
      "source": [
        "df.columns"
      ]
    },
    {
      "cell_type": "code",
      "execution_count": 7,
      "metadata": {
        "colab": {
          "base_uri": "https://localhost:8080/"
        },
        "id": "NyeBqmGbfWpx",
        "outputId": "a6e519a3-1d4b-4162-94a2-a30da2058e4d"
      },
      "outputs": [
        {
          "output_type": "execute_result",
          "data": {
            "text/plain": [
              "0.0    581965\n",
              "Name: danceability, dtype: int64"
            ]
          },
          "metadata": {},
          "execution_count": 7
        }
      ],
      "source": [
        "df.danceability.value_counts()"
      ]
    },
    {
      "cell_type": "code",
      "execution_count": 8,
      "metadata": {
        "id": "kaR_hRoFfWpx",
        "outputId": "4215f643-e670-46e6-d7df-a551fc91fca2",
        "colab": {
          "base_uri": "https://localhost:8080/"
        }
      },
      "outputs": [
        {
          "output_type": "execute_result",
          "data": {
            "text/plain": [
              "0.0    581965\n",
              "Name: energy, dtype: int64"
            ]
          },
          "metadata": {},
          "execution_count": 8
        }
      ],
      "source": [
        "df.energy.value_counts()"
      ]
    },
    {
      "cell_type": "code",
      "execution_count": 9,
      "metadata": {
        "id": "Zhzw9dvzfWpx"
      },
      "outputs": [],
      "source": [
        "# drop empty features\n",
        "df.drop(['danceability','energy'],axis=1,inplace=True)"
      ]
    },
    {
      "cell_type": "code",
      "execution_count": 10,
      "metadata": {
        "colab": {
          "base_uri": "https://localhost:8080/",
          "height": 577
        },
        "id": "mA60R0P6fWpx",
        "outputId": "d61753e0-20cb-49a6-944d-d2889de03fe6"
      },
      "outputs": [
        {
          "output_type": "execute_result",
          "data": {
            "text/plain": [
              "   song_hotttnesss  artist_familiarity  artist_hotttnesss           artist_id  \\\n",
              "0         0.768139            0.797571           0.562733  ARSASTM1187FB52759   \n",
              "1         0.652836            0.929030           0.750427  ARR3ONV1187B9A2F59   \n",
              "2         0.536789            0.814014           0.727709  ARC4W081187B9ACDBD   \n",
              "3         0.565742            0.726409           0.493950  ARVFF0Y1187B9AC3CA   \n",
              "4         0.447136            0.743284           0.461002  ARFN3551187FB4C930   \n",
              "\n",
              "   artist_latitude artist_location  artist_longitude     artist_name  \\\n",
              "0              NaN             NaN               NaN  Hit The Lights   \n",
              "1         54.31407              UK          -2.23001            Muse   \n",
              "2         35.14968     Memphis, TN         -90.04892         Skillet   \n",
              "3              NaN    Stockton, CA               NaN        Pavement   \n",
              "4              NaN             NaN               NaN     The Turtles   \n",
              "\n",
              "                                title   duration  ...  mode  mode_confidence  \\\n",
              "0                          Breathe In  186.95791  ...     1            0.846   \n",
              "1                   Bedroom Acoustics  156.96934  ...     0            0.524   \n",
              "2  Looking For Angels (Album Version)  271.30730  ...     0            0.590   \n",
              "3                 Hands Off The Bayou  163.73506  ...     1            0.000   \n",
              "4          The Story Of Rock And Roll  180.55791  ...     1            0.521   \n",
              "\n",
              "   start_of_fade_out    tempo  time_signature  time_signature_confidence  \\\n",
              "0            177.575   92.426               4                      0.554   \n",
              "1            142.286  127.547               1                      0.168   \n",
              "2            253.991   90.046               4                      0.912   \n",
              "3            161.582  107.917               4                      0.648   \n",
              "4            165.790  117.996               1                      0.000   \n",
              "\n",
              "                                        artist_terms  \\\n",
              "0  ['pop punk', 'emo', 'indie rock', 'rock', 'pun...   \n",
              "1  ['art rock', 'piano rock', 'indie pop', 'alter...   \n",
              "2  ['christian rock', 'rock', 'alternative', 'con...   \n",
              "3  ['noise pop', 'alternative rock', 'indie rock'...   \n",
              "4  ['folk rock', \"rock 'n roll\", 'surf music', 'd...   \n",
              "\n",
              "                                   artist_terms_freq  \\\n",
              "0  [0.999373773601825, 1.0, 0.999373773601825, 0....   \n",
              "1  [0.9123026880588256, 0.8835195033365459, 0.985...   \n",
              "2  [0.9446169630278316, 1.0, 0.8590184926657504, ...   \n",
              "3  [0.9999421019508828, 1.0, 0.9999855298290615, ...   \n",
              "4  [1.0, 0.7674699865828425, 0.7673871184623114, ...   \n",
              "\n",
              "                                 artist_terms_weight  year  \n",
              "0  [1.0, 0.9357329466861807, 0.8862493667839598, ...  2008  \n",
              "1  [1.0, 0.9998263469850132, 0.9837746658376495, ...     0  \n",
              "2  [1.0, 0.8191646107325354, 0.7417081604435652, ...  2006  \n",
              "3  [1.0, 0.8538280670641224, 0.8452680132770719, ...  2004  \n",
              "4  [1.0, 0.8619570370128912, 0.8618868797089401, ...  1993  \n",
              "\n",
              "[5 rows x 24 columns]"
            ],
            "text/html": [
              "\n",
              "  <div id=\"df-30213dc0-c20c-423f-8b98-931190a92ffe\">\n",
              "    <div class=\"colab-df-container\">\n",
              "      <div>\n",
              "<style scoped>\n",
              "    .dataframe tbody tr th:only-of-type {\n",
              "        vertical-align: middle;\n",
              "    }\n",
              "\n",
              "    .dataframe tbody tr th {\n",
              "        vertical-align: top;\n",
              "    }\n",
              "\n",
              "    .dataframe thead th {\n",
              "        text-align: right;\n",
              "    }\n",
              "</style>\n",
              "<table border=\"1\" class=\"dataframe\">\n",
              "  <thead>\n",
              "    <tr style=\"text-align: right;\">\n",
              "      <th></th>\n",
              "      <th>song_hotttnesss</th>\n",
              "      <th>artist_familiarity</th>\n",
              "      <th>artist_hotttnesss</th>\n",
              "      <th>artist_id</th>\n",
              "      <th>artist_latitude</th>\n",
              "      <th>artist_location</th>\n",
              "      <th>artist_longitude</th>\n",
              "      <th>artist_name</th>\n",
              "      <th>title</th>\n",
              "      <th>duration</th>\n",
              "      <th>...</th>\n",
              "      <th>mode</th>\n",
              "      <th>mode_confidence</th>\n",
              "      <th>start_of_fade_out</th>\n",
              "      <th>tempo</th>\n",
              "      <th>time_signature</th>\n",
              "      <th>time_signature_confidence</th>\n",
              "      <th>artist_terms</th>\n",
              "      <th>artist_terms_freq</th>\n",
              "      <th>artist_terms_weight</th>\n",
              "      <th>year</th>\n",
              "    </tr>\n",
              "  </thead>\n",
              "  <tbody>\n",
              "    <tr>\n",
              "      <th>0</th>\n",
              "      <td>0.768139</td>\n",
              "      <td>0.797571</td>\n",
              "      <td>0.562733</td>\n",
              "      <td>ARSASTM1187FB52759</td>\n",
              "      <td>NaN</td>\n",
              "      <td>NaN</td>\n",
              "      <td>NaN</td>\n",
              "      <td>Hit The Lights</td>\n",
              "      <td>Breathe In</td>\n",
              "      <td>186.95791</td>\n",
              "      <td>...</td>\n",
              "      <td>1</td>\n",
              "      <td>0.846</td>\n",
              "      <td>177.575</td>\n",
              "      <td>92.426</td>\n",
              "      <td>4</td>\n",
              "      <td>0.554</td>\n",
              "      <td>['pop punk', 'emo', 'indie rock', 'rock', 'pun...</td>\n",
              "      <td>[0.999373773601825, 1.0, 0.999373773601825, 0....</td>\n",
              "      <td>[1.0, 0.9357329466861807, 0.8862493667839598, ...</td>\n",
              "      <td>2008</td>\n",
              "    </tr>\n",
              "    <tr>\n",
              "      <th>1</th>\n",
              "      <td>0.652836</td>\n",
              "      <td>0.929030</td>\n",
              "      <td>0.750427</td>\n",
              "      <td>ARR3ONV1187B9A2F59</td>\n",
              "      <td>54.31407</td>\n",
              "      <td>UK</td>\n",
              "      <td>-2.23001</td>\n",
              "      <td>Muse</td>\n",
              "      <td>Bedroom Acoustics</td>\n",
              "      <td>156.96934</td>\n",
              "      <td>...</td>\n",
              "      <td>0</td>\n",
              "      <td>0.524</td>\n",
              "      <td>142.286</td>\n",
              "      <td>127.547</td>\n",
              "      <td>1</td>\n",
              "      <td>0.168</td>\n",
              "      <td>['art rock', 'piano rock', 'indie pop', 'alter...</td>\n",
              "      <td>[0.9123026880588256, 0.8835195033365459, 0.985...</td>\n",
              "      <td>[1.0, 0.9998263469850132, 0.9837746658376495, ...</td>\n",
              "      <td>0</td>\n",
              "    </tr>\n",
              "    <tr>\n",
              "      <th>2</th>\n",
              "      <td>0.536789</td>\n",
              "      <td>0.814014</td>\n",
              "      <td>0.727709</td>\n",
              "      <td>ARC4W081187B9ACDBD</td>\n",
              "      <td>35.14968</td>\n",
              "      <td>Memphis, TN</td>\n",
              "      <td>-90.04892</td>\n",
              "      <td>Skillet</td>\n",
              "      <td>Looking For Angels (Album Version)</td>\n",
              "      <td>271.30730</td>\n",
              "      <td>...</td>\n",
              "      <td>0</td>\n",
              "      <td>0.590</td>\n",
              "      <td>253.991</td>\n",
              "      <td>90.046</td>\n",
              "      <td>4</td>\n",
              "      <td>0.912</td>\n",
              "      <td>['christian rock', 'rock', 'alternative', 'con...</td>\n",
              "      <td>[0.9446169630278316, 1.0, 0.8590184926657504, ...</td>\n",
              "      <td>[1.0, 0.8191646107325354, 0.7417081604435652, ...</td>\n",
              "      <td>2006</td>\n",
              "    </tr>\n",
              "    <tr>\n",
              "      <th>3</th>\n",
              "      <td>0.565742</td>\n",
              "      <td>0.726409</td>\n",
              "      <td>0.493950</td>\n",
              "      <td>ARVFF0Y1187B9AC3CA</td>\n",
              "      <td>NaN</td>\n",
              "      <td>Stockton, CA</td>\n",
              "      <td>NaN</td>\n",
              "      <td>Pavement</td>\n",
              "      <td>Hands Off The Bayou</td>\n",
              "      <td>163.73506</td>\n",
              "      <td>...</td>\n",
              "      <td>1</td>\n",
              "      <td>0.000</td>\n",
              "      <td>161.582</td>\n",
              "      <td>107.917</td>\n",
              "      <td>4</td>\n",
              "      <td>0.648</td>\n",
              "      <td>['noise pop', 'alternative rock', 'indie rock'...</td>\n",
              "      <td>[0.9999421019508828, 1.0, 0.9999855298290615, ...</td>\n",
              "      <td>[1.0, 0.8538280670641224, 0.8452680132770719, ...</td>\n",
              "      <td>2004</td>\n",
              "    </tr>\n",
              "    <tr>\n",
              "      <th>4</th>\n",
              "      <td>0.447136</td>\n",
              "      <td>0.743284</td>\n",
              "      <td>0.461002</td>\n",
              "      <td>ARFN3551187FB4C930</td>\n",
              "      <td>NaN</td>\n",
              "      <td>NaN</td>\n",
              "      <td>NaN</td>\n",
              "      <td>The Turtles</td>\n",
              "      <td>The Story Of Rock And Roll</td>\n",
              "      <td>180.55791</td>\n",
              "      <td>...</td>\n",
              "      <td>1</td>\n",
              "      <td>0.521</td>\n",
              "      <td>165.790</td>\n",
              "      <td>117.996</td>\n",
              "      <td>1</td>\n",
              "      <td>0.000</td>\n",
              "      <td>['folk rock', \"rock 'n roll\", 'surf music', 'd...</td>\n",
              "      <td>[1.0, 0.7674699865828425, 0.7673871184623114, ...</td>\n",
              "      <td>[1.0, 0.8619570370128912, 0.8618868797089401, ...</td>\n",
              "      <td>1993</td>\n",
              "    </tr>\n",
              "  </tbody>\n",
              "</table>\n",
              "<p>5 rows × 24 columns</p>\n",
              "</div>\n",
              "      <button class=\"colab-df-convert\" onclick=\"convertToInteractive('df-30213dc0-c20c-423f-8b98-931190a92ffe')\"\n",
              "              title=\"Convert this dataframe to an interactive table.\"\n",
              "              style=\"display:none;\">\n",
              "        \n",
              "  <svg xmlns=\"http://www.w3.org/2000/svg\" height=\"24px\"viewBox=\"0 0 24 24\"\n",
              "       width=\"24px\">\n",
              "    <path d=\"M0 0h24v24H0V0z\" fill=\"none\"/>\n",
              "    <path d=\"M18.56 5.44l.94 2.06.94-2.06 2.06-.94-2.06-.94-.94-2.06-.94 2.06-2.06.94zm-11 1L8.5 8.5l.94-2.06 2.06-.94-2.06-.94L8.5 2.5l-.94 2.06-2.06.94zm10 10l.94 2.06.94-2.06 2.06-.94-2.06-.94-.94-2.06-.94 2.06-2.06.94z\"/><path d=\"M17.41 7.96l-1.37-1.37c-.4-.4-.92-.59-1.43-.59-.52 0-1.04.2-1.43.59L10.3 9.45l-7.72 7.72c-.78.78-.78 2.05 0 2.83L4 21.41c.39.39.9.59 1.41.59.51 0 1.02-.2 1.41-.59l7.78-7.78 2.81-2.81c.8-.78.8-2.07 0-2.86zM5.41 20L4 18.59l7.72-7.72 1.47 1.35L5.41 20z\"/>\n",
              "  </svg>\n",
              "      </button>\n",
              "      \n",
              "  <style>\n",
              "    .colab-df-container {\n",
              "      display:flex;\n",
              "      flex-wrap:wrap;\n",
              "      gap: 12px;\n",
              "    }\n",
              "\n",
              "    .colab-df-convert {\n",
              "      background-color: #E8F0FE;\n",
              "      border: none;\n",
              "      border-radius: 50%;\n",
              "      cursor: pointer;\n",
              "      display: none;\n",
              "      fill: #1967D2;\n",
              "      height: 32px;\n",
              "      padding: 0 0 0 0;\n",
              "      width: 32px;\n",
              "    }\n",
              "\n",
              "    .colab-df-convert:hover {\n",
              "      background-color: #E2EBFA;\n",
              "      box-shadow: 0px 1px 2px rgba(60, 64, 67, 0.3), 0px 1px 3px 1px rgba(60, 64, 67, 0.15);\n",
              "      fill: #174EA6;\n",
              "    }\n",
              "\n",
              "    [theme=dark] .colab-df-convert {\n",
              "      background-color: #3B4455;\n",
              "      fill: #D2E3FC;\n",
              "    }\n",
              "\n",
              "    [theme=dark] .colab-df-convert:hover {\n",
              "      background-color: #434B5C;\n",
              "      box-shadow: 0px 1px 3px 1px rgba(0, 0, 0, 0.15);\n",
              "      filter: drop-shadow(0px 1px 2px rgba(0, 0, 0, 0.3));\n",
              "      fill: #FFFFFF;\n",
              "    }\n",
              "  </style>\n",
              "\n",
              "      <script>\n",
              "        const buttonEl =\n",
              "          document.querySelector('#df-30213dc0-c20c-423f-8b98-931190a92ffe button.colab-df-convert');\n",
              "        buttonEl.style.display =\n",
              "          google.colab.kernel.accessAllowed ? 'block' : 'none';\n",
              "\n",
              "        async function convertToInteractive(key) {\n",
              "          const element = document.querySelector('#df-30213dc0-c20c-423f-8b98-931190a92ffe');\n",
              "          const dataTable =\n",
              "            await google.colab.kernel.invokeFunction('convertToInteractive',\n",
              "                                                     [key], {});\n",
              "          if (!dataTable) return;\n",
              "\n",
              "          const docLinkHtml = 'Like what you see? Visit the ' +\n",
              "            '<a target=\"_blank\" href=https://colab.research.google.com/notebooks/data_table.ipynb>data table notebook</a>'\n",
              "            + ' to learn more about interactive tables.';\n",
              "          element.innerHTML = '';\n",
              "          dataTable['output_type'] = 'display_data';\n",
              "          await google.colab.output.renderOutput(dataTable, element);\n",
              "          const docLink = document.createElement('div');\n",
              "          docLink.innerHTML = docLinkHtml;\n",
              "          element.appendChild(docLink);\n",
              "        }\n",
              "      </script>\n",
              "    </div>\n",
              "  </div>\n",
              "  "
            ]
          },
          "metadata": {},
          "execution_count": 10
        }
      ],
      "source": [
        "df.head()"
      ]
    },
    {
      "cell_type": "code",
      "execution_count": 11,
      "metadata": {
        "scrolled": false,
        "colab": {
          "base_uri": "https://localhost:8080/"
        },
        "id": "tNdA4erQfWpy",
        "outputId": "c6932d7f-372d-45a3-dcac-d9a8b2bbd933"
      },
      "outputs": [
        {
          "output_type": "stream",
          "name": "stdout",
          "text": [
            "Number of NaN values in column 'song_hotttnesss': 0\n",
            "Number of NaN values in column 'artist_familiarity': 54\n",
            "Number of NaN values in column 'artist_hotttnesss': 0\n",
            "Number of NaN values in column 'artist_id': 0\n",
            "Number of NaN values in column 'artist_latitude': 369135\n",
            "Number of NaN values in column 'artist_location': 269325\n",
            "Number of NaN values in column 'artist_longitude': 369135\n",
            "Number of NaN values in column 'artist_name': 0\n",
            "Number of NaN values in column 'title': 2\n",
            "Number of NaN values in column 'duration': 0\n",
            "Number of NaN values in column 'end_of_fade_in': 0\n",
            "Number of NaN values in column 'key': 0\n",
            "Number of NaN values in column 'key_confidence': 0\n",
            "Number of NaN values in column 'loudness': 0\n",
            "Number of NaN values in column 'mode': 0\n",
            "Number of NaN values in column 'mode_confidence': 0\n",
            "Number of NaN values in column 'start_of_fade_out': 0\n",
            "Number of NaN values in column 'tempo': 0\n",
            "Number of NaN values in column 'time_signature': 0\n",
            "Number of NaN values in column 'time_signature_confidence': 0\n",
            "Number of NaN values in column 'artist_terms': 0\n",
            "Number of NaN values in column 'artist_terms_freq': 0\n",
            "Number of NaN values in column 'artist_terms_weight': 0\n",
            "Number of NaN values in column 'year': 0\n"
          ]
        }
      ],
      "source": [
        "for col in df.columns:\n",
        "    num_nans = df[col].isnull().sum()\n",
        "    print(f\"Number of NaN values in column '{col}': {num_nans}\")"
      ]
    },
    {
      "cell_type": "markdown",
      "metadata": {
        "id": "80hVAzSOfWpy"
      },
      "source": [
        "We define a song to be popular if its song_hotttnesss value is above average,and assign a label called popularity"
      ]
    },
    {
      "cell_type": "code",
      "execution_count": 12,
      "metadata": {
        "id": "0hXMk7skfWpy"
      },
      "outputs": [],
      "source": [
        "import numpy as np\n",
        "pop_avg=np.mean(df['song_hotttnesss'])\n",
        "df['popularity']= df.song_hotttnesss.map(lambda x: 1 if x > pop_avg else 0)"
      ]
    },
    {
      "cell_type": "markdown",
      "metadata": {
        "id": "QcmMzvdgfWpy"
      },
      "source": [
        "**Here is one way to split the data if you want a pre/post deploy differentiation**"
      ]
    },
    {
      "cell_type": "code",
      "execution_count": 13,
      "metadata": {
        "id": "ykRF9GQqfWpy"
      },
      "outputs": [],
      "source": [
        "# define the three columns to split by\n",
        "split_cols = ['artist_latitude', 'artist_longitude']\n",
        "\n",
        "\n",
        "# Split the dataframe into two parts based on the null values in split_cols\n",
        "df_notnull = df[df[split_cols].notnull().all(axis=1)]\n",
        "df_null = df[~df[split_cols].notnull().all(axis=1)]"
      ]
    },
    {
      "cell_type": "code",
      "execution_count": 14,
      "metadata": {
        "colab": {
          "base_uri": "https://localhost:8080/"
        },
        "id": "1VO0TKrUfWpy",
        "outputId": "3599488b-6faf-4bed-f938-06dfc656362e"
      },
      "outputs": [
        {
          "output_type": "execute_result",
          "data": {
            "text/plain": [
              "369135"
            ]
          },
          "metadata": {},
          "execution_count": 14
        }
      ],
      "source": [
        "len(df_null)"
      ]
    },
    {
      "cell_type": "code",
      "execution_count": 15,
      "metadata": {
        "colab": {
          "base_uri": "https://localhost:8080/"
        },
        "id": "H1Y3JW2hfWpz",
        "outputId": "7287e3b9-efc2-488f-c03a-2999e74ad71d"
      },
      "outputs": [
        {
          "output_type": "execute_result",
          "data": {
            "text/plain": [
              "212830"
            ]
          },
          "metadata": {},
          "execution_count": 15
        }
      ],
      "source": [
        "len(df_notnull)"
      ]
    },
    {
      "cell_type": "code",
      "execution_count": 16,
      "metadata": {
        "colab": {
          "base_uri": "https://localhost:8080/"
        },
        "id": "NM9QLAUkfWpz",
        "outputId": "dd3c5cf8-894a-4ebc-8734-57245fb8a27d"
      },
      "outputs": [
        {
          "output_type": "execute_result",
          "data": {
            "text/plain": [
              "Index(['song_hotttnesss', 'artist_familiarity', 'artist_hotttnesss',\n",
              "       'artist_id', 'artist_latitude', 'artist_location', 'artist_longitude',\n",
              "       'artist_name', 'title', 'duration', 'end_of_fade_in', 'key',\n",
              "       'key_confidence', 'loudness', 'mode', 'mode_confidence',\n",
              "       'start_of_fade_out', 'tempo', 'time_signature',\n",
              "       'time_signature_confidence', 'artist_terms', 'artist_terms_freq',\n",
              "       'artist_terms_weight', 'year', 'popularity'],\n",
              "      dtype='object')"
            ]
          },
          "metadata": {},
          "execution_count": 16
        }
      ],
      "source": [
        "df_notnull.columns"
      ]
    },
    {
      "cell_type": "code",
      "execution_count": 17,
      "metadata": {
        "id": "LzqwJ3ZmfWpz"
      },
      "outputs": [],
      "source": [
        "labels = ['artist_familiarity', 'artist_hotttnesss', 'duration', 'end_of_fade_in', 'key', \n",
        "            'key_confidence', 'loudness', 'mode', 'mode_confidence', 'start_of_fade_out', 'tempo', \n",
        "            'time_signature', 'time_signature_confidence','year', 'artist_latitude', 'artist_longitude','popularity']"
      ]
    },
    {
      "cell_type": "code",
      "execution_count": 18,
      "metadata": {
        "colab": {
          "base_uri": "https://localhost:8080/"
        },
        "id": "CUlIGocrfWpz",
        "outputId": "ed3469ae-2025-455f-e420-1f58a37d0916"
      },
      "outputs": [
        {
          "output_type": "stream",
          "name": "stderr",
          "text": [
            "<ipython-input-18-9bc76df44835>:4: SettingWithCopyWarning: \n",
            "A value is trying to be set on a copy of a slice from a DataFrame.\n",
            "Try using .loc[row_indexer,col_indexer] = value instead\n",
            "\n",
            "See the caveats in the documentation: https://pandas.pydata.org/pandas-docs/stable/user_guide/indexing.html#returning-a-view-versus-a-copy\n",
            "  post_data[['artist_latitude', 'artist_longitude']] = post_data[['artist_latitude', 'artist_longitude']].fillna(0)\n"
          ]
        }
      ],
      "source": [
        "#Drop 'artist_familiarity' NA\n",
        "pre_data = df_notnull[labels]\n",
        "post_data = df_null[labels]\n",
        "post_data[['artist_latitude', 'artist_longitude']] = post_data[['artist_latitude', 'artist_longitude']].fillna(0)\n",
        "pre_data = pre_data.dropna()\n",
        "post_data = post_data.dropna()"
      ]
    },
    {
      "cell_type": "code",
      "source": [],
      "metadata": {
        "id": "ROGif0rpmKr4"
      },
      "execution_count": null,
      "outputs": []
    },
    {
      "cell_type": "code",
      "execution_count": 19,
      "metadata": {
        "colab": {
          "base_uri": "https://localhost:8080/"
        },
        "id": "IjMPW6qtfWpz",
        "outputId": "d188b3f1-e104-4d08-de32-f5dcb92f57c5"
      },
      "outputs": [
        {
          "output_type": "execute_result",
          "data": {
            "text/plain": [
              "17"
            ]
          },
          "metadata": {},
          "execution_count": 19
        }
      ],
      "source": [
        "len(labels)"
      ]
    },
    {
      "cell_type": "code",
      "source": [
        "import matplotlib.pyplot as plt"
      ],
      "metadata": {
        "id": "D3RXfKWApthH"
      },
      "execution_count": 20,
      "outputs": []
    },
    {
      "cell_type": "code",
      "execution_count": 21,
      "metadata": {
        "scrolled": false,
        "colab": {
          "base_uri": "https://localhost:8080/",
          "height": 1000
        },
        "id": "5ANI6PuGfWpz",
        "outputId": "b612ec25-0764-4bd6-f435-3a3c58ec80c0"
      },
      "outputs": [
        {
          "output_type": "display_data",
          "data": {
            "text/plain": [
              "<Figure size 216x144 with 1 Axes>"
            ],
            "image/png": "[encoded data removed]"
          },
          "metadata": {
            "needs_background": "light"
          }
        },
        {
          "output_type": "display_data",
          "data": {
            "text/plain": [
              "<Figure size 216x144 with 1 Axes>"
            ],
            "image/png": "[encoded data removed]"
          },
          "metadata": {
            "needs_background": "light"
          }
        },
        {
          "output_type": "display_data",
          "data": {
            "text/plain": [
              "<Figure size 216x144 with 1 Axes>"
            ],
            "image/png": "[encoded data removed]"
          },
          "metadata": {
            "needs_background": "light"
          }
        },
        {
          "output_type": "display_data",
          "data": {
            "text/plain": [
              "<Figure size 216x144 with 1 Axes>"
            ],
            "image/png": "[encoded data removed]"
          },
          "metadata": {
            "needs_background": "light"
          }
        },
        {
          "output_type": "display_data",
          "data": {
            "text/plain": [
              "<Figure size 216x144 with 1 Axes>"
            ],
            "image/png": "[encoded data removed]"
          },
          "metadata": {
            "needs_background": "light"
          }
        },
        {
          "output_type": "display_data",
          "data": {
            "text/plain": [
              "<Figure size 216x144 with 1 Axes>"
            ],
            "image/png": "[encoded data removed]"
          },
          "metadata": {
            "needs_background": "light"
          }
        },
        {
          "output_type": "display_data",
          "data": {
            "text/plain": [
              "<Figure size 216x144 with 1 Axes>"
            ],
            "image/png": "[encoded data removed]"
          },
          "metadata": {
            "needs_background": "light"
          }
        },
        {
          "output_type": "display_data",
          "data": {
            "text/plain": [
              "<Figure size 216x144 with 1 Axes>"
            ],
            "image/png": "[encoded data removed]"
          },
          "metadata": {
            "needs_background": "light"
          }
        },
        {
          "output_type": "display_data",
          "data": {
            "text/plain": [
              "<Figure size 216x144 with 1 Axes>"
            ],
            "image/png": "[encoded data removed]"
          },
          "metadata": {
            "needs_background": "light"
          }
        },
        {
          "output_type": "display_data",
          "data": {
            "text/plain": [
              "<Figure size 216x144 with 1 Axes>"
            ],
            "image/png": "[encoded data removed]"
          },
          "metadata": {
            "needs_background": "light"
          }
        },
        {
          "output_type": "display_data",
          "data": {
            "text/plain": [
              "<Figure size 216x144 with 1 Axes>"
            ],
            "image/png": "[encoded data removed]"
          },
          "metadata": {
            "needs_background": "light"
          }
        },
        {
          "output_type": "display_data",
          "data": {
            "text/plain": [
              "<Figure size 216x144 with 1 Axes>"
            ],
            "image/png": "[encoded data removed]"
          },
          "metadata": {
            "needs_background": "light"
          }
        },
        {
          "output_type": "display_data",
          "data": {
            "text/plain": [
              "<Figure size 216x144 with 1 Axes>"
            ],
            "image/png": "[encoded data removed]"
          },
          "metadata": {
            "needs_background": "light"
          }
        },
        {
          "output_type": "display_data",
          "data": {
            "text/plain": [
              "<Figure size 216x144 with 1 Axes>"
            ],
            "image/png": "[encoded data removed]"
          },
          "metadata": {
            "needs_background": "light"
          }
        },
        {
          "output_type": "display_data",
          "data": {
            "text/plain": [
              "<Figure size 216x144 with 1 Axes>"
            ],
            "image/png": "[encoded data removed]"
          },
          "metadata": {
            "needs_background": "light"
          }
        },
        {
          "output_type": "display_data",
          "data": {
            "text/plain": [
              "<Figure size 216x144 with 1 Axes>"
            ],
            "image/png": "[encoded data removed]"
          },
          "metadata": {
            "needs_background": "light"
          }
        }
      ],
      "source": [
        "for i in range(0,16):\n",
        "    plt.figure(figsize=(3,2))\n",
        "    plt.hist(pre_data[labels[i]], bins = 100, alpha = 0.5)\n",
        "    plt.hist(post_data[labels[i]], bins = 100, alpha = 0.5)\n",
        "    plt.xlabel('Values')\n",
        "    plt.ylabel('Frequency')\n",
        "    plt.title('Column '+ str(i+1))\n",
        "    plt.legend(['prev', 'latter'])\n",
        "    plt.show()"
      ]
    },
    {
      "cell_type": "code",
      "execution_count": 22,
      "metadata": {
        "id": "8V6g81H4fWpz",
        "outputId": "24153312-8689-485c-9245-772257cda269",
        "colab": {
          "base_uri": "https://localhost:8080/",
          "height": 187
        }
      },
      "outputs": [
        {
          "output_type": "display_data",
          "data": {
            "text/plain": [
              "<Figure size 216x144 with 1 Axes>"
            ],
            "image/png": "[encoded data removed]"
          },
          "metadata": {
            "needs_background": "light"
          }
        }
      ],
      "source": [
        "#Label distribution\n",
        "plt.figure(figsize=(3,2))\n",
        "plt.hist(pre_data['popularity'], bins = 100, alpha = 0.5)\n",
        "plt.hist(post_data['popularity'], bins = 100, alpha = 0.5)\n",
        "plt.xlabel('Values')\n",
        "plt.ylabel('Frequency')\n",
        "plt.title('Column label')\n",
        "plt.legend(['prev', 'latter'])\n",
        "plt.show()"
      ]
    },
    {
      "cell_type": "code",
      "execution_count": 23,
      "metadata": {
        "id": "W3ua_u4lfWp0"
      },
      "outputs": [],
      "source": [
        "import pandas as pd\n",
        "import numpy as np\n",
        "import matplotlib.pyplot as plt\n",
        "from sklearn import neighbors\n",
        "from sklearn.metrics import mean_squared_error \n",
        "from math import sqrt\n",
        "import joblib"
      ]
    },
    {
      "cell_type": "markdown",
      "metadata": {
        "id": "zZnDqfxnfWp0"
      },
      "source": [
        "## Training demo"
      ]
    },
    {
      "cell_type": "markdown",
      "metadata": {
        "id": "NQRE16A8fWp0"
      },
      "source": [
        "We define a song to be popular if its song_hotttnesss value is above average,"
      ]
    },
    {
      "cell_type": "code",
      "execution_count": 24,
      "metadata": {
        "id": "Tsf7vif3fWp0"
      },
      "outputs": [],
      "source": [
        "numeric_features= ['artist_familiarity', 'artist_hotttnesss', 'duration', 'end_of_fade_in', 'key', \n",
        "            'key_confidence', 'loudness', 'mode', 'mode_confidence', 'start_of_fade_out', 'tempo', \n",
        "            'time_signature', 'time_signature_confidence','year', 'artist_latitude', 'artist_longitude']\n",
        "label= ['popularity']"
      ]
    },
    {
      "cell_type": "code",
      "execution_count": 25,
      "metadata": {
        "id": "_UjHPCbUfWp0"
      },
      "outputs": [],
      "source": [
        "from sklearn.ensemble import RandomForestClassifier\n",
        "from sklearn.model_selection import train_test_split\n",
        "from sklearn.metrics import accuracy_score\n",
        "from sklearn.preprocessing import MinMaxScaler\n",
        "\n",
        "# Split data into training and testing sets\n",
        "df_sample=pre_data[numeric_features+label].dropna()\n",
        "X = df_sample[numeric_features]\n",
        "y = df_sample[label]\n",
        "X_train, X_test, y_train, y_test = train_test_split(X, y, test_size=0.3, random_state=42)\n",
        "scaler = MinMaxScaler()\n",
        "X_train = scaler.fit_transform(X_train)\n",
        "X_test = scaler.transform(X_test)"
      ]
    },
    {
      "cell_type": "code",
      "source": [
        "# Instantiate a Random Forest Classifier with 100 estimators\n",
        "rf = RandomForestClassifier(n_estimators=100, random_state=42)\n",
        "\n",
        "# Fit the model to the training data\n",
        "rf.fit(X_train, y_train)\n",
        "\n",
        "# Predict the labels of the test data\n",
        "y_pred = rf.predict(X_test)\n",
        "\n",
        "# Compute accuracy score\n",
        "accuracy = accuracy_score(y_test, y_pred)\n",
        "print(\"Random Forest Classifier Accuracy:\", accuracy)"
      ],
      "metadata": {
        "id": "luvDFhbKtFj6",
        "colab": {
          "base_uri": "https://localhost:8080/"
        },
        "outputId": "5c2008d7-ad45-4dcb-d653-896be2c51eb5"
      },
      "execution_count": 26,
      "outputs": [
        {
          "output_type": "stream",
          "name": "stderr",
          "text": [
            "<ipython-input-26-426de593d459>:5: DataConversionWarning: A column-vector y was passed when a 1d array was expected. Please change the shape of y to (n_samples,), for example using ravel().\n",
            "  rf.fit(X_train, y_train)\n"
          ]
        },
        {
          "output_type": "stream",
          "name": "stdout",
          "text": [
            "Random Forest Classifier Accuracy: 0.7833938976254621\n"
          ]
        }
      ]
    },
    {
      "cell_type": "code",
      "execution_count": 27,
      "metadata": {
        "id": "-ciEisCSfWp0",
        "colab": {
          "base_uri": "https://localhost:8080/"
        },
        "outputId": "ad35d0c3-729e-4b2d-92d7-c80f9713c332"
      },
      "outputs": [
        {
          "output_type": "execute_result",
          "data": {
            "text/plain": [
              "['./deployed_model.joblib']"
            ]
          },
          "metadata": {},
          "execution_count": 27
        }
      ],
      "source": [
        "#save model\n",
        "import joblib\n",
        "joblib.dump(rf, \"./deployed_model.joblib\")"
      ]
    },
    {
      "cell_type": "code",
      "source": [
        "deployed_model = joblib.load(\"./deployed_model.joblib\")"
      ],
      "metadata": {
        "id": "7jRFgNO7myd4"
      },
      "execution_count": 28,
      "outputs": []
    },
    {
      "cell_type": "code",
      "source": [
        "deployed_model"
      ],
      "metadata": {
        "colab": {
          "base_uri": "https://localhost:8080/",
          "height": 75
        },
        "id": "fAHHKmt8n6_l",
        "outputId": "0ddd2a0d-03dd-4661-d2c8-a68e1b222599"
      },
      "execution_count": 29,
      "outputs": [
        {
          "output_type": "execute_result",
          "data": {
            "text/plain": [
              "RandomForestClassifier(random_state=42)"
            ],
            "text/html": [
              "<style>#sk-container-id-1 {color: black;background-color: white;}#sk-container-id-1 pre{padding: 0;}#sk-container-id-1 div.sk-toggleable {background-color: white;}#sk-container-id-1 label.sk-toggleable__label {cursor: pointer;display: block;width: 100%;margin-bottom: 0;padding: 0.3em;box-sizing: border-box;text-align: center;}#sk-container-id-1 label.sk-toggleable__label-arrow:before {content: \"▸\";float: left;margin-right: 0.25em;color: #696969;}#sk-container-id-1 label.sk-toggleable__label-arrow:hover:before {color: black;}#sk-container-id-1 div.sk-estimator:hover label.sk-toggleable__label-arrow:before {color: black;}#sk-container-id-1 div.sk-toggleable__content {max-height: 0;max-width: 0;overflow: hidden;text-align: left;background-color: #f0f8ff;}#sk-container-id-1 div.sk-toggleable__content pre {margin: 0.2em;color: black;border-radius: 0.25em;background-color: #f0f8ff;}#sk-container-id-1 input.sk-toggleable__control:checked~div.sk-toggleable__content {max-height: 200px;max-width: 100%;overflow: auto;}#sk-container-id-1 input.sk-toggleable__control:checked~label.sk-toggleable__label-arrow:before {content: \"▾\";}#sk-container-id-1 div.sk-estimator input.sk-toggleable__control:checked~label.sk-toggleable__label {background-color: #d4ebff;}#sk-container-id-1 div.sk-label input.sk-toggleable__control:checked~label.sk-toggleable__label {background-color: #d4ebff;}#sk-container-id-1 input.sk-hidden--visually {border: 0;clip: rect(1px 1px 1px 1px);clip: rect(1px, 1px, 1px, 1px);height: 1px;margin: -1px;overflow: hidden;padding: 0;position: absolute;width: 1px;}#sk-container-id-1 div.sk-estimator {font-family: monospace;background-color: #f0f8ff;border: 1px dotted black;border-radius: 0.25em;box-sizing: border-box;margin-bottom: 0.5em;}#sk-container-id-1 div.sk-estimator:hover {background-color: #d4ebff;}#sk-container-id-1 div.sk-parallel-item::after {content: \"\";width: 100%;border-bottom: 1px solid gray;flex-grow: 1;}#sk-container-id-1 div.sk-label:hover label.sk-toggleable__label {background-color: #d4ebff;}#sk-container-id-1 div.sk-serial::before {content: \"\";position: absolute;border-left: 1px solid gray;box-sizing: border-box;top: 0;bottom: 0;left: 50%;z-index: 0;}#sk-container-id-1 div.sk-serial {display: flex;flex-direction: column;align-items: center;background-color: white;padding-right: 0.2em;padding-left: 0.2em;position: relative;}#sk-container-id-1 div.sk-item {position: relative;z-index: 1;}#sk-container-id-1 div.sk-parallel {display: flex;align-items: stretch;justify-content: center;background-color: white;position: relative;}#sk-container-id-1 div.sk-item::before, #sk-container-id-1 div.sk-parallel-item::before {content: \"\";position: absolute;border-left: 1px solid gray;box-sizing: border-box;top: 0;bottom: 0;left: 50%;z-index: -1;}#sk-container-id-1 div.sk-parallel-item {display: flex;flex-direction: column;z-index: 1;position: relative;background-color: white;}#sk-container-id-1 div.sk-parallel-item:first-child::after {align-self: flex-end;width: 50%;}#sk-container-id-1 div.sk-parallel-item:last-child::after {align-self: flex-start;width: 50%;}#sk-container-id-1 div.sk-parallel-item:only-child::after {width: 0;}#sk-container-id-1 div.sk-dashed-wrapped {border: 1px dashed gray;margin: 0 0.4em 0.5em 0.4em;box-sizing: border-box;padding-bottom: 0.4em;background-color: white;}#sk-container-id-1 div.sk-label label {font-family: monospace;font-weight: bold;display: inline-block;line-height: 1.2em;}#sk-container-id-1 div.sk-label-container {text-align: center;}#sk-container-id-1 div.sk-container {/* jupyter's `normalize.less` sets `[hidden] { display: none; }` but bootstrap.min.css set `[hidden] { display: none !important; }` so we also need the `!important` here to be able to override the default hidden behavior on the sphinx rendered scikit-learn.org. See: https://github.com/scikit-learn/scikit-learn/issues/21755 */display: inline-block !important;position: relative;}#sk-container-id-1 div.sk-text-repr-fallback {display: none;}</style><div id=\"sk-container-id-1\" class=\"sk-top-container\"><div class=\"sk-text-repr-fallback\"><pre>RandomForestClassifier(random_state=42)</pre><b>In a Jupyter environment, please rerun this cell to show the HTML representation or trust the notebook. <br />On GitHub, the HTML representation is unable to render, please try loading this page with nbviewer.org.</b></div><div class=\"sk-container\" hidden><div class=\"sk-item\"><div class=\"sk-estimator sk-toggleable\"><input class=\"sk-toggleable__control sk-hidden--visually\" id=\"sk-estimator-id-1\" type=\"checkbox\" checked><label for=\"sk-estimator-id-1\" class=\"sk-toggleable__label sk-toggleable__label-arrow\">RandomForestClassifier</label><div class=\"sk-toggleable__content\"><pre>RandomForestClassifier(random_state=42)</pre></div></div></div></div></div>"
            ]
          },
          "metadata": {},
          "execution_count": 29
        }
      ]
    },
    {
      "cell_type": "code",
      "source": [
        "print(len(pre_data))\n",
        "print(len(post_data))"
      ],
      "metadata": {
        "colab": {
          "base_uri": "https://localhost:8080/"
        },
        "id": "jQL5cwyxrFTA",
        "outputId": "1a948191-4d41-4413-eb3f-115fef74c276"
      },
      "execution_count": 30,
      "outputs": [
        {
          "output_type": "stream",
          "name": "stdout",
          "text": [
            "212812\n",
            "369099\n"
          ]
        }
      ]
    },
    {
      "cell_type": "code",
      "source": [
        "# Predict the labels of the test data\n",
        "y_pred_tr = deployed_model.predict(X_train)\n",
        "y_pred_test = deployed_model.predict(X_test)\n",
        "\n",
        "# Compute accuracy score\n",
        "train_score = accuracy_score(y_train, y_pred_tr) * 100\n",
        "print(f\"Train accuracy score: {train_score:.2f}%\")\n",
        "test_score = accuracy_score(y_test, y_pred_test) * 100\n",
        "print(f\"Test accuracy score: {test_score:.2f}%\")"
      ],
      "metadata": {
        "colab": {
          "base_uri": "https://localhost:8080/"
        },
        "id": "q3xxlqc6s-1K",
        "outputId": "10beaf56-084d-421e-e3ea-5d7b70263f7b"
      },
      "execution_count": 31,
      "outputs": [
        {
          "output_type": "stream",
          "name": "stdout",
          "text": [
            "Train accuracy score: 100.00%\n",
            "Test accuracy score: 78.34%\n"
          ]
        }
      ]
    },
    {
      "cell_type": "code",
      "source": [
        "np.unique(y_test)"
      ],
      "metadata": {
        "colab": {
          "base_uri": "https://localhost:8080/"
        },
        "id": "PtuLtwWoujF2",
        "outputId": "e8bdc1fb-4cb6-4908-eb9a-ab552b0c656d"
      },
      "execution_count": 32,
      "outputs": [
        {
          "output_type": "execute_result",
          "data": {
            "text/plain": [
              "array([0, 1])"
            ]
          },
          "metadata": {},
          "execution_count": 32
        }
      ]
    },
    {
      "cell_type": "code",
      "source": [
        "from sklearn.metrics import accuracy_score, classification_report, confusion_matrix\n",
        "from sklearn.metrics import ConfusionMatrixDisplay\n",
        "\n",
        "cm = confusion_matrix(y_test, y_pred_test)\n",
        "disp = ConfusionMatrixDisplay(\n",
        "    confusion_matrix=cm,\n",
        "    display_labels=[0,1]\n",
        ")\n",
        "\n",
        "\n",
        "# NOTE: Fill all variables here with default values of the plot_confusion_matrix\n",
        "fig, ax = plt.subplots(figsize=(10, 10))\n",
        "disp = disp.plot(xticks_rotation='vertical', ax=ax, cmap=\"summer\")\n",
        "\n",
        "plt.show()"
      ],
      "metadata": {
        "colab": {
          "base_uri": "https://localhost:8080/",
          "height": 574
        },
        "id": "WJRkn8HyrFMP",
        "outputId": "bf6bc08e-0422-468b-f574-3ca1f753ba03"
      },
      "execution_count": 33,
      "outputs": [
        {
          "output_type": "display_data",
          "data": {
            "text/plain": [
              "<Figure size 720x720 with 2 Axes>"
            ],
            "image/png": "[encoded data removed]"
          },
          "metadata": {
            "needs_background": "light"
          }
        }
      ]
    },
    {
      "cell_type": "code",
      "source": [
        "pd.DataFrame(classification_report(y_test, y_pred_test, output_dict=True)).T"
      ],
      "metadata": {
        "colab": {
          "base_uri": "https://localhost:8080/",
          "height": 206
        },
        "id": "x7Uc09XIxaj-",
        "outputId": "d4a1cad3-0353-4e1c-8e8b-52cf9b806fb9"
      },
      "execution_count": 34,
      "outputs": [
        {
          "output_type": "execute_result",
          "data": {
            "text/plain": [
              "              precision    recall  f1-score       support\n",
              "0              0.766274  0.775496  0.770857  29995.000000\n",
              "1              0.798913  0.790393  0.794630  33849.000000\n",
              "accuracy       0.783394  0.783394  0.783394      0.783394\n",
              "macro avg      0.782593  0.782944  0.782744  63844.000000\n",
              "weighted avg   0.783578  0.783394  0.783461  63844.000000"
            ],
            "text/html": [
              "\n",
              "  <div id=\"df-2ea43f20-3268-4283-b238-5ce7320899d9\">\n",
              "    <div class=\"colab-df-container\">\n",
              "      <div>\n",
              "<style scoped>\n",
              "    .dataframe tbody tr th:only-of-type {\n",
              "        vertical-align: middle;\n",
              "    }\n",
              "\n",
              "    .dataframe tbody tr th {\n",
              "        vertical-align: top;\n",
              "    }\n",
              "\n",
              "    .dataframe thead th {\n",
              "        text-align: right;\n",
              "    }\n",
              "</style>\n",
              "<table border=\"1\" class=\"dataframe\">\n",
              "  <thead>\n",
              "    <tr style=\"text-align: right;\">\n",
              "      <th></th>\n",
              "      <th>precision</th>\n",
              "      <th>recall</th>\n",
              "      <th>f1-score</th>\n",
              "      <th>support</th>\n",
              "    </tr>\n",
              "  </thead>\n",
              "  <tbody>\n",
              "    <tr>\n",
              "      <th>0</th>\n",
              "      <td>0.766274</td>\n",
              "      <td>0.775496</td>\n",
              "      <td>0.770857</td>\n",
              "      <td>29995.000000</td>\n",
              "    </tr>\n",
              "    <tr>\n",
              "      <th>1</th>\n",
              "      <td>0.798913</td>\n",
              "      <td>0.790393</td>\n",
              "      <td>0.794630</td>\n",
              "      <td>33849.000000</td>\n",
              "    </tr>\n",
              "    <tr>\n",
              "      <th>accuracy</th>\n",
              "      <td>0.783394</td>\n",
              "      <td>0.783394</td>\n",
              "      <td>0.783394</td>\n",
              "      <td>0.783394</td>\n",
              "    </tr>\n",
              "    <tr>\n",
              "      <th>macro avg</th>\n",
              "      <td>0.782593</td>\n",
              "      <td>0.782944</td>\n",
              "      <td>0.782744</td>\n",
              "      <td>63844.000000</td>\n",
              "    </tr>\n",
              "    <tr>\n",
              "      <th>weighted avg</th>\n",
              "      <td>0.783578</td>\n",
              "      <td>0.783394</td>\n",
              "      <td>0.783461</td>\n",
              "      <td>63844.000000</td>\n",
              "    </tr>\n",
              "  </tbody>\n",
              "</table>\n",
              "</div>\n",
              "      <button class=\"colab-df-convert\" onclick=\"convertToInteractive('df-2ea43f20-3268-4283-b238-5ce7320899d9')\"\n",
              "              title=\"Convert this dataframe to an interactive table.\"\n",
              "              style=\"display:none;\">\n",
              "        \n",
              "  <svg xmlns=\"http://www.w3.org/2000/svg\" height=\"24px\"viewBox=\"0 0 24 24\"\n",
              "       width=\"24px\">\n",
              "    <path d=\"M0 0h24v24H0V0z\" fill=\"none\"/>\n",
              "    <path d=\"M18.56 5.44l.94 2.06.94-2.06 2.06-.94-2.06-.94-.94-2.06-.94 2.06-2.06.94zm-11 1L8.5 8.5l.94-2.06 2.06-.94-2.06-.94L8.5 2.5l-.94 2.06-2.06.94zm10 10l.94 2.06.94-2.06 2.06-.94-2.06-.94-.94-2.06-.94 2.06-2.06.94z\"/><path d=\"M17.41 7.96l-1.37-1.37c-.4-.4-.92-.59-1.43-.59-.52 0-1.04.2-1.43.59L10.3 9.45l-7.72 7.72c-.78.78-.78 2.05 0 2.83L4 21.41c.39.39.9.59 1.41.59.51 0 1.02-.2 1.41-.59l7.78-7.78 2.81-2.81c.8-.78.8-2.07 0-2.86zM5.41 20L4 18.59l7.72-7.72 1.47 1.35L5.41 20z\"/>\n",
              "  </svg>\n",
              "      </button>\n",
              "      \n",
              "  <style>\n",
              "    .colab-df-container {\n",
              "      display:flex;\n",
              "      flex-wrap:wrap;\n",
              "      gap: 12px;\n",
              "    }\n",
              "\n",
              "    .colab-df-convert {\n",
              "      background-color: #E8F0FE;\n",
              "      border: none;\n",
              "      border-radius: 50%;\n",
              "      cursor: pointer;\n",
              "      display: none;\n",
              "      fill: #1967D2;\n",
              "      height: 32px;\n",
              "      padding: 0 0 0 0;\n",
              "      width: 32px;\n",
              "    }\n",
              "\n",
              "    .colab-df-convert:hover {\n",
              "      background-color: #E2EBFA;\n",
              "      box-shadow: 0px 1px 2px rgba(60, 64, 67, 0.3), 0px 1px 3px 1px rgba(60, 64, 67, 0.15);\n",
              "      fill: #174EA6;\n",
              "    }\n",
              "\n",
              "    [theme=dark] .colab-df-convert {\n",
              "      background-color: #3B4455;\n",
              "      fill: #D2E3FC;\n",
              "    }\n",
              "\n",
              "    [theme=dark] .colab-df-convert:hover {\n",
              "      background-color: #434B5C;\n",
              "      box-shadow: 0px 1px 3px 1px rgba(0, 0, 0, 0.15);\n",
              "      filter: drop-shadow(0px 1px 2px rgba(0, 0, 0, 0.3));\n",
              "      fill: #FFFFFF;\n",
              "    }\n",
              "  </style>\n",
              "\n",
              "      <script>\n",
              "        const buttonEl =\n",
              "          document.querySelector('#df-2ea43f20-3268-4283-b238-5ce7320899d9 button.colab-df-convert');\n",
              "        buttonEl.style.display =\n",
              "          google.colab.kernel.accessAllowed ? 'block' : 'none';\n",
              "\n",
              "        async function convertToInteractive(key) {\n",
              "          const element = document.querySelector('#df-2ea43f20-3268-4283-b238-5ce7320899d9');\n",
              "          const dataTable =\n",
              "            await google.colab.kernel.invokeFunction('convertToInteractive',\n",
              "                                                     [key], {});\n",
              "          if (!dataTable) return;\n",
              "\n",
              "          const docLinkHtml = 'Like what you see? Visit the ' +\n",
              "            '<a target=\"_blank\" href=https://colab.research.google.com/notebooks/data_table.ipynb>data table notebook</a>'\n",
              "            + ' to learn more about interactive tables.';\n",
              "          element.innerHTML = '';\n",
              "          dataTable['output_type'] = 'display_data';\n",
              "          await google.colab.output.renderOutput(dataTable, element);\n",
              "          const docLink = document.createElement('div');\n",
              "          docLink.innerHTML = docLinkHtml;\n",
              "          element.appendChild(docLink);\n",
              "        }\n",
              "      </script>\n",
              "    </div>\n",
              "  </div>\n",
              "  "
            ]
          },
          "metadata": {},
          "execution_count": 34
        }
      ]
    },
    {
      "cell_type": "markdown",
      "source": [
        "## Change of Data Schema"
      ],
      "metadata": {
        "id": "1pzuu3SHbZIY"
      }
    },
    {
      "cell_type": "code",
      "source": [
        "def test_data_schema(pre_data, post_data):\n",
        "    assert set(pre_data.columns) == set(post_data.columns),\"Data Schema shifted.\""
      ],
      "metadata": {
        "id": "vlNh203ubYdq"
      },
      "execution_count": 35,
      "outputs": []
    },
    {
      "cell_type": "markdown",
      "source": [
        "## Amount of new data"
      ],
      "metadata": {
        "id": "HIZW0S1lKp6L"
      }
    },
    {
      "cell_type": "code",
      "source": [
        "new_data_func = lambda pre, post: True if len(post)>len(pre) else False"
      ],
      "metadata": {
        "id": "-AC15KUwKspe"
      },
      "execution_count": 36,
      "outputs": []
    },
    {
      "cell_type": "code",
      "source": [
        "# new_data_func(X, X_post)"
      ],
      "metadata": {
        "id": "xOvNIZNWK-eG"
      },
      "execution_count": 38,
      "outputs": []
    },
    {
      "cell_type": "markdown",
      "source": [
        "## Concept Drift: shift in relationship between X and y"
      ],
      "metadata": {
        "id": "3OyVuc5vxk8J"
      }
    },
    {
      "cell_type": "code",
      "source": [
        "print(len(post_data), len(pre_data))"
      ],
      "metadata": {
        "colab": {
          "base_uri": "https://localhost:8080/"
        },
        "id": "u4fN_xnTzChl",
        "outputId": "3ffe10ac-08da-4b2a-e033-2ffb3131a133"
      },
      "execution_count": 40,
      "outputs": [
        {
          "output_type": "stream",
          "name": "stdout",
          "text": [
            "369099 212812\n"
          ]
        }
      ]
    },
    {
      "cell_type": "code",
      "source": [
        "X_post = post_data[numeric_features]\n",
        "y_post = post_data[label]\n",
        "y_pred_post = deployed_model.predict(X_post)\n",
        "\n",
        "# Compute accuracy score\n",
        "post_score = accuracy_score(y_post, y_pred_post) * 100\n",
        "print(f\"Post data accuracy score: {post_score:.2f}%\")"
      ],
      "metadata": {
        "colab": {
          "base_uri": "https://localhost:8080/"
        },
        "id": "AnOGlegCxm7G",
        "outputId": "bd1d464d-624d-4e55-ec05-3dc7523b0bdf"
      },
      "execution_count": 41,
      "outputs": [
        {
          "output_type": "stream",
          "name": "stdout",
          "text": [
            "Post data accuracy score: 72.08%\n"
          ]
        }
      ]
    },
    {
      "cell_type": "code",
      "source": [
        "print(len(X_train), len(X_test), len(X_post))"
      ],
      "metadata": {
        "colab": {
          "base_uri": "https://localhost:8080/"
        },
        "id": "f8dGgh8mzNL3",
        "outputId": "5fde6d75-87c2-488a-ca97-fedcbf5d68b1"
      },
      "execution_count": 42,
      "outputs": [
        {
          "output_type": "stream",
          "name": "stdout",
          "text": [
            "148968 63844 369099\n"
          ]
        }
      ]
    },
    {
      "cell_type": "code",
      "source": [
        "cm_post = confusion_matrix(y_post, y_pred_post)\n",
        "disp_post = ConfusionMatrixDisplay(\n",
        "    confusion_matrix=cm_post,\n",
        "    display_labels=[0,1]\n",
        ")\n",
        "\n",
        "\n",
        "# NOTE: Fill all variables here with default values of the plot_confusion_matrix\n",
        "fig, ax = plt.subplots(figsize=(10, 10))\n",
        "disp_post = disp_post.plot(xticks_rotation='vertical', ax=ax, cmap=\"summer\")\n",
        "\n",
        "plt.show()"
      ],
      "metadata": {
        "colab": {
          "base_uri": "https://localhost:8080/",
          "height": 579
        },
        "id": "Jrkk0eBeyhup",
        "outputId": "6f299d8e-6d45-45f1-c0b4-728ef8b63045"
      },
      "execution_count": 43,
      "outputs": [
        {
          "output_type": "display_data",
          "data": {
            "text/plain": [
              "<Figure size 720x720 with 2 Axes>"
            ],
            "image/png": "[encoded data removed]"
          },
          "metadata": {
            "needs_background": "light"
          }
        }
      ]
    },
    {
      "cell_type": "code",
      "source": [
        "pd.DataFrame(classification_report(y_post, y_pred_post, output_dict=True)).T"
      ],
      "metadata": {
        "colab": {
          "base_uri": "https://localhost:8080/",
          "height": 206
        },
        "id": "1LYzAzvbzPak",
        "outputId": "3b7f3807-317e-4783-dde9-0dbd8ce2ffe8"
      },
      "execution_count": 44,
      "outputs": [
        {
          "output_type": "execute_result",
          "data": {
            "text/plain": [
              "              precision    recall  f1-score       support\n",
              "0              0.673639  0.766367  0.717017  170370.00000\n",
              "1              0.772908  0.681697  0.724443  198729.00000\n",
              "accuracy       0.720780  0.720780  0.720780       0.72078\n",
              "macro avg      0.723273  0.724032  0.720730  369099.00000\n",
              "weighted avg   0.727087  0.720780  0.721015  369099.00000"
            ],
            "text/html": [
              "\n",
              "  <div id=\"df-509e6c2c-521a-4302-9a18-1131a774cbee\">\n",
              "    <div class=\"colab-df-container\">\n",
              "      <div>\n",
              "<style scoped>\n",
              "    .dataframe tbody tr th:only-of-type {\n",
              "        vertical-align: middle;\n",
              "    }\n",
              "\n",
              "    .dataframe tbody tr th {\n",
              "        vertical-align: top;\n",
              "    }\n",
              "\n",
              "    .dataframe thead th {\n",
              "        text-align: right;\n",
              "    }\n",
              "</style>\n",
              "<table border=\"1\" class=\"dataframe\">\n",
              "  <thead>\n",
              "    <tr style=\"text-align: right;\">\n",
              "      <th></th>\n",
              "      <th>precision</th>\n",
              "      <th>recall</th>\n",
              "      <th>f1-score</th>\n",
              "      <th>support</th>\n",
              "    </tr>\n",
              "  </thead>\n",
              "  <tbody>\n",
              "    <tr>\n",
              "      <th>0</th>\n",
              "      <td>0.673639</td>\n",
              "      <td>0.766367</td>\n",
              "      <td>0.717017</td>\n",
              "      <td>170370.00000</td>\n",
              "    </tr>\n",
              "    <tr>\n",
              "      <th>1</th>\n",
              "      <td>0.772908</td>\n",
              "      <td>0.681697</td>\n",
              "      <td>0.724443</td>\n",
              "      <td>198729.00000</td>\n",
              "    </tr>\n",
              "    <tr>\n",
              "      <th>accuracy</th>\n",
              "      <td>0.720780</td>\n",
              "      <td>0.720780</td>\n",
              "      <td>0.720780</td>\n",
              "      <td>0.72078</td>\n",
              "    </tr>\n",
              "    <tr>\n",
              "      <th>macro avg</th>\n",
              "      <td>0.723273</td>\n",
              "      <td>0.724032</td>\n",
              "      <td>0.720730</td>\n",
              "      <td>369099.00000</td>\n",
              "    </tr>\n",
              "    <tr>\n",
              "      <th>weighted avg</th>\n",
              "      <td>0.727087</td>\n",
              "      <td>0.720780</td>\n",
              "      <td>0.721015</td>\n",
              "      <td>369099.00000</td>\n",
              "    </tr>\n",
              "  </tbody>\n",
              "</table>\n",
              "</div>\n",
              "      <button class=\"colab-df-convert\" onclick=\"convertToInteractive('df-509e6c2c-521a-4302-9a18-1131a774cbee')\"\n",
              "              title=\"Convert this dataframe to an interactive table.\"\n",
              "              style=\"display:none;\">\n",
              "        \n",
              "  <svg xmlns=\"http://www.w3.org/2000/svg\" height=\"24px\"viewBox=\"0 0 24 24\"\n",
              "       width=\"24px\">\n",
              "    <path d=\"M0 0h24v24H0V0z\" fill=\"none\"/>\n",
              "    <path d=\"M18.56 5.44l.94 2.06.94-2.06 2.06-.94-2.06-.94-.94-2.06-.94 2.06-2.06.94zm-11 1L8.5 8.5l.94-2.06 2.06-.94-2.06-.94L8.5 2.5l-.94 2.06-2.06.94zm10 10l.94 2.06.94-2.06 2.06-.94-2.06-.94-.94-2.06-.94 2.06-2.06.94z\"/><path d=\"M17.41 7.96l-1.37-1.37c-.4-.4-.92-.59-1.43-.59-.52 0-1.04.2-1.43.59L10.3 9.45l-7.72 7.72c-.78.78-.78 2.05 0 2.83L4 21.41c.39.39.9.59 1.41.59.51 0 1.02-.2 1.41-.59l7.78-7.78 2.81-2.81c.8-.78.8-2.07 0-2.86zM5.41 20L4 18.59l7.72-7.72 1.47 1.35L5.41 20z\"/>\n",
              "  </svg>\n",
              "      </button>\n",
              "      \n",
              "  <style>\n",
              "    .colab-df-container {\n",
              "      display:flex;\n",
              "      flex-wrap:wrap;\n",
              "      gap: 12px;\n",
              "    }\n",
              "\n",
              "    .colab-df-convert {\n",
              "      background-color: #E8F0FE;\n",
              "      border: none;\n",
              "      border-radius: 50%;\n",
              "      cursor: pointer;\n",
              "      display: none;\n",
              "      fill: #1967D2;\n",
              "      height: 32px;\n",
              "      padding: 0 0 0 0;\n",
              "      width: 32px;\n",
              "    }\n",
              "\n",
              "    .colab-df-convert:hover {\n",
              "      background-color: #E2EBFA;\n",
              "      box-shadow: 0px 1px 2px rgba(60, 64, 67, 0.3), 0px 1px 3px 1px rgba(60, 64, 67, 0.15);\n",
              "      fill: #174EA6;\n",
              "    }\n",
              "\n",
              "    [theme=dark] .colab-df-convert {\n",
              "      background-color: #3B4455;\n",
              "      fill: #D2E3FC;\n",
              "    }\n",
              "\n",
              "    [theme=dark] .colab-df-convert:hover {\n",
              "      background-color: #434B5C;\n",
              "      box-shadow: 0px 1px 3px 1px rgba(0, 0, 0, 0.15);\n",
              "      filter: drop-shadow(0px 1px 2px rgba(0, 0, 0, 0.3));\n",
              "      fill: #FFFFFF;\n",
              "    }\n",
              "  </style>\n",
              "\n",
              "      <script>\n",
              "        const buttonEl =\n",
              "          document.querySelector('#df-509e6c2c-521a-4302-9a18-1131a774cbee button.colab-df-convert');\n",
              "        buttonEl.style.display =\n",
              "          google.colab.kernel.accessAllowed ? 'block' : 'none';\n",
              "\n",
              "        async function convertToInteractive(key) {\n",
              "          const element = document.querySelector('#df-509e6c2c-521a-4302-9a18-1131a774cbee');\n",
              "          const dataTable =\n",
              "            await google.colab.kernel.invokeFunction('convertToInteractive',\n",
              "                                                     [key], {});\n",
              "          if (!dataTable) return;\n",
              "\n",
              "          const docLinkHtml = 'Like what you see? Visit the ' +\n",
              "            '<a target=\"_blank\" href=https://colab.research.google.com/notebooks/data_table.ipynb>data table notebook</a>'\n",
              "            + ' to learn more about interactive tables.';\n",
              "          element.innerHTML = '';\n",
              "          dataTable['output_type'] = 'display_data';\n",
              "          await google.colab.output.renderOutput(dataTable, element);\n",
              "          const docLink = document.createElement('div');\n",
              "          docLink.innerHTML = docLinkHtml;\n",
              "          element.appendChild(docLink);\n",
              "        }\n",
              "      </script>\n",
              "    </div>\n",
              "  </div>\n",
              "  "
            ]
          },
          "metadata": {},
          "execution_count": 44
        }
      ]
    },
    {
      "cell_type": "code",
      "source": [
        "from sklearn.metrics import f1_score, accuracy_score, precision_score, recall_score\n",
        "def post_score(y_true, y_pred, threshold, metric_num):\n",
        "  if metric_num == 1:\n",
        "    return True if f1_score(y_true, y_pred) < threshold else False\n",
        "  elif metric_num == 2:\n",
        "    return True if accuracy_score(y_true, y_pred) < threshold else False\n",
        "  elif metric_num == 3:\n",
        "    return True if precision_score(y_true, y_pred) < threshold else False\n",
        "  else:\n",
        "    return True if recall_score(y_true, y_pred) < threshold else False"
      ],
      "metadata": {
        "id": "kwQs5J-Xz6Bo"
      },
      "execution_count": 45,
      "outputs": []
    },
    {
      "cell_type": "code",
      "source": [
        "## test case\n",
        "y_true = [0, 1, 1, 0, 1, 1]\n",
        "y_pred = [0, 1, 1, 0, 0, 1]\n",
        "threshold = 0.7151669958566613\n",
        "post_score(y_true, y_pred, threshold, 1)"
      ],
      "metadata": {
        "colab": {
          "base_uri": "https://localhost:8080/"
        },
        "id": "uEEmYhYBXaZr",
        "outputId": "347e654f-e667-4627-8667-83667e1dd15d"
      },
      "execution_count": 46,
      "outputs": [
        {
          "output_type": "execute_result",
          "data": {
            "text/plain": [
              "False"
            ]
          },
          "metadata": {},
          "execution_count": 46
        }
      ]
    },
    {
      "cell_type": "code",
      "source": [
        "new_f1 = f1_score(y_test, y_pred_test)*(1-0.1)\n",
        "print(new_f1)"
      ],
      "metadata": {
        "colab": {
          "base_uri": "https://localhost:8080/"
        },
        "id": "Fy0rZvY108y0",
        "outputId": "bc8fd976-5f99-4ab0-c42a-171d5ed5189b"
      },
      "execution_count": 47,
      "outputs": [
        {
          "output_type": "stream",
          "name": "stdout",
          "text": [
            "0.7151669958566613\n"
          ]
        }
      ]
    },
    {
      "cell_type": "code",
      "source": [
        "# post_score(y_post, y_pred_post, new_f1)"
      ],
      "metadata": {
        "colab": {
          "base_uri": "https://localhost:8080/",
          "height": 172
        },
        "id": "e1LoVHvj1R1L",
        "outputId": "273f035d-1131-4c11-92a9-4f92992c32de"
      },
      "execution_count": 48,
      "outputs": [
        {
          "output_type": "error",
          "ename": "TypeError",
          "evalue": "ignored",
          "traceback": [
            "\u001b[0;31m---------------------------------------------------------------------------\u001b[0m",
            "\u001b[0;31mTypeError\u001b[0m                                 Traceback (most recent call last)",
            "\u001b[0;32m<ipython-input-48-979348af072c>\u001b[0m in \u001b[0;36m<module>\u001b[0;34m\u001b[0m\n\u001b[0;32m----> 1\u001b[0;31m \u001b[0mpost_score\u001b[0m\u001b[0;34m(\u001b[0m\u001b[0my_post\u001b[0m\u001b[0;34m,\u001b[0m \u001b[0my_pred_post\u001b[0m\u001b[0;34m,\u001b[0m \u001b[0mnew_f1\u001b[0m\u001b[0;34m)\u001b[0m\u001b[0;34m\u001b[0m\u001b[0;34m\u001b[0m\u001b[0m\n\u001b[0m",
            "\u001b[0;31mTypeError\u001b[0m: post_score() missing 1 required positional argument: 'metric_num'"
          ]
        }
      ]
    },
    {
      "cell_type": "markdown",
      "source": [
        "### Pairwise Correlation"
      ],
      "metadata": {
        "id": "0AGl6K3vzYzx"
      }
    },
    {
      "cell_type": "code",
      "source": [
        "import seaborn as sns\n",
        "corr=X_latter.corr()\n",
        "mask = np.triu(np.ones_like(corr, dtype=bool))\n",
        "f, ax = plt.subplots(figsize=(11, 9))\n",
        "cmap = sns.diverging_palette(230, 20, as_cmap=True)\n",
        "sns.heatmap(corr, mask=mask, cmap=cmap, vmax=.3, center=0,\n",
        "            square=True, linewidths=.5, cbar_kws={\"shrink\": .5})"
      ],
      "metadata": {
        "id": "KXZ0ecCQmvtL"
      },
      "execution_count": null,
      "outputs": []
    },
    {
      "cell_type": "code",
      "source": [
        "corr = X_train.drop(['artist_latitude', 'artist_longitude'], axis=1).corr()\n",
        "corr_post = X_post.drop(['artist_latitude', 'artist_longitude'], axis=1).corr()"
      ],
      "metadata": {
        "id": "UJUzyZcjE5yl"
      },
      "execution_count": 49,
      "outputs": []
    },
    {
      "cell_type": "code",
      "source": [
        "len(corr.to_numpy())"
      ],
      "metadata": {
        "colab": {
          "base_uri": "https://localhost:8080/"
        },
        "id": "feeyy7E-IR2H",
        "outputId": "acf70e0c-340b-4390-8f5f-81e80969dc18"
      },
      "execution_count": 50,
      "outputs": [
        {
          "output_type": "execute_result",
          "data": {
            "text/plain": [
              "14"
            ]
          },
          "metadata": {},
          "execution_count": 50
        }
      ]
    },
    {
      "cell_type": "code",
      "source": [
        "from numpy.linalg import norm\n",
        "similaritys = []\n",
        "for i in range(14):\n",
        "  A = corr.to_numpy()[i]\n",
        "  B = corr_post.to_numpy()[i]\n",
        "  cosine = np.dot(A, B)/ (norm(A)*norm(B))\n",
        "  similaritys.append(cosine)"
      ],
      "metadata": {
        "id": "Ep7OU7S3FBdu"
      },
      "execution_count": 51,
      "outputs": []
    },
    {
      "cell_type": "code",
      "source": [
        "[s for s in similaritys if s < 0.99]"
      ],
      "metadata": {
        "colab": {
          "base_uri": "https://localhost:8080/"
        },
        "id": "yI72FKWCJAIH",
        "outputId": "58855b9d-319c-41cc-bf05-5670220cfe0a"
      },
      "execution_count": 52,
      "outputs": [
        {
          "output_type": "execute_result",
          "data": {
            "text/plain": [
              "[]"
            ]
          },
          "metadata": {},
          "execution_count": 52
        }
      ]
    },
    {
      "cell_type": "code",
      "source": [
        "def corr_cosine_similarity(corr1, corr2, threshold):\n",
        "  \"\"\"compute the cosine similarity between two correlation coefficient dataframe\n",
        "  corr1, corr2: dataframe\n",
        "  threshold: for detecting cosine similarity between two arrays\n",
        "  return if any cosine similarity falls below 0.99\n",
        "  \"\"\"\n",
        "  from numpy.linalg import norm\n",
        "  A = corr.to_numpy()\n",
        "  B = corr_post.to_numpy()\n",
        "  for i in range(len(A)):\n",
        "    a = A[i]\n",
        "    b = B[i]\n",
        "    cosine = np.dot(a, b)/ (norm(a)*norm(b))\n",
        "    if cosine < threshold:\n",
        "      return True\n",
        "    return False"
      ],
      "metadata": {
        "id": "CLoLuTWjIP-U"
      },
      "execution_count": 53,
      "outputs": []
    },
    {
      "cell_type": "code",
      "source": [
        "corr_cosine_similarity(corr, corr_post, 0.99)"
      ],
      "metadata": {
        "colab": {
          "base_uri": "https://localhost:8080/"
        },
        "id": "BoKo5zDuKQYm",
        "outputId": "3fb2107c-58b2-4bfc-ffec-63e2427ee6f3"
      },
      "execution_count": 54,
      "outputs": [
        {
          "output_type": "execute_result",
          "data": {
            "text/plain": [
              "False"
            ]
          },
          "metadata": {},
          "execution_count": 54
        }
      ]
    },
    {
      "cell_type": "code",
      "source": [
        "# c = corr.mask(np.eye(len(corr), dtype=bool)).abs()\n",
        "# s = c.unstack()\n",
        "# so = s.sort_values(kind=\"quicksort\", ascending=False)\n",
        "# so[so>0.6]"
      ],
      "metadata": {
        "id": "6igTZaTQ8ewm"
      },
      "execution_count": 55,
      "outputs": []
    },
    {
      "cell_type": "code",
      "source": [
        "# corr = X_train.drop(['artist_latitude', 'artist_longitude'], axis=1).corr()\n",
        "# m = (corr.mask(np.eye(len(corr), dtype=bool)).abs() > 0.6).any()"
      ],
      "metadata": {
        "id": "puAG43yX8dyn"
      },
      "execution_count": 56,
      "outputs": []
    },
    {
      "cell_type": "code",
      "source": [
        "# raw = corr.loc[m, m]\n",
        "# raw"
      ],
      "metadata": {
        "id": "jYmF-oCt83YA"
      },
      "execution_count": 57,
      "outputs": []
    },
    {
      "cell_type": "code",
      "source": [
        "# raw_post = corr_post.loc[m, m]\n",
        "# raw_post"
      ],
      "metadata": {
        "id": "FxYOVPYY74Od"
      },
      "execution_count": 58,
      "outputs": []
    },
    {
      "cell_type": "code",
      "source": [
        "# similarity = pairwise.cosine_similarity(raw, raw_post)\n",
        "# similarity"
      ],
      "metadata": {
        "id": "lQLCngr9_zgT"
      },
      "execution_count": 59,
      "outputs": []
    },
    {
      "cell_type": "markdown",
      "metadata": {
        "id": "gsUdavmlfWp0"
      },
      "source": [
        "## Covariate Shift: Shift in the independent variables. \n",
        "### 1. KS-Test（two sample）\n",
        "H0：two samples come from the same distribution.\n",
        "\n",
        "H1：two samples' distribution are not the same.\n",
        "\n",
        "If the p-value is less than .05, we reject the null hypothesis. We have sufficient evidence to say that the two sample datasets do not come from the same distribution."
      ]
    },
    {
      "cell_type": "code",
      "execution_count": 60,
      "metadata": {
        "id": "gObzTbs4fWp0"
      },
      "outputs": [],
      "source": [
        "X_prev = pre_data.drop(columns = label)\n",
        "X_post = post_data.drop(columns = label)"
      ]
    },
    {
      "cell_type": "code",
      "execution_count": 61,
      "metadata": {
        "id": "A2orHRLnfWp0"
      },
      "outputs": [],
      "source": [
        "from scipy.stats import ks_2samp\n",
        "#return True means the program need to retrain\n",
        "#k: at least k number of features are not from the same distribution\n",
        "#X_prev,X_latter: dataframe\n",
        "def KS_test(X_prev, X_latter, k):\n",
        "    p_value = {'reject':0, 'accept':0}\n",
        "    for i in X_prev.columns:\n",
        "        p = ks_2samp(np.array(X_prev[i]), np.array(X_latter[i])).pvalue\n",
        "        if p < 0.05:\n",
        "            p_value['reject'] +=1\n",
        "        else:\n",
        "            p_value['accept'] +=1\n",
        "    if p_value['reject'] > k:\n",
        "        return True\n",
        "    else: \n",
        "        return False"
      ]
    },
    {
      "cell_type": "code",
      "execution_count": 62,
      "metadata": {
        "id": "pMVmfEoPfWp0",
        "outputId": "951832a5-f770-44a6-c0ba-e4145fadd464",
        "colab": {
          "base_uri": "https://localhost:8080/"
        }
      },
      "outputs": [
        {
          "output_type": "execute_result",
          "data": {
            "text/plain": [
              "True"
            ]
          },
          "metadata": {},
          "execution_count": 62
        }
      ],
      "source": [
        "#EXP: need to be retained\n",
        "KS_test(X_prev, X_post, 2)"
      ]
    },
    {
      "cell_type": "code",
      "source": [
        "corr"
      ],
      "metadata": {
        "colab": {
          "base_uri": "https://localhost:8080/",
          "height": 615
        },
        "id": "4MNa_ulynN8D",
        "outputId": "9c7102e2-9246-4ae5-f972-b7846d2c19ec"
      },
      "execution_count": 78,
      "outputs": [
        {
          "output_type": "execute_result",
          "data": {
            "text/plain": [
              "                           artist_familiarity  artist_hotttnesss  duration  \\\n",
              "artist_familiarity                   1.000000           0.716705  0.004162   \n",
              "artist_hotttnesss                    0.716705           1.000000  0.005271   \n",
              "duration                             0.004162           0.005271  1.000000   \n",
              "end_of_fade_in                       0.011222           0.012030  0.096303   \n",
              "key                                  0.006437           0.001667  0.009933   \n",
              "key_confidence                      -0.021694          -0.009390  0.017132   \n",
              "loudness                             0.177386           0.111403 -0.037522   \n",
              "mode                                -0.028800          -0.021764 -0.073457   \n",
              "mode_confidence                     -0.015703          -0.004045 -0.006077   \n",
              "start_of_fade_out                    0.004967           0.005750  0.997860   \n",
              "tempo                                0.039050           0.022886 -0.032984   \n",
              "time_signature                       0.040323           0.028815  0.097128   \n",
              "time_signature_confidence            0.034265           0.026576  0.113685   \n",
              "year                                 0.251790           0.224566 -0.019225   \n",
              "artist_latitude                      0.053932           0.038215  0.027023   \n",
              "artist_longitude                     0.039015           0.050710  0.061942   \n",
              "\n",
              "                           end_of_fade_in       key  key_confidence  loudness  \\\n",
              "artist_familiarity               0.011222  0.006437       -0.021694  0.177386   \n",
              "artist_hotttnesss                0.012030  0.001667       -0.009390  0.111403   \n",
              "duration                         0.096303  0.009933        0.017132 -0.037522   \n",
              "end_of_fade_in                   1.000000 -0.000546       -0.004576 -0.075993   \n",
              "key                             -0.000546  1.000000       -0.039612  0.029444   \n",
              "key_confidence                  -0.004576 -0.039612        1.000000 -0.003447   \n",
              "loudness                        -0.075993  0.029444       -0.003447  1.000000   \n",
              "mode                            -0.004353 -0.177977        0.140454 -0.021673   \n",
              "mode_confidence                  0.000884 -0.036917        0.776233 -0.031595   \n",
              "start_of_fade_out                0.093450  0.010667        0.014592 -0.030161   \n",
              "tempo                           -0.026768  0.014968        0.042646  0.179931   \n",
              "time_signature                  -0.006158  0.006718       -0.087834  0.094719   \n",
              "time_signature_confidence        0.002384  0.002414       -0.050176  0.021145   \n",
              "year                             0.015034  0.001346       -0.008010  0.078323   \n",
              "artist_latitude                  0.015334  0.000250       -0.008625  0.022899   \n",
              "artist_longitude                 0.023469  0.005668       -0.015761  0.042097   \n",
              "\n",
              "                               mode  mode_confidence  start_of_fade_out  \\\n",
              "artist_familiarity        -0.028800        -0.015703           0.004967   \n",
              "artist_hotttnesss         -0.021764        -0.004045           0.005750   \n",
              "duration                  -0.073457        -0.006077           0.997860   \n",
              "end_of_fade_in            -0.004353         0.000884           0.093450   \n",
              "key                       -0.177977        -0.036917           0.010667   \n",
              "key_confidence             0.140454         0.776233           0.014592   \n",
              "loudness                  -0.021673        -0.031595          -0.030161   \n",
              "mode                       1.000000         0.139490          -0.073546   \n",
              "mode_confidence            0.139490         1.000000          -0.010354   \n",
              "start_of_fade_out         -0.073546        -0.010354           1.000000   \n",
              "tempo                     -0.008511        -0.003506          -0.029722   \n",
              "time_signature            -0.037339        -0.056697           0.096372   \n",
              "time_signature_confidence -0.043729        -0.030349           0.111801   \n",
              "year                      -0.014373         0.000622          -0.020987   \n",
              "artist_latitude           -0.014249        -0.003905           0.026604   \n",
              "artist_longitude          -0.041298        -0.013505           0.061894   \n",
              "\n",
              "                              tempo  time_signature  \\\n",
              "artist_familiarity         0.039050        0.040323   \n",
              "artist_hotttnesss          0.022886        0.028815   \n",
              "duration                  -0.032984        0.097128   \n",
              "end_of_fade_in            -0.026768       -0.006158   \n",
              "key                        0.014968        0.006718   \n",
              "key_confidence             0.042646       -0.087834   \n",
              "loudness                   0.179931        0.094719   \n",
              "mode                      -0.008511       -0.037339   \n",
              "mode_confidence           -0.003506       -0.056697   \n",
              "start_of_fade_out         -0.029722        0.096372   \n",
              "tempo                      1.000000        0.038569   \n",
              "time_signature             0.038569        1.000000   \n",
              "time_signature_confidence -0.141539        0.310337   \n",
              "year                       0.026244        0.015942   \n",
              "artist_latitude            0.003811        0.006727   \n",
              "artist_longitude           0.003656        0.028303   \n",
              "\n",
              "                           time_signature_confidence      year  \\\n",
              "artist_familiarity                          0.034265  0.251790   \n",
              "artist_hotttnesss                           0.026576  0.224566   \n",
              "duration                                    0.113685 -0.019225   \n",
              "end_of_fade_in                              0.002384  0.015034   \n",
              "key                                         0.002414  0.001346   \n",
              "key_confidence                             -0.050176 -0.008010   \n",
              "loudness                                    0.021145  0.078323   \n",
              "mode                                       -0.043729 -0.014373   \n",
              "mode_confidence                            -0.030349  0.000622   \n",
              "start_of_fade_out                           0.111801 -0.020987   \n",
              "tempo                                      -0.141539  0.026244   \n",
              "time_signature                              0.310337  0.015942   \n",
              "time_signature_confidence                   1.000000  0.001654   \n",
              "year                                        0.001654  1.000000   \n",
              "artist_latitude                             0.010166  0.067080   \n",
              "artist_longitude                            0.029296  0.078666   \n",
              "\n",
              "                           artist_latitude  artist_longitude  \n",
              "artist_familiarity                0.053932          0.039015  \n",
              "artist_hotttnesss                 0.038215          0.050710  \n",
              "duration                          0.027023          0.061942  \n",
              "end_of_fade_in                    0.015334          0.023469  \n",
              "key                               0.000250          0.005668  \n",
              "key_confidence                   -0.008625         -0.015761  \n",
              "loudness                          0.022899          0.042097  \n",
              "mode                             -0.014249         -0.041298  \n",
              "mode_confidence                  -0.003905         -0.013505  \n",
              "start_of_fade_out                 0.026604          0.061894  \n",
              "tempo                             0.003811          0.003656  \n",
              "time_signature                    0.006727          0.028303  \n",
              "time_signature_confidence         0.010166          0.029296  \n",
              "year                              0.067080          0.078666  \n",
              "artist_latitude                   1.000000         -0.041104  \n",
              "artist_longitude                 -0.041104          1.000000  "
            ],
            "text/html": [
              "\n",
              "  <div id=\"df-91498ef2-41a4-4b4f-afef-9374eb7ec2df\">\n",
              "    <div class=\"colab-df-container\">\n",
              "      <div>\n",
              "<style scoped>\n",
              "    .dataframe tbody tr th:only-of-type {\n",
              "        vertical-align: middle;\n",
              "    }\n",
              "\n",
              "    .dataframe tbody tr th {\n",
              "        vertical-align: top;\n",
              "    }\n",
              "\n",
              "    .dataframe thead th {\n",
              "        text-align: right;\n",
              "    }\n",
              "</style>\n",
              "<table border=\"1\" class=\"dataframe\">\n",
              "  <thead>\n",
              "    <tr style=\"text-align: right;\">\n",
              "      <th></th>\n",
              "      <th>artist_familiarity</th>\n",
              "      <th>artist_hotttnesss</th>\n",
              "      <th>duration</th>\n",
              "      <th>end_of_fade_in</th>\n",
              "      <th>key</th>\n",
              "      <th>key_confidence</th>\n",
              "      <th>loudness</th>\n",
              "      <th>mode</th>\n",
              "      <th>mode_confidence</th>\n",
              "      <th>start_of_fade_out</th>\n",
              "      <th>tempo</th>\n",
              "      <th>time_signature</th>\n",
              "      <th>time_signature_confidence</th>\n",
              "      <th>year</th>\n",
              "      <th>artist_latitude</th>\n",
              "      <th>artist_longitude</th>\n",
              "    </tr>\n",
              "  </thead>\n",
              "  <tbody>\n",
              "    <tr>\n",
              "      <th>artist_familiarity</th>\n",
              "      <td>1.000000</td>\n",
              "      <td>0.716705</td>\n",
              "      <td>0.004162</td>\n",
              "      <td>0.011222</td>\n",
              "      <td>0.006437</td>\n",
              "      <td>-0.021694</td>\n",
              "      <td>0.177386</td>\n",
              "      <td>-0.028800</td>\n",
              "      <td>-0.015703</td>\n",
              "      <td>0.004967</td>\n",
              "      <td>0.039050</td>\n",
              "      <td>0.040323</td>\n",
              "      <td>0.034265</td>\n",
              "      <td>0.251790</td>\n",
              "      <td>0.053932</td>\n",
              "      <td>0.039015</td>\n",
              "    </tr>\n",
              "    <tr>\n",
              "      <th>artist_hotttnesss</th>\n",
              "      <td>0.716705</td>\n",
              "      <td>1.000000</td>\n",
              "      <td>0.005271</td>\n",
              "      <td>0.012030</td>\n",
              "      <td>0.001667</td>\n",
              "      <td>-0.009390</td>\n",
              "      <td>0.111403</td>\n",
              "      <td>-0.021764</td>\n",
              "      <td>-0.004045</td>\n",
              "      <td>0.005750</td>\n",
              "      <td>0.022886</td>\n",
              "      <td>0.028815</td>\n",
              "      <td>0.026576</td>\n",
              "      <td>0.224566</td>\n",
              "      <td>0.038215</td>\n",
              "      <td>0.050710</td>\n",
              "    </tr>\n",
              "    <tr>\n",
              "      <th>duration</th>\n",
              "      <td>0.004162</td>\n",
              "      <td>0.005271</td>\n",
              "      <td>1.000000</td>\n",
              "      <td>0.096303</td>\n",
              "      <td>0.009933</td>\n",
              "      <td>0.017132</td>\n",
              "      <td>-0.037522</td>\n",
              "      <td>-0.073457</td>\n",
              "      <td>-0.006077</td>\n",
              "      <td>0.997860</td>\n",
              "      <td>-0.032984</td>\n",
              "      <td>0.097128</td>\n",
              "      <td>0.113685</td>\n",
              "      <td>-0.019225</td>\n",
              "      <td>0.027023</td>\n",
              "      <td>0.061942</td>\n",
              "    </tr>\n",
              "    <tr>\n",
              "      <th>end_of_fade_in</th>\n",
              "      <td>0.011222</td>\n",
              "      <td>0.012030</td>\n",
              "      <td>0.096303</td>\n",
              "      <td>1.000000</td>\n",
              "      <td>-0.000546</td>\n",
              "      <td>-0.004576</td>\n",
              "      <td>-0.075993</td>\n",
              "      <td>-0.004353</td>\n",
              "      <td>0.000884</td>\n",
              "      <td>0.093450</td>\n",
              "      <td>-0.026768</td>\n",
              "      <td>-0.006158</td>\n",
              "      <td>0.002384</td>\n",
              "      <td>0.015034</td>\n",
              "      <td>0.015334</td>\n",
              "      <td>0.023469</td>\n",
              "    </tr>\n",
              "    <tr>\n",
              "      <th>key</th>\n",
              "      <td>0.006437</td>\n",
              "      <td>0.001667</td>\n",
              "      <td>0.009933</td>\n",
              "      <td>-0.000546</td>\n",
              "      <td>1.000000</td>\n",
              "      <td>-0.039612</td>\n",
              "      <td>0.029444</td>\n",
              "      <td>-0.177977</td>\n",
              "      <td>-0.036917</td>\n",
              "      <td>0.010667</td>\n",
              "      <td>0.014968</td>\n",
              "      <td>0.006718</td>\n",
              "      <td>0.002414</td>\n",
              "      <td>0.001346</td>\n",
              "      <td>0.000250</td>\n",
              "      <td>0.005668</td>\n",
              "    </tr>\n",
              "    <tr>\n",
              "      <th>key_confidence</th>\n",
              "      <td>-0.021694</td>\n",
              "      <td>-0.009390</td>\n",
              "      <td>0.017132</td>\n",
              "      <td>-0.004576</td>\n",
              "      <td>-0.039612</td>\n",
              "      <td>1.000000</td>\n",
              "      <td>-0.003447</td>\n",
              "      <td>0.140454</td>\n",
              "      <td>0.776233</td>\n",
              "      <td>0.014592</td>\n",
              "      <td>0.042646</td>\n",
              "      <td>-0.087834</td>\n",
              "      <td>-0.050176</td>\n",
              "      <td>-0.008010</td>\n",
              "      <td>-0.008625</td>\n",
              "      <td>-0.015761</td>\n",
              "    </tr>\n",
              "    <tr>\n",
              "      <th>loudness</th>\n",
              "      <td>0.177386</td>\n",
              "      <td>0.111403</td>\n",
              "      <td>-0.037522</td>\n",
              "      <td>-0.075993</td>\n",
              "      <td>0.029444</td>\n",
              "      <td>-0.003447</td>\n",
              "      <td>1.000000</td>\n",
              "      <td>-0.021673</td>\n",
              "      <td>-0.031595</td>\n",
              "      <td>-0.030161</td>\n",
              "      <td>0.179931</td>\n",
              "      <td>0.094719</td>\n",
              "      <td>0.021145</td>\n",
              "      <td>0.078323</td>\n",
              "      <td>0.022899</td>\n",
              "      <td>0.042097</td>\n",
              "    </tr>\n",
              "    <tr>\n",
              "      <th>mode</th>\n",
              "      <td>-0.028800</td>\n",
              "      <td>-0.021764</td>\n",
              "      <td>-0.073457</td>\n",
              "      <td>-0.004353</td>\n",
              "      <td>-0.177977</td>\n",
              "      <td>0.140454</td>\n",
              "      <td>-0.021673</td>\n",
              "      <td>1.000000</td>\n",
              "      <td>0.139490</td>\n",
              "      <td>-0.073546</td>\n",
              "      <td>-0.008511</td>\n",
              "      <td>-0.037339</td>\n",
              "      <td>-0.043729</td>\n",
              "      <td>-0.014373</td>\n",
              "      <td>-0.014249</td>\n",
              "      <td>-0.041298</td>\n",
              "    </tr>\n",
              "    <tr>\n",
              "      <th>mode_confidence</th>\n",
              "      <td>-0.015703</td>\n",
              "      <td>-0.004045</td>\n",
              "      <td>-0.006077</td>\n",
              "      <td>0.000884</td>\n",
              "      <td>-0.036917</td>\n",
              "      <td>0.776233</td>\n",
              "      <td>-0.031595</td>\n",
              "      <td>0.139490</td>\n",
              "      <td>1.000000</td>\n",
              "      <td>-0.010354</td>\n",
              "      <td>-0.003506</td>\n",
              "      <td>-0.056697</td>\n",
              "      <td>-0.030349</td>\n",
              "      <td>0.000622</td>\n",
              "      <td>-0.003905</td>\n",
              "      <td>-0.013505</td>\n",
              "    </tr>\n",
              "    <tr>\n",
              "      <th>start_of_fade_out</th>\n",
              "      <td>0.004967</td>\n",
              "      <td>0.005750</td>\n",
              "      <td>0.997860</td>\n",
              "      <td>0.093450</td>\n",
              "      <td>0.010667</td>\n",
              "      <td>0.014592</td>\n",
              "      <td>-0.030161</td>\n",
              "      <td>-0.073546</td>\n",
              "      <td>-0.010354</td>\n",
              "      <td>1.000000</td>\n",
              "      <td>-0.029722</td>\n",
              "      <td>0.096372</td>\n",
              "      <td>0.111801</td>\n",
              "      <td>-0.020987</td>\n",
              "      <td>0.026604</td>\n",
              "      <td>0.061894</td>\n",
              "    </tr>\n",
              "    <tr>\n",
              "      <th>tempo</th>\n",
              "      <td>0.039050</td>\n",
              "      <td>0.022886</td>\n",
              "      <td>-0.032984</td>\n",
              "      <td>-0.026768</td>\n",
              "      <td>0.014968</td>\n",
              "      <td>0.042646</td>\n",
              "      <td>0.179931</td>\n",
              "      <td>-0.008511</td>\n",
              "      <td>-0.003506</td>\n",
              "      <td>-0.029722</td>\n",
              "      <td>1.000000</td>\n",
              "      <td>0.038569</td>\n",
              "      <td>-0.141539</td>\n",
              "      <td>0.026244</td>\n",
              "      <td>0.003811</td>\n",
              "      <td>0.003656</td>\n",
              "    </tr>\n",
              "    <tr>\n",
              "      <th>time_signature</th>\n",
              "      <td>0.040323</td>\n",
              "      <td>0.028815</td>\n",
              "      <td>0.097128</td>\n",
              "      <td>-0.006158</td>\n",
              "      <td>0.006718</td>\n",
              "      <td>-0.087834</td>\n",
              "      <td>0.094719</td>\n",
              "      <td>-0.037339</td>\n",
              "      <td>-0.056697</td>\n",
              "      <td>0.096372</td>\n",
              "      <td>0.038569</td>\n",
              "      <td>1.000000</td>\n",
              "      <td>0.310337</td>\n",
              "      <td>0.015942</td>\n",
              "      <td>0.006727</td>\n",
              "      <td>0.028303</td>\n",
              "    </tr>\n",
              "    <tr>\n",
              "      <th>time_signature_confidence</th>\n",
              "      <td>0.034265</td>\n",
              "      <td>0.026576</td>\n",
              "      <td>0.113685</td>\n",
              "      <td>0.002384</td>\n",
              "      <td>0.002414</td>\n",
              "      <td>-0.050176</td>\n",
              "      <td>0.021145</td>\n",
              "      <td>-0.043729</td>\n",
              "      <td>-0.030349</td>\n",
              "      <td>0.111801</td>\n",
              "      <td>-0.141539</td>\n",
              "      <td>0.310337</td>\n",
              "      <td>1.000000</td>\n",
              "      <td>0.001654</td>\n",
              "      <td>0.010166</td>\n",
              "      <td>0.029296</td>\n",
              "    </tr>\n",
              "    <tr>\n",
              "      <th>year</th>\n",
              "      <td>0.251790</td>\n",
              "      <td>0.224566</td>\n",
              "      <td>-0.019225</td>\n",
              "      <td>0.015034</td>\n",
              "      <td>0.001346</td>\n",
              "      <td>-0.008010</td>\n",
              "      <td>0.078323</td>\n",
              "      <td>-0.014373</td>\n",
              "      <td>0.000622</td>\n",
              "      <td>-0.020987</td>\n",
              "      <td>0.026244</td>\n",
              "      <td>0.015942</td>\n",
              "      <td>0.001654</td>\n",
              "      <td>1.000000</td>\n",
              "      <td>0.067080</td>\n",
              "      <td>0.078666</td>\n",
              "    </tr>\n",
              "    <tr>\n",
              "      <th>artist_latitude</th>\n",
              "      <td>0.053932</td>\n",
              "      <td>0.038215</td>\n",
              "      <td>0.027023</td>\n",
              "      <td>0.015334</td>\n",
              "      <td>0.000250</td>\n",
              "      <td>-0.008625</td>\n",
              "      <td>0.022899</td>\n",
              "      <td>-0.014249</td>\n",
              "      <td>-0.003905</td>\n",
              "      <td>0.026604</td>\n",
              "      <td>0.003811</td>\n",
              "      <td>0.006727</td>\n",
              "      <td>0.010166</td>\n",
              "      <td>0.067080</td>\n",
              "      <td>1.000000</td>\n",
              "      <td>-0.041104</td>\n",
              "    </tr>\n",
              "    <tr>\n",
              "      <th>artist_longitude</th>\n",
              "      <td>0.039015</td>\n",
              "      <td>0.050710</td>\n",
              "      <td>0.061942</td>\n",
              "      <td>0.023469</td>\n",
              "      <td>0.005668</td>\n",
              "      <td>-0.015761</td>\n",
              "      <td>0.042097</td>\n",
              "      <td>-0.041298</td>\n",
              "      <td>-0.013505</td>\n",
              "      <td>0.061894</td>\n",
              "      <td>0.003656</td>\n",
              "      <td>0.028303</td>\n",
              "      <td>0.029296</td>\n",
              "      <td>0.078666</td>\n",
              "      <td>-0.041104</td>\n",
              "      <td>1.000000</td>\n",
              "    </tr>\n",
              "  </tbody>\n",
              "</table>\n",
              "</div>\n",
              "      <button class=\"colab-df-convert\" onclick=\"convertToInteractive('df-91498ef2-41a4-4b4f-afef-9374eb7ec2df')\"\n",
              "              title=\"Convert this dataframe to an interactive table.\"\n",
              "              style=\"display:none;\">\n",
              "        \n",
              "  <svg xmlns=\"http://www.w3.org/2000/svg\" height=\"24px\"viewBox=\"0 0 24 24\"\n",
              "       width=\"24px\">\n",
              "    <path d=\"M0 0h24v24H0V0z\" fill=\"none\"/>\n",
              "    <path d=\"M18.56 5.44l.94 2.06.94-2.06 2.06-.94-2.06-.94-.94-2.06-.94 2.06-2.06.94zm-11 1L8.5 8.5l.94-2.06 2.06-.94-2.06-.94L8.5 2.5l-.94 2.06-2.06.94zm10 10l.94 2.06.94-2.06 2.06-.94-2.06-.94-.94-2.06-.94 2.06-2.06.94z\"/><path d=\"M17.41 7.96l-1.37-1.37c-.4-.4-.92-.59-1.43-.59-.52 0-1.04.2-1.43.59L10.3 9.45l-7.72 7.72c-.78.78-.78 2.05 0 2.83L4 21.41c.39.39.9.59 1.41.59.51 0 1.02-.2 1.41-.59l7.78-7.78 2.81-2.81c.8-.78.8-2.07 0-2.86zM5.41 20L4 18.59l7.72-7.72 1.47 1.35L5.41 20z\"/>\n",
              "  </svg>\n",
              "      </button>\n",
              "      \n",
              "  <style>\n",
              "    .colab-df-container {\n",
              "      display:flex;\n",
              "      flex-wrap:wrap;\n",
              "      gap: 12px;\n",
              "    }\n",
              "\n",
              "    .colab-df-convert {\n",
              "      background-color: #E8F0FE;\n",
              "      border: none;\n",
              "      border-radius: 50%;\n",
              "      cursor: pointer;\n",
              "      display: none;\n",
              "      fill: #1967D2;\n",
              "      height: 32px;\n",
              "      padding: 0 0 0 0;\n",
              "      width: 32px;\n",
              "    }\n",
              "\n",
              "    .colab-df-convert:hover {\n",
              "      background-color: #E2EBFA;\n",
              "      box-shadow: 0px 1px 2px rgba(60, 64, 67, 0.3), 0px 1px 3px 1px rgba(60, 64, 67, 0.15);\n",
              "      fill: #174EA6;\n",
              "    }\n",
              "\n",
              "    [theme=dark] .colab-df-convert {\n",
              "      background-color: #3B4455;\n",
              "      fill: #D2E3FC;\n",
              "    }\n",
              "\n",
              "    [theme=dark] .colab-df-convert:hover {\n",
              "      background-color: #434B5C;\n",
              "      box-shadow: 0px 1px 3px 1px rgba(0, 0, 0, 0.15);\n",
              "      filter: drop-shadow(0px 1px 2px rgba(0, 0, 0, 0.3));\n",
              "      fill: #FFFFFF;\n",
              "    }\n",
              "  </style>\n",
              "\n",
              "      <script>\n",
              "        const buttonEl =\n",
              "          document.querySelector('#df-91498ef2-41a4-4b4f-afef-9374eb7ec2df button.colab-df-convert');\n",
              "        buttonEl.style.display =\n",
              "          google.colab.kernel.accessAllowed ? 'block' : 'none';\n",
              "\n",
              "        async function convertToInteractive(key) {\n",
              "          const element = document.querySelector('#df-91498ef2-41a4-4b4f-afef-9374eb7ec2df');\n",
              "          const dataTable =\n",
              "            await google.colab.kernel.invokeFunction('convertToInteractive',\n",
              "                                                     [key], {});\n",
              "          if (!dataTable) return;\n",
              "\n",
              "          const docLinkHtml = 'Like what you see? Visit the ' +\n",
              "            '<a target=\"_blank\" href=https://colab.research.google.com/notebooks/data_table.ipynb>data table notebook</a>'\n",
              "            + ' to learn more about interactive tables.';\n",
              "          element.innerHTML = '';\n",
              "          dataTable['output_type'] = 'display_data';\n",
              "          await google.colab.output.renderOutput(dataTable, element);\n",
              "          const docLink = document.createElement('div');\n",
              "          docLink.innerHTML = docLinkHtml;\n",
              "          element.appendChild(docLink);\n",
              "        }\n",
              "      </script>\n",
              "    </div>\n",
              "  </div>\n",
              "  "
            ]
          },
          "metadata": {},
          "execution_count": 78
        }
      ]
    },
    {
      "cell_type": "code",
      "source": [
        "import seaborn as sns\n",
        "corr=X_prev.corr()\n",
        "mask = np.triu(np.ones_like(corr, dtype=bool))\n",
        "f, ax = plt.subplots(figsize=(11, 9))\n",
        "cmap = sns.diverging_palette(230, 20, as_cmap=True)\n",
        "sns.heatmap(corr, mask=mask, cmap=cmap,  center=0,\n",
        "            square=True, linewidths=.5, cbar_kws={\"shrink\": .5})"
      ],
      "metadata": {
        "colab": {
          "base_uri": "https://localhost:8080/",
          "height": 680
        },
        "id": "TNaYfIoxnDeD",
        "outputId": "c8e1161a-b495-4f20-ea5e-ba7bbd601155"
      },
      "execution_count": 79,
      "outputs": [
        {
          "output_type": "execute_result",
          "data": {
            "text/plain": [
              "<Axes: >"
            ]
          },
          "metadata": {},
          "execution_count": 79
        },
        {
          "output_type": "display_data",
          "data": {
            "text/plain": [
              "<Figure size 792x648 with 2 Axes>"
            ],
            "image/png": "[encoded data removed]"
          },
          "metadata": {
            "needs_background": "light"
          }
        }
      ]
    },
    {
      "cell_type": "markdown",
      "metadata": {
        "id": "KQoE0i8efWp0"
      },
      "source": [
        "## 2. PSI\n",
        "Interpretation\n",
        "\n",
        "PSI < 0.1: no significant population change\n",
        "\n",
        "PSI < 0.2: moderate population change\n",
        "\n",
        "PSI >= 0.2: significant population change\n"
      ]
    },
    {
      "cell_type": "code",
      "execution_count": 63,
      "metadata": {
        "id": "Q73t1jgefWp0"
      },
      "outputs": [],
      "source": [
        "#Reference: https://github.com/mwburke/population-stability-index/blob/master/psi.py\n",
        "\n",
        "def calculate_psi(expected, actual, buckettype='bins', buckets=10, axis=0):\n",
        "    '''Calculate the PSI (population stability index) across all variables\n",
        "    Args:\n",
        "       expected: numpy matrix of original values\n",
        "       actual: numpy matrix of new values, same size as expected\n",
        "       buckettype: type of strategy for creating buckets, bins splits into even splits, quantiles splits into quantile buckets\n",
        "       buckets: number of quantiles to use in bucketing variables\n",
        "       axis: axis by which variables are defined, 0 for vertical, 1 for horizontal\n",
        "    Returns:\n",
        "       psi_values: ndarray of psi values for each variable\n",
        "    Author:\n",
        "       Matthew Burke\n",
        "       github.com/mwburke\n",
        "       worksofchart.com\n",
        "    '''\n",
        "\n",
        "    def psi(expected_array, actual_array, buckets):\n",
        "        '''Calculate the PSI for a single variable\n",
        "        Args:\n",
        "           expected_array: numpy array of original values\n",
        "           actual_array: numpy array of new values, same size as expected\n",
        "           buckets: number of percentile ranges to bucket the values into\n",
        "        Returns:\n",
        "           psi_value: calculated PSI value\n",
        "        '''\n",
        "\n",
        "        def scale_range (input, min, max):\n",
        "            input += -(np.min(input))\n",
        "            input /= np.max(input) / (max - min)\n",
        "            input += min\n",
        "            return input\n",
        "\n",
        "\n",
        "        breakpoints = np.arange(0, buckets + 1) / (buckets) * 100\n",
        "\n",
        "        if buckettype == 'bins':\n",
        "            breakpoints = scale_range(breakpoints, np.min(expected_array), np.max(expected_array))\n",
        "        elif buckettype == 'quantiles':\n",
        "            breakpoints = np.stack([np.percentile(expected_array, b) for b in breakpoints])\n",
        "\n",
        "\n",
        "        expected_percents = np.histogram(expected_array, breakpoints)[0] / len(expected_array)\n",
        "        actual_percents = np.histogram(actual_array, breakpoints)[0] / len(actual_array)\n",
        "\n",
        "        def sub_psi(e_perc, a_perc):\n",
        "            '''Calculate the actual PSI value from comparing the values.\n",
        "               Update the actual value to a very small number if equal to zero\n",
        "            '''\n",
        "            if a_perc == 0:\n",
        "                a_perc = 0.0001\n",
        "            if e_perc == 0:\n",
        "                e_perc = 0.0001\n",
        "\n",
        "            value = (e_perc - a_perc) * np.log(e_perc / a_perc)\n",
        "            return(value)\n",
        "\n",
        "        psi_value = np.sum(sub_psi(expected_percents[i], actual_percents[i]) for i in range(0, len(expected_percents)))\n",
        "\n",
        "        return(psi_value)\n",
        "\n",
        "    if len(expected.shape) == 1:\n",
        "        psi_values = np.empty(len(expected.shape))\n",
        "    else:\n",
        "        psi_values = np.empty(expected.shape[axis])\n",
        "        print(psi_values)\n",
        "    for i in range(0, len(psi_values)):\n",
        "        if len(psi_values) == 1:\n",
        "            psi_values = psi(expected, actual, buckets)\n",
        "        elif axis == 0:\n",
        "            psi_values[i] = psi(expected[:,i], actual[:,i], buckets)\n",
        "        elif axis == 1:\n",
        "            psi_values[i] = psi(expected[i,:], actual[i,:], buckets)\n",
        "\n",
        "    return(psi_values)"
      ]
    },
    {
      "cell_type": "code",
      "execution_count": 64,
      "metadata": {
        "id": "2jOvZM6EfWp1"
      },
      "outputs": [],
      "source": [
        "#return True means the program need to retrain\n",
        "#k: at least k number of features has shift\n",
        "def PSI_covariate(X_prev, X_latter, k):\n",
        "    value = {'reject':0, 'accept':0}\n",
        "    for i in X_prev.columns:\n",
        "        v = calculate_psi(np.array(X_prev[i]), np.array(X_latter[i]))\n",
        "        if v < 0.1:\n",
        "            value['reject'] +=1\n",
        "        else:\n",
        "            value['accept'] +=1\n",
        "    if value['reject'] > k:\n",
        "        return True\n",
        "    else: \n",
        "        return False"
      ]
    },
    {
      "cell_type": "code",
      "execution_count": 65,
      "metadata": {
        "id": "YE6aveMafWp1",
        "outputId": "1ac2220b-e4b4-4cb5-ec59-fcab9c4fb972",
        "colab": {
          "base_uri": "https://localhost:8080/"
        }
      },
      "outputs": [
        {
          "output_type": "stream",
          "name": "stderr",
          "text": [
            "<ipython-input-63-fd908a9a0fd6>:59: DeprecationWarning: Calling np.sum(generator) is deprecated, and in the future will give a different result. Use np.sum(np.fromiter(generator)) or the python sum builtin instead.\n",
            "  psi_value = np.sum(sub_psi(expected_percents[i], actual_percents[i]) for i in range(0, len(expected_percents)))\n"
          ]
        },
        {
          "output_type": "execute_result",
          "data": {
            "text/plain": [
              "True"
            ]
          },
          "metadata": {},
          "execution_count": 65
        }
      ],
      "source": [
        "#EXP: need to be retained\n",
        "PSI_covariate(X_prev, X_post, 2)"
      ]
    },
    {
      "cell_type": "markdown",
      "metadata": {
        "id": "bfJ4N1YcfWp1"
      },
      "source": [
        "## 3. Z-Score\n"
      ]
    },
    {
      "cell_type": "code",
      "execution_count": 66,
      "metadata": {
        "id": "9XgjtrznfWp1"
      },
      "outputs": [],
      "source": [
        "from scipy.stats import zscore\n",
        "\n",
        "def Z_score_covariate(X_prev, X_post, k):\n",
        "    # calculate Z-scores of the source and target datasets\n",
        "    z_pre = zscore(X_prev)\n",
        "    z_post = zscore(X_post)\n",
        "    \n",
        "    p_value = {'reject':0, 'accept':0}\n",
        "    for i in range(z_pre.shape[1]):\n",
        "        # perform a Kolmogorov-Smirnov test on the Z-score distributions\n",
        "        p = ks_2samp(np.array(z_pre[:,i]), np.array(z_post[:,i])).pvalue\n",
        "        if p < 0.05:\n",
        "            p_value['reject'] +=1\n",
        "        else:\n",
        "            p_value['accept'] +=1\n",
        "    if p_value['reject'] > k:\n",
        "        return True\n",
        "    else: \n",
        "        return False"
      ]
    },
    {
      "cell_type": "code",
      "execution_count": 67,
      "metadata": {
        "id": "CSSFat5mfWp1",
        "outputId": "efc07c20-c81f-4cbb-edd6-e901e8bb2c34",
        "colab": {
          "base_uri": "https://localhost:8080/",
          "height": 446
        }
      },
      "outputs": [
        {
          "output_type": "error",
          "ename": "InvalidIndexError",
          "evalue": "ignored",
          "traceback": [
            "\u001b[0;31m---------------------------------------------------------------------------\u001b[0m",
            "\u001b[0;31mTypeError\u001b[0m                                 Traceback (most recent call last)",
            "\u001b[0;32m/usr/local/lib/python3.9/dist-packages/pandas/core/indexes/base.py\u001b[0m in \u001b[0;36mget_loc\u001b[0;34m(self, key, method, tolerance)\u001b[0m\n\u001b[1;32m   3628\u001b[0m             \u001b[0;32mtry\u001b[0m\u001b[0;34m:\u001b[0m\u001b[0;34m\u001b[0m\u001b[0;34m\u001b[0m\u001b[0m\n\u001b[0;32m-> 3629\u001b[0;31m                 \u001b[0;32mreturn\u001b[0m \u001b[0mself\u001b[0m\u001b[0;34m.\u001b[0m\u001b[0m_engine\u001b[0m\u001b[0;34m.\u001b[0m\u001b[0mget_loc\u001b[0m\u001b[0;34m(\u001b[0m\u001b[0mcasted_key\u001b[0m\u001b[0;34m)\u001b[0m\u001b[0;34m\u001b[0m\u001b[0;34m\u001b[0m\u001b[0m\n\u001b[0m\u001b[1;32m   3630\u001b[0m             \u001b[0;32mexcept\u001b[0m \u001b[0mKeyError\u001b[0m \u001b[0;32mas\u001b[0m \u001b[0merr\u001b[0m\u001b[0;34m:\u001b[0m\u001b[0;34m\u001b[0m\u001b[0;34m\u001b[0m\u001b[0m\n",
            "\u001b[0;32m/usr/local/lib/python3.9/dist-packages/pandas/_libs/index.pyx\u001b[0m in \u001b[0;36mpandas._libs.index.IndexEngine.get_loc\u001b[0;34m()\u001b[0m\n",
            "\u001b[0;32m/usr/local/lib/python3.9/dist-packages/pandas/_libs/index.pyx\u001b[0m in \u001b[0;36mpandas._libs.index.IndexEngine.get_loc\u001b[0;34m()\u001b[0m\n",
            "\u001b[0;31mTypeError\u001b[0m: '(slice(None, None, None), 0)' is an invalid key",
            "\nDuring handling of the above exception, another exception occurred:\n",
            "\u001b[0;31mInvalidIndexError\u001b[0m                         Traceback (most recent call last)",
            "\u001b[0;32m<ipython-input-67-7be178e10b0b>\u001b[0m in \u001b[0;36m<module>\u001b[0;34m\u001b[0m\n\u001b[1;32m      1\u001b[0m \u001b[0;31m#EXP: need to be retained\u001b[0m\u001b[0;34m\u001b[0m\u001b[0;34m\u001b[0m\u001b[0m\n\u001b[0;32m----> 2\u001b[0;31m \u001b[0mZ_score_covariate\u001b[0m\u001b[0;34m(\u001b[0m\u001b[0mX_prev\u001b[0m\u001b[0;34m,\u001b[0m \u001b[0mX_post\u001b[0m\u001b[0;34m,\u001b[0m \u001b[0;36m2\u001b[0m\u001b[0;34m)\u001b[0m\u001b[0;34m\u001b[0m\u001b[0;34m\u001b[0m\u001b[0m\n\u001b[0m",
            "\u001b[0;32m<ipython-input-66-3573fa1eadf2>\u001b[0m in \u001b[0;36mZ_score_covariate\u001b[0;34m(X_prev, X_post, k)\u001b[0m\n\u001b[1;32m      9\u001b[0m     \u001b[0;32mfor\u001b[0m \u001b[0mi\u001b[0m \u001b[0;32min\u001b[0m \u001b[0mrange\u001b[0m\u001b[0;34m(\u001b[0m\u001b[0mz_pre\u001b[0m\u001b[0;34m.\u001b[0m\u001b[0mshape\u001b[0m\u001b[0;34m[\u001b[0m\u001b[0;36m1\u001b[0m\u001b[0;34m]\u001b[0m\u001b[0;34m)\u001b[0m\u001b[0;34m:\u001b[0m\u001b[0;34m\u001b[0m\u001b[0;34m\u001b[0m\u001b[0m\n\u001b[1;32m     10\u001b[0m         \u001b[0;31m# perform a Kolmogorov-Smirnov test on the Z-score distributions\u001b[0m\u001b[0;34m\u001b[0m\u001b[0;34m\u001b[0m\u001b[0m\n\u001b[0;32m---> 11\u001b[0;31m         \u001b[0mp\u001b[0m \u001b[0;34m=\u001b[0m \u001b[0mks_2samp\u001b[0m\u001b[0;34m(\u001b[0m\u001b[0mnp\u001b[0m\u001b[0;34m.\u001b[0m\u001b[0marray\u001b[0m\u001b[0;34m(\u001b[0m\u001b[0mz_pre\u001b[0m\u001b[0;34m[\u001b[0m\u001b[0;34m:\u001b[0m\u001b[0;34m,\u001b[0m\u001b[0mi\u001b[0m\u001b[0;34m]\u001b[0m\u001b[0;34m)\u001b[0m\u001b[0;34m,\u001b[0m \u001b[0mnp\u001b[0m\u001b[0;34m.\u001b[0m\u001b[0marray\u001b[0m\u001b[0;34m(\u001b[0m\u001b[0mz_post\u001b[0m\u001b[0;34m[\u001b[0m\u001b[0;34m:\u001b[0m\u001b[0;34m,\u001b[0m\u001b[0mi\u001b[0m\u001b[0;34m]\u001b[0m\u001b[0;34m)\u001b[0m\u001b[0;34m)\u001b[0m\u001b[0;34m.\u001b[0m\u001b[0mpvalue\u001b[0m\u001b[0;34m\u001b[0m\u001b[0;34m\u001b[0m\u001b[0m\n\u001b[0m\u001b[1;32m     12\u001b[0m         \u001b[0;32mif\u001b[0m \u001b[0mp\u001b[0m \u001b[0;34m<\u001b[0m \u001b[0;36m0.05\u001b[0m\u001b[0;34m:\u001b[0m\u001b[0;34m\u001b[0m\u001b[0;34m\u001b[0m\u001b[0m\n\u001b[1;32m     13\u001b[0m             \u001b[0mp_value\u001b[0m\u001b[0;34m[\u001b[0m\u001b[0;34m'reject'\u001b[0m\u001b[0;34m]\u001b[0m \u001b[0;34m+=\u001b[0m\u001b[0;36m1\u001b[0m\u001b[0;34m\u001b[0m\u001b[0;34m\u001b[0m\u001b[0m\n",
            "\u001b[0;32m/usr/local/lib/python3.9/dist-packages/pandas/core/frame.py\u001b[0m in \u001b[0;36m__getitem__\u001b[0;34m(self, key)\u001b[0m\n\u001b[1;32m   3503\u001b[0m             \u001b[0;32mif\u001b[0m \u001b[0mself\u001b[0m\u001b[0;34m.\u001b[0m\u001b[0mcolumns\u001b[0m\u001b[0;34m.\u001b[0m\u001b[0mnlevels\u001b[0m \u001b[0;34m>\u001b[0m \u001b[0;36m1\u001b[0m\u001b[0;34m:\u001b[0m\u001b[0;34m\u001b[0m\u001b[0;34m\u001b[0m\u001b[0m\n\u001b[1;32m   3504\u001b[0m                 \u001b[0;32mreturn\u001b[0m \u001b[0mself\u001b[0m\u001b[0;34m.\u001b[0m\u001b[0m_getitem_multilevel\u001b[0m\u001b[0;34m(\u001b[0m\u001b[0mkey\u001b[0m\u001b[0;34m)\u001b[0m\u001b[0;34m\u001b[0m\u001b[0;34m\u001b[0m\u001b[0m\n\u001b[0;32m-> 3505\u001b[0;31m             \u001b[0mindexer\u001b[0m \u001b[0;34m=\u001b[0m \u001b[0mself\u001b[0m\u001b[0;34m.\u001b[0m\u001b[0mcolumns\u001b[0m\u001b[0;34m.\u001b[0m\u001b[0mget_loc\u001b[0m\u001b[0;34m(\u001b[0m\u001b[0mkey\u001b[0m\u001b[0;34m)\u001b[0m\u001b[0;34m\u001b[0m\u001b[0;34m\u001b[0m\u001b[0m\n\u001b[0m\u001b[1;32m   3506\u001b[0m             \u001b[0;32mif\u001b[0m \u001b[0mis_integer\u001b[0m\u001b[0;34m(\u001b[0m\u001b[0mindexer\u001b[0m\u001b[0;34m)\u001b[0m\u001b[0;34m:\u001b[0m\u001b[0;34m\u001b[0m\u001b[0;34m\u001b[0m\u001b[0m\n\u001b[1;32m   3507\u001b[0m                 \u001b[0mindexer\u001b[0m \u001b[0;34m=\u001b[0m \u001b[0;34m[\u001b[0m\u001b[0mindexer\u001b[0m\u001b[0;34m]\u001b[0m\u001b[0;34m\u001b[0m\u001b[0;34m\u001b[0m\u001b[0m\n",
            "\u001b[0;32m/usr/local/lib/python3.9/dist-packages/pandas/core/indexes/base.py\u001b[0m in \u001b[0;36mget_loc\u001b[0;34m(self, key, method, tolerance)\u001b[0m\n\u001b[1;32m   3634\u001b[0m                 \u001b[0;31m#  InvalidIndexError. Otherwise we fall through and re-raise\u001b[0m\u001b[0;34m\u001b[0m\u001b[0;34m\u001b[0m\u001b[0m\n\u001b[1;32m   3635\u001b[0m                 \u001b[0;31m#  the TypeError.\u001b[0m\u001b[0;34m\u001b[0m\u001b[0;34m\u001b[0m\u001b[0m\n\u001b[0;32m-> 3636\u001b[0;31m                 \u001b[0mself\u001b[0m\u001b[0;34m.\u001b[0m\u001b[0m_check_indexing_error\u001b[0m\u001b[0;34m(\u001b[0m\u001b[0mkey\u001b[0m\u001b[0;34m)\u001b[0m\u001b[0;34m\u001b[0m\u001b[0;34m\u001b[0m\u001b[0m\n\u001b[0m\u001b[1;32m   3637\u001b[0m                 \u001b[0;32mraise\u001b[0m\u001b[0;34m\u001b[0m\u001b[0;34m\u001b[0m\u001b[0m\n\u001b[1;32m   3638\u001b[0m \u001b[0;34m\u001b[0m\u001b[0m\n",
            "\u001b[0;32m/usr/local/lib/python3.9/dist-packages/pandas/core/indexes/base.py\u001b[0m in \u001b[0;36m_check_indexing_error\u001b[0;34m(self, key)\u001b[0m\n\u001b[1;32m   5649\u001b[0m             \u001b[0;31m# if key is not a scalar, directly raise an error (the code below\u001b[0m\u001b[0;34m\u001b[0m\u001b[0;34m\u001b[0m\u001b[0m\n\u001b[1;32m   5650\u001b[0m             \u001b[0;31m# would convert to numpy arrays and raise later any way) - GH29926\u001b[0m\u001b[0;34m\u001b[0m\u001b[0;34m\u001b[0m\u001b[0m\n\u001b[0;32m-> 5651\u001b[0;31m             \u001b[0;32mraise\u001b[0m \u001b[0mInvalidIndexError\u001b[0m\u001b[0;34m(\u001b[0m\u001b[0mkey\u001b[0m\u001b[0;34m)\u001b[0m\u001b[0;34m\u001b[0m\u001b[0;34m\u001b[0m\u001b[0m\n\u001b[0m\u001b[1;32m   5652\u001b[0m \u001b[0;34m\u001b[0m\u001b[0m\n\u001b[1;32m   5653\u001b[0m     \u001b[0;34m@\u001b[0m\u001b[0mcache_readonly\u001b[0m\u001b[0;34m\u001b[0m\u001b[0;34m\u001b[0m\u001b[0m\n",
            "\u001b[0;31mInvalidIndexError\u001b[0m: (slice(None, None, None), 0)"
          ]
        }
      ],
      "source": [
        "#EXP: need to be retained\n",
        "# Z_score_covariate(X_prev, X_post, 2)"
      ]
    },
    {
      "cell_type": "markdown",
      "metadata": {
        "id": "Y5sD0WBzfWp1"
      },
      "source": [
        "## Prior Probability Shift: shift of the target variable\n",
        "### 1. KS-Test（two sample）\n",
        "H0：two samples come from the same distribution.\n",
        "\n",
        "H1：two samples' distribution are not the same.\n",
        "\n",
        "If the p-value is less than .05, we reject the null hypothesis. We have sufficient evidence to say that the two sample datasets do not come from the same distributio"
      ]
    },
    {
      "cell_type": "code",
      "execution_count": 68,
      "metadata": {
        "id": "evN0OCl0fWp1"
      },
      "outputs": [],
      "source": [
        "y_prev = pre_data['popularity']\n",
        "y_post = post_data['popularity']"
      ]
    },
    {
      "cell_type": "code",
      "execution_count": 69,
      "metadata": {
        "id": "pdLoGktTfWp1"
      },
      "outputs": [],
      "source": [
        "from scipy.stats import ks_2samp\n",
        "#return True means the program need to retrain, check on the distribution of y\n",
        "def KS_test_prior(y_prev, y_post):\n",
        "    p = ks_2samp(np.array(y_prev), np.array(y_post)).pvalue\n",
        "    if p < 0.05:\n",
        "        return False\n",
        "    else:\n",
        "        return True"
      ]
    },
    {
      "cell_type": "code",
      "execution_count": 70,
      "metadata": {
        "id": "EwS9pvK8fWp1",
        "outputId": "b8fc7eda-8dea-44e4-d52b-48a608a6b0e3",
        "colab": {
          "base_uri": "https://localhost:8080/"
        }
      },
      "outputs": [
        {
          "output_type": "execute_result",
          "data": {
            "text/plain": [
              "False"
            ]
          },
          "metadata": {},
          "execution_count": 70
        }
      ],
      "source": [
        "KS_test_prior(y_prev, y_post)"
      ]
    },
    {
      "cell_type": "markdown",
      "metadata": {
        "id": "DJHEm2fDfWp1"
      },
      "source": [
        "### 2. PSI"
      ]
    },
    {
      "cell_type": "code",
      "execution_count": 71,
      "metadata": {
        "id": "4t23t70KfWp1"
      },
      "outputs": [],
      "source": [
        "#return True means the program need to retrain, check on the distribution of y\n",
        "def PSI_prior(y_prev, y_post):\n",
        "    value = calculate_psi(np.array(y_prev), np.array(y_post))\n",
        "    #no significant population change\n",
        "    if value < 0.1:\n",
        "        return False\n",
        "    else:\n",
        "        return True"
      ]
    },
    {
      "cell_type": "code",
      "execution_count": 72,
      "metadata": {
        "id": "0fRDbXwHfWp2",
        "outputId": "f6e2dddf-8f75-435e-ebc5-8eeb34de599e",
        "colab": {
          "base_uri": "https://localhost:8080/"
        }
      },
      "outputs": [
        {
          "output_type": "stream",
          "name": "stderr",
          "text": [
            "<ipython-input-63-fd908a9a0fd6>:59: DeprecationWarning: Calling np.sum(generator) is deprecated, and in the future will give a different result. Use np.sum(np.fromiter(generator)) or the python sum builtin instead.\n",
            "  psi_value = np.sum(sub_psi(expected_percents[i], actual_percents[i]) for i in range(0, len(expected_percents)))\n"
          ]
        },
        {
          "output_type": "execute_result",
          "data": {
            "text/plain": [
              "False"
            ]
          },
          "metadata": {},
          "execution_count": 72
        }
      ],
      "source": [
        "#EXP: no need to be retained\n",
        "PSI_prior(y_prev, y_post)"
      ]
    },
    {
      "cell_type": "markdown",
      "metadata": {
        "id": "ki-kh-R0fWp2"
      },
      "source": [
        "### 3. Z-score"
      ]
    },
    {
      "cell_type": "code",
      "execution_count": 73,
      "metadata": {
        "id": "kHo8202_fWp2"
      },
      "outputs": [],
      "source": [
        "from scipy.stats import zscore\n",
        "\n",
        "def Z_score_prior(y_prev, y_post):\n",
        "    # calculate Z-scores of the source and target datasets\n",
        "    z_pre = zscore(y_prev)\n",
        "    z_post = zscore(y_post)\n",
        "    \n",
        "    p = ks_2samp(np.array(z_pre), np.array(z_post)).pvalue\n",
        "\n",
        "    if p < 0.05:\n",
        "        return False\n",
        "    else: \n",
        "        return True"
      ]
    },
    {
      "cell_type": "code",
      "execution_count": 74,
      "metadata": {
        "id": "CrXvcgMFfWp2",
        "outputId": "755676af-3285-41d4-a40a-a33d5e330163",
        "colab": {
          "base_uri": "https://localhost:8080/"
        }
      },
      "outputs": [
        {
          "output_type": "execute_result",
          "data": {
            "text/plain": [
              "False"
            ]
          },
          "metadata": {},
          "execution_count": 74
        }
      ],
      "source": [
        "#EXP: no need to be retained\n",
        "Z_score_prior(y_prev, y_post)"
      ]
    },
    {
      "cell_type": "code",
      "source": [
        "merged_df = pre_data.append(post_data, ignore_index=True)\n",
        "merged_df.head()"
      ],
      "metadata": {
        "colab": {
          "base_uri": "https://localhost:8080/",
          "height": 306
        },
        "id": "s5LMqwmWgbw3",
        "outputId": "64febd1d-fbbb-49e1-87b5-a32262316cbc"
      },
      "execution_count": 75,
      "outputs": [
        {
          "output_type": "stream",
          "name": "stderr",
          "text": [
            "<ipython-input-75-6ed59925da31>:1: FutureWarning: The frame.append method is deprecated and will be removed from pandas in a future version. Use pandas.concat instead.\n",
            "  merged_df = pre_data.append(post_data, ignore_index=True)\n"
          ]
        },
        {
          "output_type": "execute_result",
          "data": {
            "text/plain": [
              "   artist_familiarity  artist_hotttnesss   duration  end_of_fade_in  key  \\\n",
              "0            0.929030           0.750427  156.96934           0.322    4   \n",
              "1            0.814014           0.727709  271.30730           2.781    2   \n",
              "2            0.566280           0.313092  164.36200           0.218    5   \n",
              "3            0.494403           0.364806   53.78567           0.000    9   \n",
              "4            0.384967           0.304245  156.96934           0.000    1   \n",
              "\n",
              "   key_confidence  loudness  mode  mode_confidence  start_of_fade_out  \\\n",
              "0           0.772   -20.816     0            0.524            142.286   \n",
              "1           0.593    -3.683     0            0.590            253.991   \n",
              "2           0.777    -6.419     1            0.620            157.931   \n",
              "3           0.000   -17.917     0            0.000             53.786   \n",
              "4           0.187    -9.054     1            0.057            146.860   \n",
              "\n",
              "     tempo  time_signature  time_signature_confidence  year  artist_latitude  \\\n",
              "0  127.547               1                      0.168     0         54.31407   \n",
              "1   90.046               4                      0.912  2006         35.14968   \n",
              "2  192.261               1                      0.000  2002         53.47960   \n",
              "3   66.362               4                      0.908  2007         46.81320   \n",
              "4  116.329               4                      1.000  1968         39.60856   \n",
              "\n",
              "   artist_longitude  popularity  \n",
              "0          -2.23001           1  \n",
              "1         -90.04892           1  \n",
              "2          -2.24881           1  \n",
              "3           8.22395           0  \n",
              "4         -75.83013           0  "
            ],
            "text/html": [
              "\n",
              "  <div id=\"df-132752c6-a1f7-4dfe-b422-b175923f9b01\">\n",
              "    <div class=\"colab-df-container\">\n",
              "      <div>\n",
              "<style scoped>\n",
              "    .dataframe tbody tr th:only-of-type {\n",
              "        vertical-align: middle;\n",
              "    }\n",
              "\n",
              "    .dataframe tbody tr th {\n",
              "        vertical-align: top;\n",
              "    }\n",
              "\n",
              "    .dataframe thead th {\n",
              "        text-align: right;\n",
              "    }\n",
              "</style>\n",
              "<table border=\"1\" class=\"dataframe\">\n",
              "  <thead>\n",
              "    <tr style=\"text-align: right;\">\n",
              "      <th></th>\n",
              "      <th>artist_familiarity</th>\n",
              "      <th>artist_hotttnesss</th>\n",
              "      <th>duration</th>\n",
              "      <th>end_of_fade_in</th>\n",
              "      <th>key</th>\n",
              "      <th>key_confidence</th>\n",
              "      <th>loudness</th>\n",
              "      <th>mode</th>\n",
              "      <th>mode_confidence</th>\n",
              "      <th>start_of_fade_out</th>\n",
              "      <th>tempo</th>\n",
              "      <th>time_signature</th>\n",
              "      <th>time_signature_confidence</th>\n",
              "      <th>year</th>\n",
              "      <th>artist_latitude</th>\n",
              "      <th>artist_longitude</th>\n",
              "      <th>popularity</th>\n",
              "    </tr>\n",
              "  </thead>\n",
              "  <tbody>\n",
              "    <tr>\n",
              "      <th>0</th>\n",
              "      <td>0.929030</td>\n",
              "      <td>0.750427</td>\n",
              "      <td>156.96934</td>\n",
              "      <td>0.322</td>\n",
              "      <td>4</td>\n",
              "      <td>0.772</td>\n",
              "      <td>-20.816</td>\n",
              "      <td>0</td>\n",
              "      <td>0.524</td>\n",
              "      <td>142.286</td>\n",
              "      <td>127.547</td>\n",
              "      <td>1</td>\n",
              "      <td>0.168</td>\n",
              "      <td>0</td>\n",
              "      <td>54.31407</td>\n",
              "      <td>-2.23001</td>\n",
              "      <td>1</td>\n",
              "    </tr>\n",
              "    <tr>\n",
              "      <th>1</th>\n",
              "      <td>0.814014</td>\n",
              "      <td>0.727709</td>\n",
              "      <td>271.30730</td>\n",
              "      <td>2.781</td>\n",
              "      <td>2</td>\n",
              "      <td>0.593</td>\n",
              "      <td>-3.683</td>\n",
              "      <td>0</td>\n",
              "      <td>0.590</td>\n",
              "      <td>253.991</td>\n",
              "      <td>90.046</td>\n",
              "      <td>4</td>\n",
              "      <td>0.912</td>\n",
              "      <td>2006</td>\n",
              "      <td>35.14968</td>\n",
              "      <td>-90.04892</td>\n",
              "      <td>1</td>\n",
              "    </tr>\n",
              "    <tr>\n",
              "      <th>2</th>\n",
              "      <td>0.566280</td>\n",
              "      <td>0.313092</td>\n",
              "      <td>164.36200</td>\n",
              "      <td>0.218</td>\n",
              "      <td>5</td>\n",
              "      <td>0.777</td>\n",
              "      <td>-6.419</td>\n",
              "      <td>1</td>\n",
              "      <td>0.620</td>\n",
              "      <td>157.931</td>\n",
              "      <td>192.261</td>\n",
              "      <td>1</td>\n",
              "      <td>0.000</td>\n",
              "      <td>2002</td>\n",
              "      <td>53.47960</td>\n",
              "      <td>-2.24881</td>\n",
              "      <td>1</td>\n",
              "    </tr>\n",
              "    <tr>\n",
              "      <th>3</th>\n",
              "      <td>0.494403</td>\n",
              "      <td>0.364806</td>\n",
              "      <td>53.78567</td>\n",
              "      <td>0.000</td>\n",
              "      <td>9</td>\n",
              "      <td>0.000</td>\n",
              "      <td>-17.917</td>\n",
              "      <td>0</td>\n",
              "      <td>0.000</td>\n",
              "      <td>53.786</td>\n",
              "      <td>66.362</td>\n",
              "      <td>4</td>\n",
              "      <td>0.908</td>\n",
              "      <td>2007</td>\n",
              "      <td>46.81320</td>\n",
              "      <td>8.22395</td>\n",
              "      <td>0</td>\n",
              "    </tr>\n",
              "    <tr>\n",
              "      <th>4</th>\n",
              "      <td>0.384967</td>\n",
              "      <td>0.304245</td>\n",
              "      <td>156.96934</td>\n",
              "      <td>0.000</td>\n",
              "      <td>1</td>\n",
              "      <td>0.187</td>\n",
              "      <td>-9.054</td>\n",
              "      <td>1</td>\n",
              "      <td>0.057</td>\n",
              "      <td>146.860</td>\n",
              "      <td>116.329</td>\n",
              "      <td>4</td>\n",
              "      <td>1.000</td>\n",
              "      <td>1968</td>\n",
              "      <td>39.60856</td>\n",
              "      <td>-75.83013</td>\n",
              "      <td>0</td>\n",
              "    </tr>\n",
              "  </tbody>\n",
              "</table>\n",
              "</div>\n",
              "      <button class=\"colab-df-convert\" onclick=\"convertToInteractive('df-132752c6-a1f7-4dfe-b422-b175923f9b01')\"\n",
              "              title=\"Convert this dataframe to an interactive table.\"\n",
              "              style=\"display:none;\">\n",
              "        \n",
              "  <svg xmlns=\"http://www.w3.org/2000/svg\" height=\"24px\"viewBox=\"0 0 24 24\"\n",
              "       width=\"24px\">\n",
              "    <path d=\"M0 0h24v24H0V0z\" fill=\"none\"/>\n",
              "    <path d=\"M18.56 5.44l.94 2.06.94-2.06 2.06-.94-2.06-.94-.94-2.06-.94 2.06-2.06.94zm-11 1L8.5 8.5l.94-2.06 2.06-.94-2.06-.94L8.5 2.5l-.94 2.06-2.06.94zm10 10l.94 2.06.94-2.06 2.06-.94-2.06-.94-.94-2.06-.94 2.06-2.06.94z\"/><path d=\"M17.41 7.96l-1.37-1.37c-.4-.4-.92-.59-1.43-.59-.52 0-1.04.2-1.43.59L10.3 9.45l-7.72 7.72c-.78.78-.78 2.05 0 2.83L4 21.41c.39.39.9.59 1.41.59.51 0 1.02-.2 1.41-.59l7.78-7.78 2.81-2.81c.8-.78.8-2.07 0-2.86zM5.41 20L4 18.59l7.72-7.72 1.47 1.35L5.41 20z\"/>\n",
              "  </svg>\n",
              "      </button>\n",
              "      \n",
              "  <style>\n",
              "    .colab-df-container {\n",
              "      display:flex;\n",
              "      flex-wrap:wrap;\n",
              "      gap: 12px;\n",
              "    }\n",
              "\n",
              "    .colab-df-convert {\n",
              "      background-color: #E8F0FE;\n",
              "      border: none;\n",
              "      border-radius: 50%;\n",
              "      cursor: pointer;\n",
              "      display: none;\n",
              "      fill: #1967D2;\n",
              "      height: 32px;\n",
              "      padding: 0 0 0 0;\n",
              "      width: 32px;\n",
              "    }\n",
              "\n",
              "    .colab-df-convert:hover {\n",
              "      background-color: #E2EBFA;\n",
              "      box-shadow: 0px 1px 2px rgba(60, 64, 67, 0.3), 0px 1px 3px 1px rgba(60, 64, 67, 0.15);\n",
              "      fill: #174EA6;\n",
              "    }\n",
              "\n",
              "    [theme=dark] .colab-df-convert {\n",
              "      background-color: #3B4455;\n",
              "      fill: #D2E3FC;\n",
              "    }\n",
              "\n",
              "    [theme=dark] .colab-df-convert:hover {\n",
              "      background-color: #434B5C;\n",
              "      box-shadow: 0px 1px 3px 1px rgba(0, 0, 0, 0.15);\n",
              "      filter: drop-shadow(0px 1px 2px rgba(0, 0, 0, 0.3));\n",
              "      fill: #FFFFFF;\n",
              "    }\n",
              "  </style>\n",
              "\n",
              "      <script>\n",
              "        const buttonEl =\n",
              "          document.querySelector('#df-132752c6-a1f7-4dfe-b422-b175923f9b01 button.colab-df-convert');\n",
              "        buttonEl.style.display =\n",
              "          google.colab.kernel.accessAllowed ? 'block' : 'none';\n",
              "\n",
              "        async function convertToInteractive(key) {\n",
              "          const element = document.querySelector('#df-132752c6-a1f7-4dfe-b422-b175923f9b01');\n",
              "          const dataTable =\n",
              "            await google.colab.kernel.invokeFunction('convertToInteractive',\n",
              "                                                     [key], {});\n",
              "          if (!dataTable) return;\n",
              "\n",
              "          const docLinkHtml = 'Like what you see? Visit the ' +\n",
              "            '<a target=\"_blank\" href=https://colab.research.google.com/notebooks/data_table.ipynb>data table notebook</a>'\n",
              "            + ' to learn more about interactive tables.';\n",
              "          element.innerHTML = '';\n",
              "          dataTable['output_type'] = 'display_data';\n",
              "          await google.colab.output.renderOutput(dataTable, element);\n",
              "          const docLink = document.createElement('div');\n",
              "          docLink.innerHTML = docLinkHtml;\n",
              "          element.appendChild(docLink);\n",
              "        }\n",
              "      </script>\n",
              "    </div>\n",
              "  </div>\n",
              "  "
            ]
          },
          "metadata": {},
          "execution_count": 75
        }
      ]
    },
    {
      "cell_type": "code",
      "source": [
        "from sklearn.model_selection import train_test_split\n",
        "X_train, X_test, y_train, y_test = train_test_split(merged_df.drop(columns = ['popularity']), merged_df['popularity'], test_size=0.3, random_state=42)"
      ],
      "metadata": {
        "id": "cn8HQxRDkm-k"
      },
      "execution_count": 76,
      "outputs": []
    },
    {
      "cell_type": "code",
      "source": [
        "from sklearn.preprocessing import MinMaxScaler\n",
        "\n",
        "scaler = MinMaxScaler()\n",
        "X_train = scaler.fit_transform(X_train)\n",
        "X_test = scaler.transform(X_test)"
      ],
      "metadata": {
        "id": "gpB4zyzknhQj"
      },
      "execution_count": 80,
      "outputs": []
    },
    {
      "cell_type": "code",
      "source": [
        "## random forest classfier\n",
        "\n"
      ],
      "metadata": {
        "id": "bvFbAJM0hhtJ"
      },
      "execution_count": null,
      "outputs": []
    },
    {
      "cell_type": "code",
      "source": [
        "## Xgboost\n",
        "\n"
      ],
      "metadata": {
        "id": "_A_2xPlwhmYF"
      },
      "execution_count": null,
      "outputs": []
    },
    {
      "cell_type": "code",
      "source": [
        "## Gradient Boosting\n",
        "from sklearn.ensemble import GradientBoostingClassifier\n",
        "clf = GradientBoostingClassifier(n_estimators=100, learning_rate=1.0, max_depth=1, random_state=0).fit(X_train, y_train)\n",
        "clf.score(X_test, y_test)"
      ],
      "metadata": {
        "colab": {
          "base_uri": "https://localhost:8080/",
          "height": 226
        },
        "id": "Cf9Q0vM8i_-K",
        "outputId": "528c97c2-50c4-44e7-dd9b-42b8b23022d6"
      },
      "execution_count": 1,
      "outputs": [
        {
          "output_type": "error",
          "ename": "NameError",
          "evalue": "ignored",
          "traceback": [
            "\u001b[0;31m---------------------------------------------------------------------------\u001b[0m",
            "\u001b[0;31mNameError\u001b[0m                                 Traceback (most recent call last)",
            "\u001b[0;32m<ipython-input-1-82a991c4dd37>\u001b[0m in \u001b[0;36m<module>\u001b[0;34m\u001b[0m\n\u001b[1;32m      1\u001b[0m \u001b[0;31m## Gradient Boosting\u001b[0m\u001b[0;34m\u001b[0m\u001b[0;34m\u001b[0m\u001b[0m\n\u001b[1;32m      2\u001b[0m \u001b[0;32mfrom\u001b[0m \u001b[0msklearn\u001b[0m\u001b[0;34m.\u001b[0m\u001b[0mensemble\u001b[0m \u001b[0;32mimport\u001b[0m \u001b[0mGradientBoostingClassifier\u001b[0m\u001b[0;34m\u001b[0m\u001b[0;34m\u001b[0m\u001b[0m\n\u001b[0;32m----> 3\u001b[0;31m \u001b[0mclf\u001b[0m \u001b[0;34m=\u001b[0m \u001b[0mGradientBoostingClassifier\u001b[0m\u001b[0;34m(\u001b[0m\u001b[0mn_estimators\u001b[0m\u001b[0;34m=\u001b[0m\u001b[0;36m100\u001b[0m\u001b[0;34m,\u001b[0m \u001b[0mlearning_rate\u001b[0m\u001b[0;34m=\u001b[0m\u001b[0;36m1.0\u001b[0m\u001b[0;34m,\u001b[0m \u001b[0mmax_depth\u001b[0m\u001b[0;34m=\u001b[0m\u001b[0;36m1\u001b[0m\u001b[0;34m,\u001b[0m \u001b[0mrandom_state\u001b[0m\u001b[0;34m=\u001b[0m\u001b[0;36m0\u001b[0m\u001b[0;34m)\u001b[0m\u001b[0;34m.\u001b[0m\u001b[0mfit\u001b[0m\u001b[0;34m(\u001b[0m\u001b[0mX_train\u001b[0m\u001b[0;34m,\u001b[0m \u001b[0my_train\u001b[0m\u001b[0;34m)\u001b[0m\u001b[0;34m\u001b[0m\u001b[0;34m\u001b[0m\u001b[0m\n\u001b[0m\u001b[1;32m      4\u001b[0m \u001b[0mclf\u001b[0m\u001b[0;34m.\u001b[0m\u001b[0mscore\u001b[0m\u001b[0;34m(\u001b[0m\u001b[0mX_test\u001b[0m\u001b[0;34m,\u001b[0m \u001b[0my_test\u001b[0m\u001b[0;34m)\u001b[0m\u001b[0;34m\u001b[0m\u001b[0;34m\u001b[0m\u001b[0m\n",
            "\u001b[0;31mNameError\u001b[0m: name 'X_train' is not defined"
          ]
        }
      ]
    },
    {
      "cell_type": "code",
      "source": [
        "## KNN\n",
        "# Use the KNN classifier to fit data:\n",
        "from sklearn.neighbors import KNeighborsClassifier\n",
        "from sklearn.metrics import accuracy_score\n",
        "from sklearn.model_selection import cross_val_score\n",
        "\n",
        "classifier = KNeighborsClassifier(n_neighbors=5)\n",
        "classifier.fit(X_train, y_train) \n",
        "\n",
        "# Predict y data with classifier: \n",
        "y_predict = classifier.predict(X_test)"
      ],
      "metadata": {
        "id": "v2DHDccThomC"
      },
      "execution_count": null,
      "outputs": []
    },
    {
      "cell_type": "code",
      "source": [
        "# cross validation\n",
        "metric = accuracy_score\n",
        "knn_scores = cross_val_score(classifier, X_train, y_train, cv=5, scoring=metric)\n",
        "# rf_scores = cross_val_score(rf, X_train, y_train, cv=5, scoring=metric)\n",
        "# svm_scores = cross_val_score(svm, X_train, y_train, cv=5, scoring=metric)\n",
        "\n",
        "print(\"KNN mean score:\", knn_scores.mean())\n",
        "# print(\"Random Forest mean score:\", rf_scores.mean())\n",
        "# print(\"SVM mean score:\", svm_scores.mean())"
      ],
      "metadata": {
        "id": "qrhn5DCMnlLk"
      },
      "execution_count": null,
      "outputs": []
    },
    {
      "cell_type": "code",
      "source": [
        "best_model = None\n",
        "best_score = 0\n",
        "\n",
        "if lr_score > best_score:\n",
        "    best_score = lr_score\n",
        "    best_model = lr_model\n",
        "    \n",
        "if rf_score > best_score:\n",
        "    best_score = rf_score\n",
        "    best_model = rf_model\n",
        "    \n",
        "if svm_score > best_score:\n",
        "    best_score = svm_score\n",
        "    best_model = svm_model"
      ],
      "metadata": {
        "id": "r1Kdv43borCN"
      },
      "execution_count": null,
      "outputs": []
    },
    {
      "cell_type": "code",
      "source": [
        "## use the best model and fine tuning the parameters\n",
        "from sklearn.model_selection import RandomizedSearchCV\n",
        "\n",
        "params = {'learning_rate':[0.1,0.2,0.3],\n",
        "          'max_depth':[2,4,5],\n",
        "          'max_features':[0.2,0.25,0.3,0.35,0.4]}\n",
        "\n",
        "param_space = {\n",
        "    'learning_rate': [0.001, 0.01, 0.1],\n",
        "    'max_depth': [3, 5, 7],\n",
        "    'n_estimators': [50, 100, 150],\n",
        "    'gamma': [0, 0.1, 0.2]\n",
        "}\n",
        "\n",
        "random_search = RandomizedSearchCV(\n",
        "    estimator=best_model,\n",
        "    param_distributions= params,\n",
        "    n_iter=num_iterations,\n",
        "    scoring=metric,\n",
        "    cv=5\n",
        ")\n",
        "\n",
        "random_search.fit(X_train, y_train)\n",
        "\n",
        "best_params = random_search.best_params_"
      ],
      "metadata": {
        "id": "O4X2WlreoX3n"
      },
      "execution_count": null,
      "outputs": []
    }
  ],
  "metadata": {
    "kernelspec": {
      "display_name": "Python 3 (ipykernel)",
      "language": "python",
      "name": "python3"
    },
    "language_info": {
      "codemirror_mode": {
        "name": "ipython",
        "version": 3
      },
      "file_extension": ".py",
      "mimetype": "text/x-python",
      "name": "python",
      "nbconvert_exporter": "python",
      "pygments_lexer": "ipython3",
      "version": "3.10.9"
    },
    "colab": {
      "provenance": [],
      "include_colab_link": true
    }
  },
  "nbformat": 4,
  "nbformat_minor": 0
}